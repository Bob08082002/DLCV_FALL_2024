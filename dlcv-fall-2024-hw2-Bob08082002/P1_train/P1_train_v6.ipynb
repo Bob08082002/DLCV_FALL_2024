{
 "cells": [
  {
   "cell_type": "markdown",
   "metadata": {},
   "source": [
    "## Import library"
   ]
  },
  {
   "cell_type": "markdown",
   "metadata": {},
   "source": [
    "packages allowed for use during inference"
   ]
  },
  {
   "cell_type": "code",
   "execution_count": 1,
   "metadata": {},
   "outputs": [],
   "source": [
    "import os\n",
    "import numpy as np\n",
    "\n",
    "import torch\n",
    "import torch.nn as nn\n",
    "import torch.optim as optim\n",
    "from torch.optim.lr_scheduler import ReduceLROnPlateau, CosineAnnealingLR\n",
    "from torch.utils.data import DataLoader, Dataset\n",
    "import torch.nn.functional as F\n",
    "from torchvision import models, transforms\n",
    "import torchvision\n",
    "\n",
    "import imageio as imageio\n",
    "import matplotlib.pyplot as plt\n",
    "from PIL import Image\n",
    "from tqdm import tqdm\n",
    "\n",
    "from modules_v6 import ContextUnet\n",
    "from P1_CustomDataset import P1_CustomDataset\n",
    "from P1_CombinedDataset import P1_CombinedDataset"
   ]
  },
  {
   "cell_type": "markdown",
   "metadata": {},
   "source": [
    "packages during training"
   ]
  },
  {
   "cell_type": "markdown",
   "metadata": {},
   "source": [
    "## Hyperparameters"
   ]
  },
  {
   "cell_type": "code",
   "execution_count": 2,
   "metadata": {},
   "outputs": [
    {
     "name": "stdout",
     "output_type": "stream",
     "text": [
      "True\n"
     ]
    }
   ],
   "source": [
    "BATCH_SIZE = 200\n",
    "device = torch.device(\"cuda\" if torch.cuda.is_available() else \"cpu\")\n",
    "print(torch.cuda.is_available())"
   ]
  },
  {
   "cell_type": "markdown",
   "metadata": {},
   "source": [
    "## Define Custom Dataset"
   ]
  },
  {
   "cell_type": "markdown",
   "metadata": {},
   "source": [
    "training dataset的mean & std"
   ]
  },
  {
   "cell_type": "code",
   "execution_count": 3,
   "metadata": {},
   "outputs": [],
   "source": [
    "train_mean = [0.5, 0.5, 0.5]\n",
    "train_std = [0.5, 0.5, 0.5]"
   ]
  },
  {
   "cell_type": "markdown",
   "metadata": {},
   "source": [
    "建train transform和val transform\n",
    "\n",
    "val transform和test transform一樣"
   ]
  },
  {
   "cell_type": "code",
   "execution_count": 4,
   "metadata": {},
   "outputs": [],
   "source": [
    "# Data Transformations\n",
    "transform_train = transforms.Compose([\n",
    "    transforms.Resize((28, 28)),\n",
    "    transforms.ToTensor(),\n",
    "    transforms.Normalize(mean=train_mean, std=train_std),\n",
    "])"
   ]
  },
  {
   "cell_type": "markdown",
   "metadata": {},
   "source": [
    "用P1_CustomDataset分別產生兩個資料集的train dataset，再將兩個dataset合成一個dataset，並產生trainloader"
   ]
  },
  {
   "cell_type": "code",
   "execution_count": 5,
   "metadata": {},
   "outputs": [
    {
     "name": "stdout",
     "output_type": "stream",
     "text": [
      "678\n"
     ]
    }
   ],
   "source": [
    "train_dataset_MNISTM = P1_CustomDataset(csv_file='../hw2_data/digits/mnistm/train.csv', root_dir='../hw2_data/digits/mnistm/data', transform=transform_train)\n",
    "train_dataset_SVHN = P1_CustomDataset(csv_file='../hw2_data/digits/svhn/train.csv', root_dir='../hw2_data/digits/svhn/data', transform=transform_train)\n",
    "combined_dataset = P1_CombinedDataset(train_dataset_MNISTM, train_dataset_SVHN)\n",
    "\n",
    "combined_loader = DataLoader(combined_dataset, batch_size=BATCH_SIZE, shuffle=True, num_workers=1)\n",
    "print(len(combined_loader))"
   ]
  },
  {
   "cell_type": "code",
   "execution_count": 6,
   "metadata": {},
   "outputs": [
    {
     "name": "stdout",
     "output_type": "stream",
     "text": [
      "type(image_first_batch):  <class 'torch.Tensor'>\n",
      "image_first_batch.shape:  torch.Size([200, 3, 28, 28])\n",
      "type(label_first_batch):  <class 'list'>\n",
      "label_dataset.shape:  torch.Size([200])\n",
      "label_image.shape:  torch.Size([200])\n",
      "normalized pixel value: tensor(0.8275)\n",
      "label_dataset (should be integer 0 ~ 1): tensor(1)\n",
      "label_image (should be integer 0 ~ 9): tensor(1)\n"
     ]
    }
   ],
   "source": [
    "# print shape\n",
    "image_first_batch, label_first_batch = next(iter(combined_loader))  #get first batch's image & mask \n",
    "label_dataset, label_image = label_first_batch\n",
    "print(\"type(image_first_batch): \", type(image_first_batch))\n",
    "print(\"image_first_batch.shape: \", image_first_batch.shape)\n",
    "print(\"type(label_first_batch): \", type(label_first_batch))\n",
    "print(\"label_dataset.shape: \", label_dataset.shape)\n",
    "print(\"label_image.shape: \", label_image.shape)\n",
    "# get some values\n",
    "print(\"normalized pixel value:\", image_first_batch[3][0][9][8])\n",
    "print(\"label_dataset (should be integer 0 ~ 1):\",label_dataset[3])\n",
    "print(\"label_image (should be integer 0 ~ 9):\",label_image[3])"
   ]
  },
  {
   "cell_type": "code",
   "execution_count": 7,
   "metadata": {},
   "outputs": [
    {
     "name": "stdout",
     "output_type": "stream",
     "text": [
      "dataset label of first batch: tensor([0, 0, 0, 1, 1, 1, 1, 0, 1, 0, 1, 0, 0, 1, 0, 0, 0, 1, 1, 0, 1, 0, 1, 1,\n",
      "        1, 0, 1, 0, 1, 1, 1, 1, 1, 1, 1, 0, 0, 0, 1, 0, 1, 1, 0, 0, 1, 0, 1, 0,\n",
      "        0, 1, 0, 1, 0, 1, 0, 0, 0, 1, 1, 1, 1, 0, 0, 0, 1, 1, 1, 0, 0, 0, 1, 1,\n",
      "        1, 1, 0, 0, 0, 1, 1, 1, 1, 0, 0, 1, 0, 1, 1, 0, 1, 0, 0, 0, 1, 0, 0, 1,\n",
      "        1, 0, 1, 1, 1, 1, 0, 1, 1, 0, 1, 0, 0, 0, 0, 0, 0, 1, 1, 0, 1, 0, 1, 0,\n",
      "        1, 0, 0, 1, 0, 1, 1, 1, 1, 1, 1, 0, 0, 1, 1, 0, 1, 0, 1, 0, 1, 0, 0, 1,\n",
      "        0, 1, 1, 0, 0, 0, 1, 1, 0, 1, 0, 0, 1, 1, 1, 1, 1, 0, 0, 1, 0, 1, 1, 1,\n",
      "        1, 0, 0, 0, 1, 1, 0, 0, 1, 1, 0, 1, 1, 1, 0, 1, 1, 0, 0, 1, 1, 1, 1, 1,\n",
      "        0, 0, 0, 0, 0, 1, 0, 0])\n"
     ]
    }
   ],
   "source": [
    "print(\"dataset label of first batch:\", label_dataset) # two datasets are mixed together"
   ]
  },
  {
   "cell_type": "code",
   "execution_count": 8,
   "metadata": {},
   "outputs": [
    {
     "name": "stderr",
     "output_type": "stream",
     "text": [
      "Clipping input data to the valid range for imshow with RGB data ([0..1] for floats or [0..255] for integers).\n"
     ]
    },
    {
     "name": "stdout",
     "output_type": "stream",
     "text": [
      "label of dataset: tensor(0)\n",
      "label of image: tensor(0)\n",
      "shape:  (28, 28, 3)\n"
     ]
    },
    {
     "data": {
      "image/png": "[encoded data removed]",
      "text/plain": [
       "<Figure size 640x480 with 1 Axes>"
      ]
     },
     "metadata": {},
     "output_type": "display_data"
    }
   ],
   "source": [
    "# visualize with normalization\n",
    "idx = 0\n",
    "first_image = image_first_batch[idx]\n",
    "first_label_dataset = label_dataset[idx]\n",
    "first_label_image = label_image[idx]\n",
    "print(\"label of dataset:\",first_label_dataset)\n",
    "print(\"label of image:\",first_label_image)\n",
    "\n",
    "# Convert the tensor to numpy array\n",
    "image_np = first_image.numpy()\n",
    "# Since matplotlib expects images in H x W x C format, we need to transpose it\n",
    "image_np = np.transpose(image_np, (1, 2, 0))\n",
    "\n",
    "print(\"shape: \",image_np.shape) # need to convert back to 28*28 during inference (in digit_classifier.py)\n",
    "\n",
    "# Plot the image\n",
    "plt.imshow(image_np)\n",
    "plt.axis('off')  # Turn off axis numbers and ticks\n",
    "plt.show()"
   ]
  },
  {
   "cell_type": "markdown",
   "metadata": {},
   "source": [
    "## Build Model"
   ]
  },
  {
   "cell_type": "markdown",
   "metadata": {},
   "source": [
    "instance model and put it on device"
   ]
  },
  {
   "cell_type": "code",
   "execution_count": 9,
   "metadata": {},
   "outputs": [],
   "source": [
    "net = ContextUnet(in_channels=3, height=28, width=28, n_feat=128, n_cfeat=20, n_downs=2).to(device)"
   ]
  },
  {
   "cell_type": "code",
   "execution_count": 10,
   "metadata": {},
   "outputs": [
    {
     "name": "stdout",
     "output_type": "stream",
     "text": [
      "torch.Size([16, 3, 28, 28])\n",
      "torch.Size([16, 20])\n",
      "torch.Size([16, 1])\n"
     ]
    }
   ],
   "source": [
    "#print output shape\n",
    "x = torch.randn(16,3,28,28).to(device) # dummy input也放到device\n",
    "y = torch.randint(0, 20, (16,)).to('cuda')\n",
    "y = F.one_hot(y, num_classes=20).float()\n",
    "t_tensor = torch.full((16,), 9, device='cuda').float().unsqueeze(-1)\n",
    "#dataset_label = torch.randint(0, 2, (10,)).to(device)\n",
    "output = net(x, t_tensor, y)\n",
    "print(output.shape)\n",
    "print(y.shape)\n",
    "print(t_tensor.shape)\n"
   ]
  },
  {
   "cell_type": "markdown",
   "metadata": {},
   "source": [
    "## Training"
   ]
  },
  {
   "cell_type": "markdown",
   "metadata": {},
   "source": [
    "Loss and Optimizer and epoch_n"
   ]
  },
  {
   "cell_type": "code",
   "execution_count": 11,
   "metadata": {},
   "outputs": [],
   "source": [
    "# number of epoch\n",
    "num_epochs = 50\n",
    "# DDPM paper suggest using MSE as noise loss\n",
    "criterion = nn.MSELoss()\n",
    "# Initialize optimizer\n",
    "optimizer = optim.Adam(net.parameters(), lr=0.0001, weight_decay=1e-5)\n",
    "\n",
    "# Different base learning rate and update strategy #!!!!!!\n",
    "#scheduler = torch.optim.lr_scheduler.StepLR(optimizer, step_size=10, gamma=0.5, last_epoch=-1)\n",
    "#scheduler = ReduceLROnPlateau(optimizer, mode='max', factor=0.5, patience=5)  #if 10個epoch沒進步==> lr *= 0.5\n",
    "scheduler = CosineAnnealingLR(optimizer, T_max=num_epochs * len(combined_loader), eta_min = 0) # update lr each batch\n",
    "\n",
    "# total time steps\n",
    "T = 350\n"
   ]
  },
  {
   "cell_type": "markdown",
   "metadata": {},
   "source": [
    "#### DDPM training functions"
   ]
  },
  {
   "cell_type": "markdown",
   "metadata": {},
   "source": [
    "alpha_t and alpha_hat_t of DDPM"
   ]
  },
  {
   "cell_type": "code",
   "execution_count": 12,
   "metadata": {},
   "outputs": [],
   "source": [
    "# 1. beta\n",
    "def beta_scheduler(n_timestep=1000, linear_start=1e-4, linear_end=2e-2):\n",
    "    betas = torch.linspace(linear_start, linear_end, n_timestep, dtype=torch.float64)\n",
    "    return betas\n",
    "beta_1 = 1e-4\n",
    "beta_T = 2e-2\n",
    "beta = beta_scheduler(T, beta_1, beta_T) \n",
    "# 2. alpha\n",
    "alpha = 1 - beta\n",
    "# 3. alpha_hat\n",
    "# alpha hat = [alpha[0], alpha[0]*alpha[1], alpha[0]*alpha[1]*alpha[2], ... ,alpha[0]*...*alpha[T-1])] \n",
    "alpha_hat = torch.zeros_like(alpha) # tensor with len T, alpha_hat.shape = T\n",
    "alpha_hat[0] = alpha[0] # Set the first element\n",
    "for i in range(1, alpha.shape[0]):\n",
    "    alpha_hat[i] = alpha_hat[i - 1] * alpha[i]\n",
    "\n",
    "\n",
    "torch.save(beta, './alpha_tensors/beta_tensor.pt')\n",
    "torch.save(alpha, './alpha_tensors/alpha_tensor.pt')\n",
    "torch.save(alpha_hat, './alpha_tensors/alpha_hat_tensor.pt')"
   ]
  },
  {
   "cell_type": "markdown",
   "metadata": {},
   "source": [
    "functions"
   ]
  },
  {
   "cell_type": "code",
   "execution_count": 13,
   "metadata": {},
   "outputs": [],
   "source": [
    "def noise_x_t(alpha_hat, x_0, t, epsilon):\n",
    "    \"\"\"given x[0](origin image) and t, return x[t](noisy image from x[0] by adding epsilon repeatly t times)\"\"\"\n",
    "    \"\"\"一步登天\"\"\"\n",
    "    \"\"\"epsilon.shape = x_0.shape = N*C*H*W,  t.shape = N\"\"\"\n",
    "    \"\"\"alpha_hat.shape = T, index t = 0 ~ T-1\"\"\"\n",
    "\n",
    "    sqrt_alpha_hat = torch.sqrt(alpha_hat[t]).unsqueeze(1).unsqueeze(1).unsqueeze(1) # sqrt_alpha_hat.shape = N*1*1*1\n",
    "    sqrt_one_minus_alpha_hat = torch.sqrt(1 - alpha_hat[t]).unsqueeze(1).unsqueeze(1).unsqueeze(1) # sqrt_one_minus_alpha_hat.shape = N*1*1*1\n",
    "\n",
    "    x_t = sqrt_alpha_hat * x_0 + sqrt_one_minus_alpha_hat * epsilon\n",
    "    \n",
    "    return x_t #x[t] is N*C*H*W"
   ]
  },
  {
   "cell_type": "code",
   "execution_count": 14,
   "metadata": {},
   "outputs": [],
   "source": [
    "# given (N, 20) context, return masked context with same shape\n",
    "# ex: original class = 0 ==> one-hot = [1, 0, 0...] ==> if randomly zero out(q = 0.1), return [0, 0, ...]\n",
    "def get_masked_context(context, p=0.9):\n",
    "    mask = torch.bernoulli(torch.ones_like(context) * p)\n",
    "    return context * mask"
   ]
  },
  {
   "cell_type": "markdown",
   "metadata": {},
   "source": [
    "#### training loop (DDPM framework)"
   ]
  },
  {
   "cell_type": "code",
   "execution_count": 15,
   "metadata": {},
   "outputs": [
    {
     "name": "stderr",
     "output_type": "stream",
     "text": [
      "Epoch 1/50: 100%|██████████████████████████████████████████████████████████████████████████████████████████████| 678/678 [05:59<00:00,  1.88batch/s]\n"
     ]
    },
    {
     "name": "stdout",
     "output_type": "stream",
     "text": [
      "Epoch 1/50 - Loss: 0.0912\n",
      "Learning rate 9.990133642141363e-05\n",
      "Saved model to ../checkpoint_model/P1/P1_model_ver6_1_epoch0.pth. Training loss = 0.09118068385264866\n"
     ]
    },
    {
     "name": "stderr",
     "output_type": "stream",
     "text": [
      "Epoch 2/50: 100%|██████████████████████████████████████████████████████████████████████████████████████████████| 678/678 [06:00<00:00,  1.88batch/s]\n"
     ]
    },
    {
     "name": "stdout",
     "output_type": "stream",
     "text": [
      "Epoch 2/50 - Loss: 0.0536\n",
      "Learning rate 9.960573506572393e-05\n"
     ]
    },
    {
     "name": "stderr",
     "output_type": "stream",
     "text": [
      "Epoch 3/50: 100%|██████████████████████████████████████████████████████████████████████████████████████████████| 678/678 [06:00<00:00,  1.88batch/s]\n"
     ]
    },
    {
     "name": "stdout",
     "output_type": "stream",
     "text": [
      "Epoch 3/50 - Loss: 0.0471\n",
      "Learning rate 9.911436253643464e-05\n"
     ]
    },
    {
     "name": "stderr",
     "output_type": "stream",
     "text": [
      "Epoch 4/50: 100%|██████████████████████████████████████████████████████████████████████████████████████████████| 678/678 [06:00<00:00,  1.88batch/s]\n"
     ]
    },
    {
     "name": "stdout",
     "output_type": "stream",
     "text": [
      "Epoch 4/50 - Loss: 0.0445\n",
      "Learning rate 9.842915805643152e-05\n"
     ]
    },
    {
     "name": "stderr",
     "output_type": "stream",
     "text": [
      "Epoch 5/50: 100%|██████████████████████████████████████████████████████████████████████████████████████████████| 678/678 [06:00<00:00,  1.88batch/s]\n"
     ]
    },
    {
     "name": "stdout",
     "output_type": "stream",
     "text": [
      "Epoch 5/50 - Loss: 0.0424\n",
      "Learning rate 9.755282581475782e-05\n"
     ]
    },
    {
     "name": "stderr",
     "output_type": "stream",
     "text": [
      "Epoch 6/50: 100%|██████████████████████████████████████████████████████████████████████████████████████████████| 678/678 [06:00<00:00,  1.88batch/s]\n"
     ]
    },
    {
     "name": "stdout",
     "output_type": "stream",
     "text": [
      "Epoch 6/50 - Loss: 0.0409\n",
      "Learning rate 9.648882429441255e-05\n"
     ]
    },
    {
     "name": "stderr",
     "output_type": "stream",
     "text": [
      "Epoch 7/50: 100%|██████████████████████████████████████████████████████████████████████████████████████████████| 678/678 [06:00<00:00,  1.88batch/s]\n"
     ]
    },
    {
     "name": "stdout",
     "output_type": "stream",
     "text": [
      "Epoch 7/50 - Loss: 0.0399\n",
      "Learning rate 9.524135262330088e-05\n"
     ]
    },
    {
     "name": "stderr",
     "output_type": "stream",
     "text": [
      "Epoch 8/50: 100%|██████████████████████████████████████████████████████████████████████████████████████████████| 678/678 [06:00<00:00,  1.88batch/s]\n"
     ]
    },
    {
     "name": "stdout",
     "output_type": "stream",
     "text": [
      "Epoch 8/50 - Loss: 0.0388\n",
      "Learning rate 9.381533400219307e-05\n"
     ]
    },
    {
     "name": "stderr",
     "output_type": "stream",
     "text": [
      "Epoch 9/50: 100%|██████████████████████████████████████████████████████████████████████████████████████████████| 678/678 [06:00<00:00,  1.88batch/s]\n"
     ]
    },
    {
     "name": "stdout",
     "output_type": "stream",
     "text": [
      "Epoch 9/50 - Loss: 0.0383\n",
      "Learning rate 9.221639627510047e-05\n"
     ]
    },
    {
     "name": "stderr",
     "output_type": "stream",
     "text": [
      "Epoch 10/50: 100%|█████████████████████████████████████████████████████████████████████████████████████████████| 678/678 [06:00<00:00,  1.88batch/s]\n"
     ]
    },
    {
     "name": "stdout",
     "output_type": "stream",
     "text": [
      "Epoch 10/50 - Loss: 0.0377\n",
      "Learning rate 9.045084971874724e-05\n"
     ]
    },
    {
     "name": "stderr",
     "output_type": "stream",
     "text": [
      "Epoch 11/50: 100%|█████████████████████████████████████████████████████████████████████████████████████████████| 678/678 [06:00<00:00,  1.88batch/s]\n"
     ]
    },
    {
     "name": "stdout",
     "output_type": "stream",
     "text": [
      "Epoch 11/50 - Loss: 0.0373\n",
      "Learning rate 8.852566213878943e-05\n",
      "Saved model to ../checkpoint_model/P1/P1_model_ver6_1_epoch10.pth. Training loss = 0.03728151605752981\n"
     ]
    },
    {
     "name": "stderr",
     "output_type": "stream",
     "text": [
      "Epoch 12/50: 100%|█████████████████████████████████████████████████████████████████████████████████████████████| 678/678 [06:00<00:00,  1.88batch/s]\n"
     ]
    },
    {
     "name": "stdout",
     "output_type": "stream",
     "text": [
      "Epoch 12/50 - Loss: 0.0366\n",
      "Learning rate 8.644843137107093e-05\n"
     ]
    },
    {
     "name": "stderr",
     "output_type": "stream",
     "text": [
      "Epoch 13/50: 100%|█████████████████████████████████████████████████████████████████████████████████████████████| 678/678 [06:00<00:00,  1.88batch/s]\n"
     ]
    },
    {
     "name": "stdout",
     "output_type": "stream",
     "text": [
      "Epoch 13/50 - Loss: 0.0368\n",
      "Learning rate 8.422735529643484e-05\n"
     ]
    },
    {
     "name": "stderr",
     "output_type": "stream",
     "text": [
      "Epoch 14/50: 100%|█████████████████████████████████████████████████████████████████████████████████████████████| 678/678 [06:00<00:00,  1.88batch/s]\n"
     ]
    },
    {
     "name": "stdout",
     "output_type": "stream",
     "text": [
      "Epoch 14/50 - Loss: 0.0361\n",
      "Learning rate 8.18711994874348e-05\n"
     ]
    },
    {
     "name": "stderr",
     "output_type": "stream",
     "text": [
      "Epoch 15/50: 100%|█████████████████████████████████████████████████████████████████████████████████████████████| 678/678 [06:00<00:00,  1.88batch/s]\n"
     ]
    },
    {
     "name": "stdout",
     "output_type": "stream",
     "text": [
      "Epoch 15/50 - Loss: 0.0361\n",
      "Learning rate 7.938926261462396e-05\n"
     ]
    },
    {
     "name": "stderr",
     "output_type": "stream",
     "text": [
      "Epoch 16/50: 100%|█████████████████████████████████████████████████████████████████████████████████████████████| 678/678 [06:00<00:00,  1.88batch/s]\n"
     ]
    },
    {
     "name": "stdout",
     "output_type": "stream",
     "text": [
      "Epoch 16/50 - Loss: 0.0356\n",
      "Learning rate 7.679133974895011e-05\n"
     ]
    },
    {
     "name": "stderr",
     "output_type": "stream",
     "text": [
      "Epoch 17/50: 100%|█████████████████████████████████████████████████████████████████████████████████████████████| 678/678 [06:00<00:00,  1.88batch/s]\n"
     ]
    },
    {
     "name": "stdout",
     "output_type": "stream",
     "text": [
      "Epoch 17/50 - Loss: 0.0354\n",
      "Learning rate 7.408768370508605e-05\n"
     ]
    },
    {
     "name": "stderr",
     "output_type": "stream",
     "text": [
      "Epoch 18/50: 100%|█████████████████████████████████████████████████████████████████████████████████████████████| 678/678 [06:00<00:00,  1.88batch/s]\n"
     ]
    },
    {
     "name": "stdout",
     "output_type": "stream",
     "text": [
      "Epoch 18/50 - Loss: 0.0350\n",
      "Learning rate 7.128896457825382e-05\n"
     ]
    },
    {
     "name": "stderr",
     "output_type": "stream",
     "text": [
      "Epoch 19/50: 100%|█████████████████████████████████████████████████████████████████████████████████████████████| 678/678 [06:00<00:00,  1.88batch/s]\n"
     ]
    },
    {
     "name": "stdout",
     "output_type": "stream",
     "text": [
      "Epoch 19/50 - Loss: 0.0350\n",
      "Learning rate 6.840622763423391e-05\n"
     ]
    },
    {
     "name": "stderr",
     "output_type": "stream",
     "text": [
      "Epoch 20/50: 100%|█████████████████████████████████████████████████████████████████████████████████████████████| 678/678 [06:00<00:00,  1.88batch/s]\n"
     ]
    },
    {
     "name": "stdout",
     "output_type": "stream",
     "text": [
      "Epoch 20/50 - Loss: 0.0348\n",
      "Learning rate 6.54508497187475e-05\n"
     ]
    },
    {
     "name": "stderr",
     "output_type": "stream",
     "text": [
      "Epoch 21/50: 100%|█████████████████████████████████████████████████████████████████████████████████████████████| 678/678 [06:01<00:00,  1.88batch/s]\n"
     ]
    },
    {
     "name": "stdout",
     "output_type": "stream",
     "text": [
      "Epoch 21/50 - Loss: 0.0348\n",
      "Learning rate 6.243449435824276e-05\n",
      "Saved model to ../checkpoint_model/P1/P1_model_ver6_1_epoch20.pth. Training loss = 0.03482496674147855\n"
     ]
    },
    {
     "name": "stderr",
     "output_type": "stream",
     "text": [
      "Epoch 22/50: 100%|█████████████████████████████████████████████████████████████████████████████████████████████| 678/678 [06:00<00:00,  1.88batch/s]\n"
     ]
    },
    {
     "name": "stdout",
     "output_type": "stream",
     "text": [
      "Epoch 22/50 - Loss: 0.0347\n",
      "Learning rate 5.9369065729286394e-05\n"
     ]
    },
    {
     "name": "stderr",
     "output_type": "stream",
     "text": [
      "Epoch 23/50: 100%|█████████████████████████████████████████████████████████████████████████████████████████████| 678/678 [06:00<00:00,  1.88batch/s]\n"
     ]
    },
    {
     "name": "stdout",
     "output_type": "stream",
     "text": [
      "Epoch 23/50 - Loss: 0.0339\n",
      "Learning rate 5.62666616782154e-05\n"
     ]
    },
    {
     "name": "stderr",
     "output_type": "stream",
     "text": [
      "Epoch 24/50: 100%|█████████████████████████████████████████████████████████████████████████████████████████████| 678/678 [06:00<00:00,  1.88batch/s]\n"
     ]
    },
    {
     "name": "stdout",
     "output_type": "stream",
     "text": [
      "Epoch 24/50 - Loss: 0.0340\n",
      "Learning rate 5.313952597646575e-05\n"
     ]
    },
    {
     "name": "stderr",
     "output_type": "stream",
     "text": [
      "Epoch 25/50: 100%|█████████████████████████████████████████████████████████████████████████████████████████████| 678/678 [06:00<00:00,  1.88batch/s]\n"
     ]
    },
    {
     "name": "stdout",
     "output_type": "stream",
     "text": [
      "Epoch 25/50 - Loss: 0.0336\n",
      "Learning rate 5.000000000000017e-05\n"
     ]
    },
    {
     "name": "stderr",
     "output_type": "stream",
     "text": [
      "Epoch 26/50: 100%|█████████████████████████████████████████████████████████████████████████████████████████████| 678/678 [06:00<00:00,  1.88batch/s]\n"
     ]
    },
    {
     "name": "stdout",
     "output_type": "stream",
     "text": [
      "Epoch 26/50 - Loss: 0.0337\n",
      "Learning rate 4.686047402353449e-05\n"
     ]
    },
    {
     "name": "stderr",
     "output_type": "stream",
     "text": [
      "Epoch 27/50: 100%|█████████████████████████████████████████████████████████████████████████████████████████████| 678/678 [06:00<00:00,  1.88batch/s]\n"
     ]
    },
    {
     "name": "stdout",
     "output_type": "stream",
     "text": [
      "Epoch 27/50 - Loss: 0.0337\n",
      "Learning rate 4.373333832178499e-05\n"
     ]
    },
    {
     "name": "stderr",
     "output_type": "stream",
     "text": [
      "Epoch 28/50: 100%|█████████████████████████████████████████████████████████████████████████████████████████████| 678/678 [06:00<00:00,  1.88batch/s]\n"
     ]
    },
    {
     "name": "stdout",
     "output_type": "stream",
     "text": [
      "Epoch 28/50 - Loss: 0.0332\n",
      "Learning rate 4.063093427071397e-05\n"
     ]
    },
    {
     "name": "stderr",
     "output_type": "stream",
     "text": [
      "Epoch 29/50: 100%|█████████████████████████████████████████████████████████████████████████████████████████████| 678/678 [06:00<00:00,  1.88batch/s]\n"
     ]
    },
    {
     "name": "stdout",
     "output_type": "stream",
     "text": [
      "Epoch 29/50 - Loss: 0.0331\n",
      "Learning rate 3.756550564175743e-05\n"
     ]
    },
    {
     "name": "stderr",
     "output_type": "stream",
     "text": [
      "Epoch 30/50: 100%|█████████████████████████████████████████████████████████████████████████████████████████████| 678/678 [06:00<00:00,  1.88batch/s]\n"
     ]
    },
    {
     "name": "stdout",
     "output_type": "stream",
     "text": [
      "Epoch 30/50 - Loss: 0.0330\n",
      "Learning rate 3.4549150281252765e-05\n"
     ]
    },
    {
     "name": "stderr",
     "output_type": "stream",
     "text": [
      "Epoch 31/50: 100%|█████████████████████████████████████████████████████████████████████████████████████████████| 678/678 [06:00<00:00,  1.88batch/s]\n"
     ]
    },
    {
     "name": "stdout",
     "output_type": "stream",
     "text": [
      "Epoch 31/50 - Loss: 0.0330\n",
      "Learning rate 3.159377236576619e-05\n",
      "Saved model to ../checkpoint_model/P1/P1_model_ver6_1_epoch30.pth. Training loss = 0.03302166437603819\n"
     ]
    },
    {
     "name": "stderr",
     "output_type": "stream",
     "text": [
      "Epoch 32/50: 100%|█████████████████████████████████████████████████████████████████████████████████████████████| 678/678 [06:00<00:00,  1.88batch/s]\n"
     ]
    },
    {
     "name": "stdout",
     "output_type": "stream",
     "text": [
      "Epoch 32/50 - Loss: 0.0327\n",
      "Learning rate 2.871103542174646e-05\n"
     ]
    },
    {
     "name": "stderr",
     "output_type": "stream",
     "text": [
      "Epoch 33/50: 100%|█████████████████████████████████████████████████████████████████████████████████████████████| 678/678 [06:00<00:00,  1.88batch/s]\n"
     ]
    },
    {
     "name": "stdout",
     "output_type": "stream",
     "text": [
      "Epoch 33/50 - Loss: 0.0328\n",
      "Learning rate 2.591231629491434e-05\n"
     ]
    },
    {
     "name": "stderr",
     "output_type": "stream",
     "text": [
      "Epoch 34/50: 100%|█████████████████████████████████████████████████████████████████████████████████████████████| 678/678 [06:00<00:00,  1.88batch/s]\n"
     ]
    },
    {
     "name": "stdout",
     "output_type": "stream",
     "text": [
      "Epoch 34/50 - Loss: 0.0324\n",
      "Learning rate 2.3208660251050226e-05\n"
     ]
    },
    {
     "name": "stderr",
     "output_type": "stream",
     "text": [
      "Epoch 35/50: 100%|█████████████████████████████████████████████████████████████████████████████████████████████| 678/678 [06:00<00:00,  1.88batch/s]\n"
     ]
    },
    {
     "name": "stdout",
     "output_type": "stream",
     "text": [
      "Epoch 35/50 - Loss: 0.0326\n",
      "Learning rate 2.0610737385376444e-05\n"
     ]
    },
    {
     "name": "stderr",
     "output_type": "stream",
     "text": [
      "Epoch 36/50: 100%|█████████████████████████████████████████████████████████████████████████████████████████████| 678/678 [06:00<00:00,  1.88batch/s]\n"
     ]
    },
    {
     "name": "stdout",
     "output_type": "stream",
     "text": [
      "Epoch 36/50 - Loss: 0.0323\n",
      "Learning rate 1.8128800512565618e-05\n"
     ]
    },
    {
     "name": "stderr",
     "output_type": "stream",
     "text": [
      "Epoch 37/50: 100%|█████████████████████████████████████████████████████████████████████████████████████████████| 678/678 [06:00<00:00,  1.88batch/s]\n"
     ]
    },
    {
     "name": "stdout",
     "output_type": "stream",
     "text": [
      "Epoch 37/50 - Loss: 0.0323\n",
      "Learning rate 1.577264470356568e-05\n"
     ]
    },
    {
     "name": "stderr",
     "output_type": "stream",
     "text": [
      "Epoch 38/50: 100%|█████████████████████████████████████████████████████████████████████████████████████████████| 678/678 [06:00<00:00,  1.88batch/s]\n"
     ]
    },
    {
     "name": "stdout",
     "output_type": "stream",
     "text": [
      "Epoch 38/50 - Loss: 0.0321\n",
      "Learning rate 1.355156862892954e-05\n"
     ]
    },
    {
     "name": "stderr",
     "output_type": "stream",
     "text": [
      "Epoch 39/50: 100%|█████████████████████████████████████████████████████████████████████████████████████████████| 678/678 [06:00<00:00,  1.88batch/s]\n"
     ]
    },
    {
     "name": "stdout",
     "output_type": "stream",
     "text": [
      "Epoch 39/50 - Loss: 0.0321\n",
      "Learning rate 1.1474337861210647e-05\n"
     ]
    },
    {
     "name": "stderr",
     "output_type": "stream",
     "text": [
      "Epoch 40/50: 100%|█████████████████████████████████████████████████████████████████████████████████████████████| 678/678 [06:00<00:00,  1.88batch/s]\n"
     ]
    },
    {
     "name": "stdout",
     "output_type": "stream",
     "text": [
      "Epoch 40/50 - Loss: 0.0318\n",
      "Learning rate 9.549150281252725e-06\n"
     ]
    },
    {
     "name": "stderr",
     "output_type": "stream",
     "text": [
      "Epoch 41/50: 100%|█████████████████████████████████████████████████████████████████████████████████████████████| 678/678 [06:00<00:00,  1.88batch/s]\n"
     ]
    },
    {
     "name": "stdout",
     "output_type": "stream",
     "text": [
      "Epoch 41/50 - Loss: 0.0321\n",
      "Learning rate 7.783603724899329e-06\n",
      "Saved model to ../checkpoint_model/P1/P1_model_ver6_1_epoch40.pth. Training loss = 0.03208900752386688\n"
     ]
    },
    {
     "name": "stderr",
     "output_type": "stream",
     "text": [
      "Epoch 42/50:  99%|████████████████████████████████████████████████████████████████████████████████████████████▎| 673/678 [05:58<00:02,  1.87batch/s]IOPub message rate exceeded.\n",
      "The Jupyter server will temporarily stop sending output\n",
      "to the client in order to avoid crashing it.\n",
      "To change this limit, set the config variable\n",
      "`--ServerApp.iopub_msg_rate_limit`.\n",
      "\n",
      "Current values:\n",
      "ServerApp.iopub_msg_rate_limit=1000.0 (msgs/sec)\n",
      "ServerApp.rate_limit_window=3.0 (secs)\n",
      "\n"
     ]
    }
   ],
   "source": [
    "# Training Loop\n",
    "model_version = 6   # version 6: combined 2 datasets to 1 dataset + change model\n",
    "training_version = 1 # for name of checkpoint model # train的第幾次\n",
    "\n",
    "train_loss_list = []\n",
    "save_model_loss_list = []\n",
    "lr_list = []\n",
    "\n",
    "beta = beta.to(device)\n",
    "alpha = alpha.to(device)\n",
    "alpha_hat = alpha_hat.to(device)\n",
    "\n",
    "for epoch in range(num_epochs):\n",
    "\n",
    "    net.train() #開啟BN & DROPOUT\n",
    "    train_loss = 0\n",
    "\n",
    "    for images, label_dataset_image in tqdm(combined_loader, desc=f'Epoch {epoch + 1}/{num_epochs}', unit='batch'):  #進度條以batch完成度為趴數\n",
    "        # ========================================================== step1: x0 ~ q(x0) ===========================================================\n",
    "        # x0 is original image: images\n",
    "        dataset_label = label_dataset_image[0]\n",
    "        image_label = label_dataset_image[1]\n",
    "        images, dataset_label, image_label = images.to(device), dataset_label.to(device), image_label.to(device)# model, input output of model are moved to GPU during training\n",
    "        N, C, H, W = images.shape[0], images.shape[1], images.shape[2], images.shape[3]\n",
    "        # ========================================================== step1-1: preprocess of label ===========================================================\n",
    "        # version6: combine two datasets into one\n",
    "        image_label = image_label + 10 * dataset_label \n",
    "        image_label = F.one_hot(image_label, num_classes=20)  # Encode class labels as one-hot vectors, shape = (N, 20)\n",
    "        # Apply masking to the context (class labels)\n",
    "        masked_image_label = get_masked_context(image_label).to(device) # shape = (N, 20) # randomly zero out one-hot vector: [0,0,1,0,..] -> [0,0,0,0,..]\n",
    "\n",
    "        # ==================================================== step2: t ~ Uniform({1,...,T}) =====================================================\n",
    "        t_np = np.random.randint(0, T, size=(N,))  # Sample t from Uniform({0, ..., T-1}) # python is 0-indexing\n",
    "        t = torch.from_numpy(t_np)\n",
    "        t = t.to(device)\n",
    "\n",
    "        # ======================================================= step3: epsilon ~ N(0, 1) =======================================================\n",
    "        noise = torch.randn(N, C, H, W)  # Sample noise from normal distribution with mean 0 and standard deviation 1\n",
    "        noise = noise.to(device)         # dtype = float32     # shape = N* C* H* W\n",
    "\n",
    "        # ===================================== step4: take gradient descent step on noise and predict_noise =====================================\n",
    "        x_t = noise_x_t(alpha_hat=alpha_hat, x_0=images, t=t, epsilon=noise)\n",
    "        x_t = x_t.to(device)\n",
    "\n",
    "        # 10% chance to zero-out # 10% of training is unconditional training\n",
    "        predict_noise = net(x=x_t.float(), t=(t/T), c=masked_image_label.float()) #x=N*C*H*W, t=N, y=N*20 \n",
    "\n",
    "        loss = criterion(noise, predict_noise) # MSE loss\n",
    "        optimizer.zero_grad()\n",
    "        loss.backward()\n",
    "        optimizer.step()\n",
    "\n",
    "\n",
    "        train_loss += loss.item()\n",
    "\n",
    "        scheduler.step() # update lr each batch(cosine scheduler)\n",
    "        \n",
    "\n",
    "\n",
    "    train_loss /= len(combined_loader)\n",
    "\n",
    "\n",
    "    # Logging\n",
    "    print(f'Epoch {epoch + 1}/{num_epochs} - Loss: {train_loss:.4f}')\n",
    "    print(f'Learning rate {scheduler.get_last_lr()[0]}')\n",
    "    train_loss_list.append(train_loss)\n",
    "\n",
    "    #scheduler.step() # update lr each epoch(linear step scheduler)\n",
    "    lr_list.append(scheduler.get_last_lr()[0])\n",
    "\n",
    "    if epoch % 10 == 0:\n",
    "        # save the model state_dict\n",
    "        save_dir = os.path.join(\"../checkpoint_model\", \"P1\", f'P1_model_ver{model_version}_{training_version}_epoch{epoch}.pth')\n",
    "        torch.save(net.state_dict(), save_dir)\n",
    "        save_model_loss_list.append([f'P1_model_ver{model_version}_{training_version}_epoch{epoch}.pth' ,train_loss])\n",
    "        print(f'Saved model to {save_dir}. Training loss = {train_loss}')\n",
    "\n",
    "# save the model state_dict\n",
    "save_dir = os.path.join(\"../checkpoint_model\", \"P1\", f'P1_model_ver{model_version}_{training_version}.pth')\n",
    "torch.save(net.state_dict(), save_dir)\n",
    "print(f'Saved model  to {save_dir}')"
   ]
  },
  {
   "cell_type": "code",
   "execution_count": 16,
   "metadata": {},
   "outputs": [
    {
     "data": {
      "image/png": "[encoded data removed]",
      "text/plain": [
       "<Figure size 1000x600 with 1 Axes>"
      ]
     },
     "metadata": {},
     "output_type": "display_data"
    }
   ],
   "source": [
    "plt.figure(figsize=(10, 6))\n",
    "\n",
    "# Plot training loss\n",
    "plt.plot(train_loss_list, label='Train Loss', color='blue')\n",
    "\n",
    "# Adding titles and labels\n",
    "plt.title('Training Loss over Epochs')\n",
    "plt.xlabel('Epoch')\n",
    "plt.ylabel('Value')\n",
    "plt.legend()\n",
    "plt.grid()\n",
    "# Show the plot\n",
    "plt.show()"
   ]
  },
  {
   "cell_type": "code",
   "execution_count": 17,
   "metadata": {},
   "outputs": [
    {
     "data": {
      "image/png": "[encoded data removed]",
      "text/plain": [
       "<Figure size 1000x600 with 1 Axes>"
      ]
     },
     "metadata": {},
     "output_type": "display_data"
    }
   ],
   "source": [
    "plt.figure(figsize=(10, 6))\n",
    "# Plot Learning rate\n",
    "plt.plot(lr_list, label='Learning rate', color='orange')\n",
    "\n",
    "\n",
    "# Adding titles and labels\n",
    "plt.title('Learning rate over Epochs')\n",
    "plt.xlabel('Epochs')\n",
    "plt.ylabel('Value')\n",
    "plt.legend()\n",
    "plt.grid()\n",
    "\n",
    "# Show the plot\n",
    "plt.show()"
   ]
  },
  {
   "cell_type": "code",
   "execution_count": 18,
   "metadata": {},
   "outputs": [
    {
     "name": "stdout",
     "output_type": "stream",
     "text": [
      "[0.09118068385264866, 0.05356635698350833, 0.04712098757777594, 0.04452698997285074, 0.04236917626277535, 0.04086666200639664, 0.03992168252304153, 0.03876124724064429, 0.03831754474568244, 0.03769571946763535, 0.03728151605752981, 0.036606276171573145, 0.03675947653728601, 0.03614175284231922, 0.036103831117857345, 0.03561685160956288, 0.035369526512459316, 0.03499274640714964, 0.03495026263889134, 0.0347845519681332, 0.03482496674147855, 0.03468475601797962, 0.033934316556669966, 0.03404572006908402, 0.03360885048730183, 0.03371431734303018, 0.03369460617546487, 0.03324484307549696, 0.03314998243443646, 0.03302311845903991, 0.03302166437603819, 0.03272420654188743, 0.032768182753197914, 0.03243402329309236, 0.03255018690232858, 0.03230995821401169, 0.0322800570862659, 0.032086167984523954, 0.03212604209901573, 0.031838372319519165, 0.03208900752386688, 0.0314406462310426, 0.03163188215685805, 0.031721567122436026, 0.0317233810063924, 0.03130080961625045, 0.031669166112170286, 0.03132809731548866, 0.03159203625676994, 0.03147883002528135]\n"
     ]
    }
   ],
   "source": [
    "print(train_loss_list)"
   ]
  },
  {
   "cell_type": "code",
   "execution_count": 19,
   "metadata": {},
   "outputs": [
    {
     "name": "stdout",
     "output_type": "stream",
     "text": [
      "P1_model_ver6_1_epoch0.pth:  0.09118068385264866\n",
      "P1_model_ver6_1_epoch10.pth:  0.03728151605752981\n",
      "P1_model_ver6_1_epoch20.pth:  0.03482496674147855\n",
      "P1_model_ver6_1_epoch30.pth:  0.03302166437603819\n",
      "P1_model_ver6_1_epoch40.pth:  0.03208900752386688\n"
     ]
    }
   ],
   "source": [
    "for name, loss in save_model_loss_list:\n",
    "    print(f\"{name}:  {loss}\")"
   ]
  },
  {
   "cell_type": "code",
   "execution_count": 20,
   "metadata": {},
   "outputs": [
    {
     "name": "stdout",
     "output_type": "stream",
     "text": [
      "[9.990133642141363e-05, 9.960573506572393e-05, 9.911436253643464e-05, 9.842915805643152e-05, 9.755282581475782e-05, 9.648882429441255e-05, 9.524135262330088e-05, 9.381533400219307e-05, 9.221639627510047e-05, 9.045084971874724e-05, 8.852566213878943e-05, 8.644843137107093e-05, 8.422735529643484e-05, 8.18711994874348e-05, 7.938926261462396e-05, 7.679133974895011e-05, 7.408768370508605e-05, 7.128896457825382e-05, 6.840622763423391e-05, 6.54508497187475e-05, 6.243449435824276e-05, 5.9369065729286394e-05, 5.62666616782154e-05, 5.313952597646575e-05, 5.000000000000017e-05, 4.686047402353449e-05, 4.373333832178499e-05, 4.063093427071397e-05, 3.756550564175743e-05, 3.4549150281252765e-05, 3.159377236576619e-05, 2.871103542174646e-05, 2.591231629491434e-05, 2.3208660251050226e-05, 2.0610737385376444e-05, 1.8128800512565618e-05, 1.577264470356568e-05, 1.355156862892954e-05, 1.1474337861210647e-05, 9.549150281252725e-06, 7.783603724899329e-06, 6.184665997806887e-06, 4.758647376699063e-06, 3.5111757055874574e-06, 2.4471741852423483e-06, 1.5708419435684684e-06, 8.856374635655784e-07, 3.942649342761163e-07, 9.866357858642291e-08, 0.0]\n"
     ]
    }
   ],
   "source": [
    "print(lr_list)"
   ]
  },
  {
   "cell_type": "code",
   "execution_count": null,
   "metadata": {},
   "outputs": [],
   "source": []
  },
  {
   "cell_type": "code",
   "execution_count": null,
   "metadata": {},
   "outputs": [],
   "source": []
  }
 ],
 "metadata": {
  "kernelspec": {
   "display_name": "ENV_DLCV_HW1",
   "language": "python",
   "name": "python3"
  },
  "language_info": {
   "codemirror_mode": {
    "name": "ipython",
    "version": 3
   },
   "file_extension": ".py",
   "mimetype": "text/x-python",
   "name": "python",
   "nbconvert_exporter": "python",
   "pygments_lexer": "ipython3",
   "version": "3.8.19"
  }
 },
 "nbformat": 4,
 "nbformat_minor": 4
}
