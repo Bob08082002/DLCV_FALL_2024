{
 "cells": [
  {
   "cell_type": "markdown",
   "metadata": {},
   "source": [
    "## Import library"
   ]
  },
  {
   "cell_type": "markdown",
   "metadata": {},
   "source": [
    "packages allowed for use during inference"
   ]
  },
  {
   "cell_type": "code",
   "execution_count": 1,
   "metadata": {},
   "outputs": [],
   "source": [
    "import os\n",
    "import numpy as np\n",
    "\n",
    "import torch\n",
    "import torch.nn as nn\n",
    "import torch.optim as optim\n",
    "from torch.optim.lr_scheduler import ReduceLROnPlateau, CosineAnnealingLR\n",
    "from torch.utils.data import DataLoader, Dataset\n",
    "from torchvision import models, transforms\n",
    "import torchvision\n",
    "\n",
    "import imageio as imageio\n",
    "import matplotlib.pyplot as plt\n",
    "from PIL import Image\n",
    "from tqdm import tqdm\n",
    "\n",
    "from modules_v3 import UNet_conditional\n",
    "from P1_CustomDataset import P1_CustomDataset\n",
    "from P1_CombinedDataset import P1_CombinedDataset"
   ]
  },
  {
   "cell_type": "markdown",
   "metadata": {},
   "source": [
    "packages during training"
   ]
  },
  {
   "cell_type": "markdown",
   "metadata": {},
   "source": [
    "## Hyperparameters"
   ]
  },
  {
   "cell_type": "code",
   "execution_count": 2,
   "metadata": {},
   "outputs": [
    {
     "name": "stdout",
     "output_type": "stream",
     "text": [
      "True\n"
     ]
    }
   ],
   "source": [
    "BATCH_SIZE = 128\n",
    "device = torch.device(\"cuda\" if torch.cuda.is_available() else \"cpu\")\n",
    "print(torch.cuda.is_available())"
   ]
  },
  {
   "cell_type": "markdown",
   "metadata": {},
   "source": [
    "## Define Custom Dataset"
   ]
  },
  {
   "cell_type": "markdown",
   "metadata": {},
   "source": [
    "training dataset的mean & std"
   ]
  },
  {
   "cell_type": "code",
   "execution_count": 3,
   "metadata": {},
   "outputs": [],
   "source": [
    "train_mean = [0.5, 0.5, 0.5]\n",
    "train_std = [0.5, 0.5, 0.5]"
   ]
  },
  {
   "cell_type": "markdown",
   "metadata": {},
   "source": [
    "建train transform和val transform\n",
    "\n",
    "val transform和test transform一樣"
   ]
  },
  {
   "cell_type": "code",
   "execution_count": 4,
   "metadata": {},
   "outputs": [],
   "source": [
    "# Data Transformations\n",
    "transform_train = transforms.Compose([\n",
    "    transforms.Resize((28, 28)),\n",
    "    transforms.ToTensor(),\n",
    "    transforms.Normalize(mean=train_mean, std=train_std),\n",
    "])"
   ]
  },
  {
   "cell_type": "markdown",
   "metadata": {},
   "source": [
    "用P1_CustomDataset分別產生兩個資料集的train dataset，再將兩個dataset合成一個dataset，並產生trainloader"
   ]
  },
  {
   "cell_type": "code",
   "execution_count": 5,
   "metadata": {},
   "outputs": [
    {
     "name": "stdout",
     "output_type": "stream",
     "text": [
      "1059\n"
     ]
    }
   ],
   "source": [
    "train_dataset_MNISTM = P1_CustomDataset(csv_file='../hw2_data/digits/mnistm/train.csv', root_dir='../hw2_data/digits/mnistm/data', transform=transform_train)\n",
    "train_dataset_SVHN = P1_CustomDataset(csv_file='../hw2_data/digits/svhn/train.csv', root_dir='../hw2_data/digits/svhn/data', transform=transform_train)\n",
    "combined_dataset = P1_CombinedDataset(train_dataset_MNISTM, train_dataset_SVHN)\n",
    "\n",
    "combined_loader = DataLoader(combined_dataset, batch_size=BATCH_SIZE, shuffle=True, num_workers=2)\n",
    "print(len(combined_loader))"
   ]
  },
  {
   "cell_type": "code",
   "execution_count": 6,
   "metadata": {},
   "outputs": [
    {
     "name": "stdout",
     "output_type": "stream",
     "text": [
      "type(image_first_batch):  <class 'torch.Tensor'>\n",
      "image_first_batch.shape:  torch.Size([128, 3, 28, 28])\n",
      "type(label_first_batch):  <class 'list'>\n",
      "label_dataset.shape:  torch.Size([128])\n",
      "label_image.shape:  torch.Size([128])\n",
      "normalized pixel value: tensor(0.4118)\n",
      "label_dataset (should be integer 0 ~ 1): tensor(1)\n",
      "label_image (should be integer 0 ~ 9): tensor(7)\n"
     ]
    }
   ],
   "source": [
    "# print shape\n",
    "image_first_batch, label_first_batch = next(iter(combined_loader))  #get first batch's image & mask\n",
    "label_dataset, label_image = label_first_batch\n",
    "print(\"type(image_first_batch): \", type(image_first_batch))\n",
    "print(\"image_first_batch.shape: \", image_first_batch.shape)\n",
    "print(\"type(label_first_batch): \", type(label_first_batch))\n",
    "print(\"label_dataset.shape: \", label_dataset.shape)\n",
    "print(\"label_image.shape: \", label_image.shape)\n",
    "# get some values\n",
    "print(\"normalized pixel value:\", image_first_batch[3][0][9][8])\n",
    "print(\"label_dataset (should be integer 0 ~ 1):\",label_dataset[3])\n",
    "print(\"label_image (should be integer 0 ~ 9):\",label_image[3])"
   ]
  },
  {
   "cell_type": "code",
   "execution_count": 7,
   "metadata": {},
   "outputs": [
    {
     "name": "stdout",
     "output_type": "stream",
     "text": [
      "dataset label of first batch: tensor([1, 1, 0, 1, 1, 1, 0, 0, 1, 0, 1, 1, 1, 1, 0, 1, 0, 0, 1, 1, 1, 1, 0, 1,\n",
      "        1, 1, 1, 1, 1, 1, 1, 1, 0, 1, 1, 1, 1, 1, 1, 1, 0, 0, 1, 0, 0, 0, 1, 1,\n",
      "        1, 1, 0, 0, 0, 0, 0, 0, 1, 0, 1, 1, 1, 0, 1, 1, 1, 0, 1, 1, 1, 0, 1, 1,\n",
      "        1, 1, 1, 1, 1, 0, 0, 1, 1, 1, 0, 0, 0, 0, 1, 1, 1, 0, 1, 0, 1, 1, 1, 1,\n",
      "        1, 1, 1, 0, 1, 0, 1, 0, 1, 1, 0, 0, 1, 1, 0, 1, 0, 1, 1, 1, 1, 1, 1, 0,\n",
      "        1, 1, 1, 1, 1, 0, 1, 1])\n"
     ]
    }
   ],
   "source": [
    "print(\"dataset label of first batch:\", label_dataset) # two datasets are mixed together"
   ]
  },
  {
   "cell_type": "code",
   "execution_count": 8,
   "metadata": {},
   "outputs": [
    {
     "name": "stderr",
     "output_type": "stream",
     "text": [
      "Clipping input data to the valid range for imshow with RGB data ([0..1] for floats or [0..255] for integers).\n"
     ]
    },
    {
     "name": "stdout",
     "output_type": "stream",
     "text": [
      "label of dataset: tensor(1)\n",
      "label of image: tensor(4)\n",
      "shape:  (28, 28, 3)\n"
     ]
    },
    {
     "data": {
      "image/png": "[encoded data removed]",
      "text/plain": [
       "<Figure size 640x480 with 1 Axes>"
      ]
     },
     "metadata": {},
     "output_type": "display_data"
    }
   ],
   "source": [
    "# visualize with normalization\n",
    "idx = 15\n",
    "first_image = image_first_batch[idx]\n",
    "first_label_dataset = label_dataset[idx]\n",
    "first_label_image = label_image[idx]\n",
    "print(\"label of dataset:\",first_label_dataset)\n",
    "print(\"label of image:\",first_label_image)\n",
    "\n",
    "# Convert the tensor to numpy array\n",
    "image_np = first_image.numpy()\n",
    "# Since matplotlib expects images in H x W x C format, we need to transpose it\n",
    "image_np = np.transpose(image_np, (1, 2, 0))\n",
    "\n",
    "print(\"shape: \",image_np.shape) # need to convert back to 28*28 during inference (in digit_classifier.py)\n",
    "\n",
    "# Plot the image\n",
    "plt.imshow(image_np)\n",
    "plt.axis('off')  # Turn off axis numbers and ticks\n",
    "plt.show()"
   ]
  },
  {
   "cell_type": "markdown",
   "metadata": {},
   "source": [
    "## Build Model"
   ]
  },
  {
   "cell_type": "markdown",
   "metadata": {},
   "source": [
    "instance model and put it on device"
   ]
  },
  {
   "cell_type": "code",
   "execution_count": 9,
   "metadata": {},
   "outputs": [],
   "source": [
    "net = UNet_conditional(size=28, time_dim=256, num_classes=20, device=device).to(device)"
   ]
  },
  {
   "cell_type": "code",
   "execution_count": 10,
   "metadata": {},
   "outputs": [
    {
     "name": "stdout",
     "output_type": "stream",
     "text": [
      "torch.Size([10, 3, 28, 28])\n",
      "torch.float32\n",
      "torch.int64\n"
     ]
    }
   ],
   "source": [
    "#print output shape\n",
    "x = torch.randn(10,3,28,28).to(device) # dummy input也放到device\n",
    "t = torch.randint(0, 500, (10,)).to(device)  # Ensure values are in range [0, 9]\n",
    "y = torch.randint(0, 20, (10,)).to(device)\n",
    "#dataset_label = torch.randint(0, 2, (10,)).to(device)\n",
    "output = net(x, t, y)\n",
    "print(output.shape)\n",
    "print(x.dtype)\n",
    "print(y.dtype)"
   ]
  },
  {
   "cell_type": "markdown",
   "metadata": {},
   "source": [
    "## Training"
   ]
  },
  {
   "cell_type": "markdown",
   "metadata": {},
   "source": [
    "Loss and Optimizer and epoch_n"
   ]
  },
  {
   "cell_type": "code",
   "execution_count": 16,
   "metadata": {},
   "outputs": [],
   "source": [
    "# number of epoch\n",
    "num_epochs = 50\n",
    "# DDPM paper suggest using MSE as noise loss\n",
    "criterion = nn.MSELoss()\n",
    "# Initialize optimizer\n",
    "optimizer = optim.Adam(net.parameters(), lr=0.0001, weight_decay=1e-5)\n",
    "\n",
    "# Different base learning rate and update strategy #!!!!!!\n",
    "scheduler = torch.optim.lr_scheduler.StepLR(optimizer, step_size=10, gamma=0.5, last_epoch=-1)\n",
    "#scheduler = ReduceLROnPlateau(optimizer, mode='max', factor=0.5, patience=5)  #if 10個epoch沒進步==> lr *= 0.5\n",
    "#scheduler = CosineAnnealingLR(optimizer, T_max=num_epochs * len(combined_loader), eta_min = 1e-8) # update lr each batch\n",
    "\n",
    "# total time steps\n",
    "T = 400\n"
   ]
  },
  {
   "cell_type": "markdown",
   "metadata": {},
   "source": [
    "#### DDPM training functions"
   ]
  },
  {
   "cell_type": "markdown",
   "metadata": {},
   "source": [
    "alpha_t and alpha_hat_t of DDPM"
   ]
  },
  {
   "cell_type": "code",
   "execution_count": 17,
   "metadata": {},
   "outputs": [],
   "source": [
    "# 1. beta\n",
    "beta_1 = 1e-4\n",
    "beta_T = 0.02\n",
    "beta = torch.linspace(beta_1, beta_T, T) \n",
    "# 2. alpha\n",
    "alpha = 1 - beta\n",
    "# 3. alpha_hat\n",
    "# alpha hat = [alpha[0], alpha[0]*alpha[1], alpha[0]*alpha[1]*alpha[2], ... ,alpha[0]*...*alpha[T-1])] \n",
    "alpha_hat = torch.zeros_like(alpha) # tensor with len T, alpha_hat.shape = T\n",
    "alpha_hat[0] = alpha[0] # Set the first element\n",
    "for i in range(1, alpha.shape[0]):\n",
    "    alpha_hat[i] = alpha_hat[i - 1] * alpha[i]\n",
    "\n",
    "\n",
    "torch.save(beta, './alpha_tensors/beta_tensor.pt')\n",
    "torch.save(alpha, './alpha_tensors/alpha_tensor.pt')\n",
    "torch.save(alpha_hat, './alpha_tensors/alpha_hat_tensor.pt')"
   ]
  },
  {
   "cell_type": "markdown",
   "metadata": {},
   "source": [
    "functions"
   ]
  },
  {
   "cell_type": "code",
   "execution_count": 18,
   "metadata": {},
   "outputs": [],
   "source": [
    "def noise_x_t(alpha_hat, x_0, t, epsilon):\n",
    "    \"\"\"given x[0](origin image) and t, return x[t](noisy image from x[0] by adding epsilon repeatly t times)\"\"\"\n",
    "    \"\"\"一步登天\"\"\"\n",
    "    \"\"\"epsilon.shape = x_0.shape = N*C*H*W,  t.shape = N\"\"\"\n",
    "    \"\"\"alpha_hat.shape = T, index t = 0 ~ T-1\"\"\"\n",
    "\n",
    "    sqrt_alpha_hat = torch.sqrt(alpha_hat[t]).unsqueeze(1).unsqueeze(1).unsqueeze(1) # sqrt_alpha_hat.shape = N*1*1*1\n",
    "    sqrt_one_minus_alpha_hat = torch.sqrt(1 - alpha_hat[t]).unsqueeze(1).unsqueeze(1).unsqueeze(1) # sqrt_one_minus_alpha_hat.shape = N*1*1*1\n",
    "\n",
    "    x_t = sqrt_alpha_hat * x_0 + sqrt_one_minus_alpha_hat * epsilon\n",
    "    \n",
    "    return x_t #x[t] is N*C*H*W"
   ]
  },
  {
   "cell_type": "markdown",
   "metadata": {},
   "source": [
    "#### training loop (DDPM framework)"
   ]
  },
  {
   "cell_type": "code",
   "execution_count": 20,
   "metadata": {},
   "outputs": [
    {
     "name": "stderr",
     "output_type": "stream",
     "text": [
      "Epoch 1/50: 100%|████████████████████████| 1059/1059 [04:11<00:00,  4.21batch/s]\n"
     ]
    },
    {
     "name": "stdout",
     "output_type": "stream",
     "text": [
      "Epoch 1/50 - Loss: 0.0815\n",
      "Learning rate 0.0001\n"
     ]
    },
    {
     "name": "stderr",
     "output_type": "stream",
     "text": [
      "Epoch 2/50: 100%|████████████████████████| 1059/1059 [04:12<00:00,  4.20batch/s]\n"
     ]
    },
    {
     "name": "stdout",
     "output_type": "stream",
     "text": [
      "Epoch 2/50 - Loss: 0.0528\n",
      "Learning rate 0.0001\n"
     ]
    },
    {
     "name": "stderr",
     "output_type": "stream",
     "text": [
      "Epoch 3/50: 100%|████████████████████████| 1059/1059 [04:12<00:00,  4.20batch/s]\n"
     ]
    },
    {
     "name": "stdout",
     "output_type": "stream",
     "text": [
      "Epoch 3/50 - Loss: 0.0462\n",
      "Learning rate 0.0001\n"
     ]
    },
    {
     "name": "stderr",
     "output_type": "stream",
     "text": [
      "Epoch 4/50: 100%|████████████████████████| 1059/1059 [04:12<00:00,  4.20batch/s]\n"
     ]
    },
    {
     "name": "stdout",
     "output_type": "stream",
     "text": [
      "Epoch 4/50 - Loss: 0.0426\n",
      "Learning rate 0.0001\n"
     ]
    },
    {
     "name": "stderr",
     "output_type": "stream",
     "text": [
      "Epoch 5/50: 100%|████████████████████████| 1059/1059 [04:12<00:00,  4.20batch/s]\n"
     ]
    },
    {
     "name": "stdout",
     "output_type": "stream",
     "text": [
      "Epoch 5/50 - Loss: 0.0404\n",
      "Learning rate 0.0001\n"
     ]
    },
    {
     "name": "stderr",
     "output_type": "stream",
     "text": [
      "Epoch 6/50: 100%|████████████████████████| 1059/1059 [04:12<00:00,  4.20batch/s]\n"
     ]
    },
    {
     "name": "stdout",
     "output_type": "stream",
     "text": [
      "Epoch 6/50 - Loss: 0.0393\n",
      "Learning rate 0.0001\n"
     ]
    },
    {
     "name": "stderr",
     "output_type": "stream",
     "text": [
      "Epoch 7/50: 100%|████████████████████████| 1059/1059 [04:12<00:00,  4.20batch/s]\n"
     ]
    },
    {
     "name": "stdout",
     "output_type": "stream",
     "text": [
      "Epoch 7/50 - Loss: 0.0378\n",
      "Learning rate 0.0001\n"
     ]
    },
    {
     "name": "stderr",
     "output_type": "stream",
     "text": [
      "Epoch 8/50: 100%|████████████████████████████████████████████████████████████████████████████████████████████████| 1059/1059 [04:12<00:00,  4.20batch/s]\n"
     ]
    },
    {
     "name": "stdout",
     "output_type": "stream",
     "text": [
      "Epoch 8/50 - Loss: 0.0366\n",
      "Learning rate 0.0001\n"
     ]
    },
    {
     "name": "stderr",
     "output_type": "stream",
     "text": [
      "Epoch 9/50: 100%|████████████████████████████████████████████████████████████████████████████████████████████████| 1059/1059 [04:12<00:00,  4.20batch/s]\n"
     ]
    },
    {
     "name": "stdout",
     "output_type": "stream",
     "text": [
      "Epoch 9/50 - Loss: 0.0361\n",
      "Learning rate 0.0001\n"
     ]
    },
    {
     "name": "stderr",
     "output_type": "stream",
     "text": [
      "Epoch 10/50: 100%|███████████████████████████████████████████████████████████████████████████████████████████████| 1059/1059 [04:12<00:00,  4.20batch/s]\n"
     ]
    },
    {
     "name": "stdout",
     "output_type": "stream",
     "text": [
      "Epoch 10/50 - Loss: 0.0357\n",
      "Learning rate 0.0001\n"
     ]
    },
    {
     "name": "stderr",
     "output_type": "stream",
     "text": [
      "Epoch 11/50: 100%|███████████████████████████████████████████████████████████████████████████████████████████████| 1059/1059 [04:12<00:00,  4.20batch/s]\n"
     ]
    },
    {
     "name": "stdout",
     "output_type": "stream",
     "text": [
      "Epoch 11/50 - Loss: 0.0344\n",
      "Learning rate 5e-05\n"
     ]
    },
    {
     "name": "stderr",
     "output_type": "stream",
     "text": [
      "Epoch 12/50: 100%|███████████████████████████████████████████████████████████████████████████████████████████████| 1059/1059 [04:12<00:00,  4.20batch/s]\n"
     ]
    },
    {
     "name": "stdout",
     "output_type": "stream",
     "text": [
      "Epoch 12/50 - Loss: 0.0344\n",
      "Learning rate 5e-05\n"
     ]
    },
    {
     "name": "stderr",
     "output_type": "stream",
     "text": [
      "Epoch 13/50: 100%|███████████████████████████████████████████████████████████████████████████████████████████████| 1059/1059 [04:12<00:00,  4.20batch/s]\n"
     ]
    },
    {
     "name": "stdout",
     "output_type": "stream",
     "text": [
      "Epoch 13/50 - Loss: 0.0339\n",
      "Learning rate 5e-05\n"
     ]
    },
    {
     "name": "stderr",
     "output_type": "stream",
     "text": [
      "Epoch 14/50: 100%|███████████████████████████████████████████████████████████████████████████████████████████████| 1059/1059 [04:11<00:00,  4.20batch/s]\n"
     ]
    },
    {
     "name": "stdout",
     "output_type": "stream",
     "text": [
      "Epoch 14/50 - Loss: 0.0338\n",
      "Learning rate 5e-05\n"
     ]
    },
    {
     "name": "stderr",
     "output_type": "stream",
     "text": [
      "Epoch 15/50: 100%|███████████████████████████████████████████████████████████████████████████████████████████████| 1059/1059 [04:11<00:00,  4.20batch/s]\n"
     ]
    },
    {
     "name": "stdout",
     "output_type": "stream",
     "text": [
      "Epoch 15/50 - Loss: 0.0337\n",
      "Learning rate 5e-05\n"
     ]
    },
    {
     "name": "stderr",
     "output_type": "stream",
     "text": [
      "Epoch 16/50: 100%|███████████████████████████████████████████████████████████████████████████████████████████████| 1059/1059 [04:11<00:00,  4.20batch/s]\n"
     ]
    },
    {
     "name": "stdout",
     "output_type": "stream",
     "text": [
      "Epoch 16/50 - Loss: 0.0333\n",
      "Learning rate 5e-05\n"
     ]
    },
    {
     "name": "stderr",
     "output_type": "stream",
     "text": [
      "Epoch 17/50: 100%|███████████████████████████████████████████████████████████████████████████████████████████████| 1059/1059 [04:11<00:00,  4.21batch/s]\n"
     ]
    },
    {
     "name": "stdout",
     "output_type": "stream",
     "text": [
      "Epoch 17/50 - Loss: 0.0333\n",
      "Learning rate 5e-05\n"
     ]
    },
    {
     "name": "stderr",
     "output_type": "stream",
     "text": [
      "Epoch 18/50: 100%|███████████████████████████████████████████████████████████████████████████████████████████████| 1059/1059 [04:11<00:00,  4.20batch/s]\n"
     ]
    },
    {
     "name": "stdout",
     "output_type": "stream",
     "text": [
      "Epoch 18/50 - Loss: 0.0328\n",
      "Learning rate 5e-05\n"
     ]
    },
    {
     "name": "stderr",
     "output_type": "stream",
     "text": [
      "Epoch 19/50: 100%|███████████████████████████████████████████████████████████████████████████████████████████████| 1059/1059 [04:11<00:00,  4.20batch/s]\n"
     ]
    },
    {
     "name": "stdout",
     "output_type": "stream",
     "text": [
      "Epoch 19/50 - Loss: 0.0328\n",
      "Learning rate 5e-05\n"
     ]
    },
    {
     "name": "stderr",
     "output_type": "stream",
     "text": [
      "Epoch 20/50: 100%|███████████████████████████████████████████████████████████████████████████████████████████████| 1059/1059 [04:11<00:00,  4.20batch/s]\n"
     ]
    },
    {
     "name": "stdout",
     "output_type": "stream",
     "text": [
      "Epoch 20/50 - Loss: 0.0330\n",
      "Learning rate 5e-05\n"
     ]
    },
    {
     "name": "stderr",
     "output_type": "stream",
     "text": [
      "Epoch 21/50: 100%|███████████████████████████████████████████████████████████████████████████████████████████████| 1059/1059 [04:11<00:00,  4.20batch/s]\n"
     ]
    },
    {
     "name": "stdout",
     "output_type": "stream",
     "text": [
      "Epoch 21/50 - Loss: 0.0324\n",
      "Learning rate 2.5e-05\n"
     ]
    },
    {
     "name": "stderr",
     "output_type": "stream",
     "text": [
      "Epoch 22/50: 100%|███████████████████████████████████████████████████████████████████████████████████████████████| 1059/1059 [04:11<00:00,  4.20batch/s]\n"
     ]
    },
    {
     "name": "stdout",
     "output_type": "stream",
     "text": [
      "Epoch 22/50 - Loss: 0.0323\n",
      "Learning rate 2.5e-05\n"
     ]
    },
    {
     "name": "stderr",
     "output_type": "stream",
     "text": [
      "Epoch 23/50: 100%|███████████████████████████████████████████████████████████████████████████████████████████████| 1059/1059 [04:11<00:00,  4.20batch/s]\n"
     ]
    },
    {
     "name": "stdout",
     "output_type": "stream",
     "text": [
      "Epoch 23/50 - Loss: 0.0323\n",
      "Learning rate 2.5e-05\n"
     ]
    },
    {
     "name": "stderr",
     "output_type": "stream",
     "text": [
      "Epoch 24/50: 100%|███████████████████████████████████████████████████████████████████████████████████████████████| 1059/1059 [04:11<00:00,  4.20batch/s]\n"
     ]
    },
    {
     "name": "stdout",
     "output_type": "stream",
     "text": [
      "Epoch 24/50 - Loss: 0.0320\n",
      "Learning rate 2.5e-05\n"
     ]
    },
    {
     "name": "stderr",
     "output_type": "stream",
     "text": [
      "Epoch 25/50: 100%|███████████████████████████████████████████████████████████████████████████████████████████████| 1059/1059 [04:11<00:00,  4.20batch/s]\n"
     ]
    },
    {
     "name": "stdout",
     "output_type": "stream",
     "text": [
      "Epoch 25/50 - Loss: 0.0321\n",
      "Learning rate 2.5e-05\n"
     ]
    },
    {
     "name": "stderr",
     "output_type": "stream",
     "text": [
      "Epoch 26/50: 100%|███████████████████████████████████████████████████████████████████████████████████████████████| 1059/1059 [04:11<00:00,  4.20batch/s]\n"
     ]
    },
    {
     "name": "stdout",
     "output_type": "stream",
     "text": [
      "Epoch 26/50 - Loss: 0.0322\n",
      "Learning rate 2.5e-05\n"
     ]
    },
    {
     "name": "stderr",
     "output_type": "stream",
     "text": [
      "Epoch 27/50: 100%|███████████████████████████████████████████████████████████████████████████████████████████████| 1059/1059 [04:12<00:00,  4.20batch/s]\n"
     ]
    },
    {
     "name": "stdout",
     "output_type": "stream",
     "text": [
      "Epoch 27/50 - Loss: 0.0321\n",
      "Learning rate 2.5e-05\n"
     ]
    },
    {
     "name": "stderr",
     "output_type": "stream",
     "text": [
      "Epoch 28/50: 100%|███████████████████████| 1059/1059 [04:11<00:00,  4.20batch/s]\n"
     ]
    },
    {
     "name": "stdout",
     "output_type": "stream",
     "text": [
      "Epoch 28/50 - Loss: 0.0319\n",
      "Learning rate 2.5e-05\n"
     ]
    },
    {
     "name": "stderr",
     "output_type": "stream",
     "text": [
      "Epoch 29/50: 100%|███████████████████████| 1059/1059 [04:11<00:00,  4.20batch/s]\n"
     ]
    },
    {
     "name": "stdout",
     "output_type": "stream",
     "text": [
      "Epoch 29/50 - Loss: 0.0320\n",
      "Learning rate 2.5e-05\n"
     ]
    },
    {
     "name": "stderr",
     "output_type": "stream",
     "text": [
      "Epoch 30/50: 100%|███████████████████████| 1059/1059 [04:11<00:00,  4.20batch/s]\n"
     ]
    },
    {
     "name": "stdout",
     "output_type": "stream",
     "text": [
      "Epoch 30/50 - Loss: 0.0315\n",
      "Learning rate 2.5e-05\n"
     ]
    },
    {
     "name": "stderr",
     "output_type": "stream",
     "text": [
      "Epoch 31/50: 100%|███████████████████████| 1059/1059 [04:11<00:00,  4.20batch/s]\n"
     ]
    },
    {
     "name": "stdout",
     "output_type": "stream",
     "text": [
      "Epoch 31/50 - Loss: 0.0314\n",
      "Learning rate 1.25e-05\n"
     ]
    },
    {
     "name": "stderr",
     "output_type": "stream",
     "text": [
      "Epoch 32/50: 100%|███████████████████████| 1059/1059 [04:12<00:00,  4.20batch/s]\n"
     ]
    },
    {
     "name": "stdout",
     "output_type": "stream",
     "text": [
      "Epoch 32/50 - Loss: 0.0319\n",
      "Learning rate 1.25e-05\n"
     ]
    },
    {
     "name": "stderr",
     "output_type": "stream",
     "text": [
      "Epoch 33/50: 100%|█████████████████████████████████████████████████████████████████████████████████████████████████████████████████| 1059/1059 [04:11<00:00,  4.20batch/s]\n"
     ]
    },
    {
     "name": "stdout",
     "output_type": "stream",
     "text": [
      "Epoch 33/50 - Loss: 0.0315\n",
      "Learning rate 1.25e-05\n"
     ]
    },
    {
     "name": "stderr",
     "output_type": "stream",
     "text": [
      "Epoch 34/50: 100%|█████████████████████████████████████████████████████████████████████████████████████████████████████████████████| 1059/1059 [04:11<00:00,  4.20batch/s]\n"
     ]
    },
    {
     "name": "stdout",
     "output_type": "stream",
     "text": [
      "Epoch 34/50 - Loss: 0.0315\n",
      "Learning rate 1.25e-05\n"
     ]
    },
    {
     "name": "stderr",
     "output_type": "stream",
     "text": [
      "Epoch 35/50: 100%|█████████████████████████████████████████████████████████████████████████████████████████████████████████████████| 1059/1059 [04:11<00:00,  4.20batch/s]\n"
     ]
    },
    {
     "name": "stdout",
     "output_type": "stream",
     "text": [
      "Epoch 35/50 - Loss: 0.0313\n",
      "Learning rate 1.25e-05\n"
     ]
    },
    {
     "name": "stderr",
     "output_type": "stream",
     "text": [
      "Epoch 36/50: 100%|█████████████████████████████████████████████████████████████████████████████████████████████████████████████████| 1059/1059 [04:11<00:00,  4.21batch/s]\n"
     ]
    },
    {
     "name": "stdout",
     "output_type": "stream",
     "text": [
      "Epoch 36/50 - Loss: 0.0316\n",
      "Learning rate 1.25e-05\n"
     ]
    },
    {
     "name": "stderr",
     "output_type": "stream",
     "text": [
      "Epoch 37/50: 100%|█████████████████████████████████████████████████████████████████████████████████████████████████████████████████| 1059/1059 [04:11<00:00,  4.20batch/s]\n"
     ]
    },
    {
     "name": "stdout",
     "output_type": "stream",
     "text": [
      "Epoch 37/50 - Loss: 0.0314\n",
      "Learning rate 1.25e-05\n"
     ]
    },
    {
     "name": "stderr",
     "output_type": "stream",
     "text": [
      "Epoch 38/50: 100%|█████████████████████████████████████████████████████████████████████████████████████████████████████████████████| 1059/1059 [04:11<00:00,  4.20batch/s]\n"
     ]
    },
    {
     "name": "stdout",
     "output_type": "stream",
     "text": [
      "Epoch 38/50 - Loss: 0.0314\n",
      "Learning rate 1.25e-05\n"
     ]
    },
    {
     "name": "stderr",
     "output_type": "stream",
     "text": [
      "Epoch 39/50: 100%|█████████████████████████████████████████████████████████████████████████████████████████████████████████████████| 1059/1059 [04:11<00:00,  4.20batch/s]\n"
     ]
    },
    {
     "name": "stdout",
     "output_type": "stream",
     "text": [
      "Epoch 39/50 - Loss: 0.0312\n",
      "Learning rate 1.25e-05\n"
     ]
    },
    {
     "name": "stderr",
     "output_type": "stream",
     "text": [
      "Epoch 40/50: 100%|█████████████████████████████████████████████████████████████████████████████████████████████████████████████████| 1059/1059 [04:11<00:00,  4.20batch/s]\n"
     ]
    },
    {
     "name": "stdout",
     "output_type": "stream",
     "text": [
      "Epoch 40/50 - Loss: 0.0312\n",
      "Learning rate 1.25e-05\n"
     ]
    },
    {
     "name": "stderr",
     "output_type": "stream",
     "text": [
      "Epoch 41/50: 100%|█████████████████████████████████████████████████████████████████████████████████████████████████████████████████| 1059/1059 [04:11<00:00,  4.20batch/s]\n"
     ]
    },
    {
     "name": "stdout",
     "output_type": "stream",
     "text": [
      "Epoch 41/50 - Loss: 0.0311\n",
      "Learning rate 6.25e-06\n"
     ]
    },
    {
     "name": "stderr",
     "output_type": "stream",
     "text": [
      "Epoch 42/50: 100%|█████████████████████████████████████████████████████████████████████████████████████████████████████████████████| 1059/1059 [04:11<00:00,  4.20batch/s]\n"
     ]
    },
    {
     "name": "stdout",
     "output_type": "stream",
     "text": [
      "Epoch 42/50 - Loss: 0.0310\n",
      "Learning rate 6.25e-06\n"
     ]
    },
    {
     "name": "stderr",
     "output_type": "stream",
     "text": [
      "Epoch 43/50: 100%|█████████████████████████████████████████████████████████████████████████████████████████████████████████████████| 1059/1059 [04:11<00:00,  4.20batch/s]\n"
     ]
    },
    {
     "name": "stdout",
     "output_type": "stream",
     "text": [
      "Epoch 43/50 - Loss: 0.0310\n",
      "Learning rate 6.25e-06\n"
     ]
    },
    {
     "name": "stderr",
     "output_type": "stream",
     "text": [
      "Epoch 44/50: 100%|█████████████████████████████████████████████████████████████████████████████████████████████████████████████████| 1059/1059 [04:11<00:00,  4.21batch/s]\n"
     ]
    },
    {
     "name": "stdout",
     "output_type": "stream",
     "text": [
      "Epoch 44/50 - Loss: 0.0311\n",
      "Learning rate 6.25e-06\n"
     ]
    },
    {
     "name": "stderr",
     "output_type": "stream",
     "text": [
      "Epoch 45/50: 100%|█████████████████████████████████████████████████████████████████████████████████████████████████████████████████| 1059/1059 [04:11<00:00,  4.20batch/s]\n"
     ]
    },
    {
     "name": "stdout",
     "output_type": "stream",
     "text": [
      "Epoch 45/50 - Loss: 0.0310\n",
      "Learning rate 6.25e-06\n"
     ]
    },
    {
     "name": "stderr",
     "output_type": "stream",
     "text": [
      "Epoch 46/50: 100%|█████████████████████████████████████████████████████████████████████████████████████████████████████████████████| 1059/1059 [04:11<00:00,  4.20batch/s]\n"
     ]
    },
    {
     "name": "stdout",
     "output_type": "stream",
     "text": [
      "Epoch 46/50 - Loss: 0.0308\n",
      "Learning rate 6.25e-06\n"
     ]
    },
    {
     "name": "stderr",
     "output_type": "stream",
     "text": [
      "Epoch 47/50: 100%|█████████████████████████████████████████████████████████████████████████████████████████████████████████████████| 1059/1059 [04:11<00:00,  4.20batch/s]\n"
     ]
    },
    {
     "name": "stdout",
     "output_type": "stream",
     "text": [
      "Epoch 47/50 - Loss: 0.0312\n",
      "Learning rate 6.25e-06\n"
     ]
    },
    {
     "name": "stderr",
     "output_type": "stream",
     "text": [
      "Epoch 48/50: 100%|█████████████████████████████████████████████████████████████████████████████████████████████████████████████████| 1059/1059 [04:11<00:00,  4.20batch/s]\n"
     ]
    },
    {
     "name": "stdout",
     "output_type": "stream",
     "text": [
      "Epoch 48/50 - Loss: 0.0309\n",
      "Learning rate 6.25e-06\n"
     ]
    },
    {
     "name": "stderr",
     "output_type": "stream",
     "text": [
      "Epoch 49/50: 100%|███████████████████████████████████████████████████████████████████████████████████████████████| 1059/1059 [04:11<00:00,  4.20batch/s]\n"
     ]
    },
    {
     "name": "stdout",
     "output_type": "stream",
     "text": [
      "Epoch 49/50 - Loss: 0.0310\n",
      "Learning rate 6.25e-06\n"
     ]
    },
    {
     "name": "stderr",
     "output_type": "stream",
     "text": [
      "Epoch 50/50: 100%|███████████████████████████████████████████████████████████████████████████████████████████████| 1059/1059 [04:11<00:00,  4.20batch/s]"
     ]
    },
    {
     "name": "stdout",
     "output_type": "stream",
     "text": [
      "Epoch 50/50 - Loss: 0.0310\n",
      "Learning rate 6.25e-06\n",
      "Saved model for epoch to ../checkpoint_model/P1/P1_model_ver3_1.pth\n"
     ]
    },
    {
     "name": "stderr",
     "output_type": "stream",
     "text": [
      "\n"
     ]
    }
   ],
   "source": [
    "# Training Loop\n",
    "model_version = 3    # version 3: combined 2 datasets to 1 dataset + change model to smaller one(reduce down3 & up1 layer) + T = 400\n",
    "training_version = 1 # for name of checkpoint model # train的第幾次\n",
    "\n",
    "train_loss_list = []\n",
    "lr_list = []\n",
    "\n",
    "beta = beta.to(device)\n",
    "alpha = alpha.to(device)\n",
    "alpha_hat = alpha_hat.to(device)\n",
    "\n",
    "for epoch in range(num_epochs):\n",
    "\n",
    "    net.train() #開啟BN & DROPOUT\n",
    "    train_loss = 0\n",
    "\n",
    "    for images, label_dataset_image in tqdm(combined_loader, desc=f'Epoch {epoch + 1}/{num_epochs}', unit='batch'):  #進度條以batch完成度為趴數\n",
    "        # ========================================================== step1: x0 ~ q(x0) ===========================================================\n",
    "        # x0 is original image: images\n",
    "        dataset_label = label_dataset_image[0]\n",
    "        image_label = label_dataset_image[1]\n",
    "        images, dataset_label, image_label = images.to(device), dataset_label.to(device), image_label.to(device)# model, input output of model are moved to GPU during training\n",
    "        N, C, H, W = images.shape[0], images.shape[1], images.shape[2], images.shape[3]\n",
    "\n",
    "        # ==================================================== step2: t ~ Uniform({1,...,T}) =====================================================\n",
    "        t_np = np.random.randint(0, T, size=(N,))  # Sample t from Uniform({0, ..., T-1}) # python is 0-indexing\n",
    "        t = torch.from_numpy(t_np)\n",
    "        t = t.to(device)\n",
    "\n",
    "        # ======================================================= step3: epsilon ~ N(0, 1) =======================================================\n",
    "        noise = torch.randn(N, C, H, W)  # Sample noise from normal distribution with mean 0 and standard deviation 1\n",
    "        noise = noise.to(device)         # dtype = float32     # shape = N* C* H* W\n",
    "\n",
    "        # ===================================== step4: take gradient descent step on noise and predict_noise =====================================\n",
    "        x_t = noise_x_t(alpha_hat=alpha_hat, x_0=images, t=t, epsilon=noise)\n",
    "        x_t = x_t.to(device)\n",
    "        \n",
    "        #predict_noise=N*C*H*W\n",
    "        # version 3: combined 2 datasets to 1 dataset\n",
    "        image_label = image_label + 10 * dataset_label\n",
    "        image_label = image_label.to(device)\n",
    "        \n",
    "        if torch.rand(1).item() < 0.1:  # 10% chance to enter this block # 10% of training is unconditional training\n",
    "            image_label = None \n",
    "        predict_noise = net(x=x_t, t=t, y=image_label) #x=N*C*H*W, t=N, y=N, \n",
    "\n",
    "        loss = criterion(noise, predict_noise) # MSE loss\n",
    "        optimizer.zero_grad()\n",
    "        loss.backward()\n",
    "        optimizer.step()\n",
    "\n",
    "\n",
    "        train_loss += loss.item()\n",
    "\n",
    "        #scheduler.step() # update lr each batch(cosine scheduler)\n",
    "        \n",
    "\n",
    "\n",
    "    train_loss /= len(combined_loader)\n",
    "\n",
    "\n",
    "    # Logging\n",
    "    print(f'Epoch {epoch + 1}/{num_epochs} - Loss: {train_loss:.4f}')\n",
    "    print(f'Learning rate {scheduler.get_last_lr()[0]}')\n",
    "    train_loss_list.append(train_loss)\n",
    "\n",
    "    scheduler.step() # update lr each epoch(linear step scheduler)\n",
    "    lr_list.append(scheduler.get_last_lr()[0])\n",
    "\n",
    "# save the model state_dict\n",
    "save_dir = os.path.join(\"../checkpoint_model\", \"P1\", f'P1_model_ver{model_version}_{training_version}.pth')\n",
    "torch.save(net.state_dict(), save_dir)\n",
    "print(f'Saved model for epoch to {save_dir}')"
   ]
  },
  {
   "cell_type": "code",
   "execution_count": 21,
   "metadata": {},
   "outputs": [
    {
     "data": {
      "image/png": "[encoded data removed]",
      "text/plain": [
       "<Figure size 1000x600 with 1 Axes>"
      ]
     },
     "metadata": {},
     "output_type": "display_data"
    }
   ],
   "source": [
    "plt.figure(figsize=(10, 6))\n",
    "\n",
    "# Plot training loss\n",
    "plt.plot(train_loss_list, label='Train Loss', color='blue')\n",
    "\n",
    "# Adding titles and labels\n",
    "plt.title('Training Loss over Epochs')\n",
    "plt.xlabel('Epoch')\n",
    "plt.ylabel('Value')\n",
    "plt.legend()\n",
    "plt.grid()\n",
    "# Show the plot\n",
    "plt.show()"
   ]
  },
  {
   "cell_type": "code",
   "execution_count": 22,
   "metadata": {},
   "outputs": [
    {
     "data": {
      "image/png": "[encoded data removed]",
      "text/plain": [
       "<Figure size 1000x600 with 1 Axes>"
      ]
     },
     "metadata": {},
     "output_type": "display_data"
    }
   ],
   "source": [
    "plt.figure(figsize=(10, 6))\n",
    "# Plot Learning rate\n",
    "plt.plot(lr_list, label='Learning rate', color='orange')\n",
    "\n",
    "\n",
    "# Adding titles and labels\n",
    "plt.title('Learning rate over Batchs')\n",
    "plt.xlabel('Batchs')\n",
    "plt.ylabel('Value')\n",
    "plt.legend()\n",
    "plt.grid()\n",
    "\n",
    "# Show the plot\n",
    "plt.show()"
   ]
  },
  {
   "cell_type": "code",
   "execution_count": 23,
   "metadata": {},
   "outputs": [
    {
     "name": "stdout",
     "output_type": "stream",
     "text": [
      "[0.08148769845058605, 0.052788467945863435, 0.046236004961814604, 0.04262993814523936, 0.04038345539719007, 0.039258584965854125, 0.037784216243059596, 0.03661885713090781, 0.036099773966219204, 0.035676536622533714, 0.034381049650882185, 0.03443385678676781, 0.033856621370901466, 0.03382154358542112, 0.03367606484937122, 0.03329094706544682, 0.03328915706873503, 0.032773489317205064, 0.032761429435625405, 0.03298526971202565, 0.03241222808920234, 0.03231438229650231, 0.03232502602955381, 0.03195526873617239, 0.03209744568481493, 0.03215832037392149, 0.032100019195557654, 0.03192657022802924, 0.031999394879786335, 0.031468830723931085, 0.031404030765208917, 0.03192574259797788, 0.031547970186859176, 0.03147521319801763, 0.0312724411944886, 0.03157885154890384, 0.0313962033357932, 0.03143692366441147, 0.031164958756469803, 0.031191992567284024, 0.03111520139773124, 0.03097041929360546, 0.03098890001729933, 0.031065791289518193, 0.031044766251472677, 0.030841740782216992, 0.031172994863702737, 0.030860633905924244, 0.030980241790104297, 0.030992682678475485]\n"
     ]
    }
   ],
   "source": [
    "print(train_loss_list)"
   ]
  },
  {
   "cell_type": "code",
   "execution_count": null,
   "metadata": {},
   "outputs": [],
   "source": []
  }
 ],
 "metadata": {
  "kernelspec": {
   "display_name": "ldm",
   "language": "python",
   "name": "python3"
  },
  "language_info": {
   "codemirror_mode": {
    "name": "ipython",
    "version": 3
   },
   "file_extension": ".py",
   "mimetype": "text/x-python",
   "name": "python",
   "nbconvert_exporter": "python",
   "pygments_lexer": "ipython3",
   "version": "3.8.20"
  }
 },
 "nbformat": 4,
 "nbformat_minor": 4
}
