{
 "cells": [
  {
   "cell_type": "markdown",
   "metadata": {},
   "source": [
    "## Import library"
   ]
  },
  {
   "cell_type": "markdown",
   "metadata": {},
   "source": [
    "packages allowed for use during inference"
   ]
  },
  {
   "cell_type": "code",
   "execution_count": 1,
   "metadata": {},
   "outputs": [],
   "source": [
    "import os\n",
    "import numpy as np\n",
    "\n",
    "import torch\n",
    "import torch.nn as nn\n",
    "import torch.optim as optim\n",
    "from torch.optim.lr_scheduler import ReduceLROnPlateau, CosineAnnealingLR\n",
    "from torch.utils.data import DataLoader, Dataset\n",
    "from torchvision import models, transforms\n",
    "import torchvision\n",
    "\n",
    "import imageio as imageio\n",
    "import matplotlib.pyplot as plt\n",
    "from PIL import Image\n",
    "from tqdm import tqdm\n",
    "\n",
    "from modules_v5 import UNet_conditional\n",
    "from P1_CustomDataset import P1_CustomDataset\n",
    "from P1_CombinedDataset import P1_CombinedDataset"
   ]
  },
  {
   "cell_type": "markdown",
   "metadata": {},
   "source": [
    "packages during training"
   ]
  },
  {
   "cell_type": "markdown",
   "metadata": {},
   "source": [
    "## Hyperparameters"
   ]
  },
  {
   "cell_type": "code",
   "execution_count": 2,
   "metadata": {},
   "outputs": [
    {
     "name": "stdout",
     "output_type": "stream",
     "text": [
      "True\n"
     ]
    }
   ],
   "source": [
    "BATCH_SIZE = 128\n",
    "device = torch.device(\"cuda\" if torch.cuda.is_available() else \"cpu\")\n",
    "print(torch.cuda.is_available())"
   ]
  },
  {
   "cell_type": "markdown",
   "metadata": {},
   "source": [
    "## Define Custom Dataset"
   ]
  },
  {
   "cell_type": "markdown",
   "metadata": {},
   "source": [
    "training dataset的mean & std"
   ]
  },
  {
   "cell_type": "code",
   "execution_count": 3,
   "metadata": {},
   "outputs": [],
   "source": [
    "train_mean = [0.5, 0.5, 0.5]\n",
    "train_std = [0.5, 0.5, 0.5]"
   ]
  },
  {
   "cell_type": "markdown",
   "metadata": {},
   "source": [
    "建train transform和val transform\n",
    "\n",
    "val transform和test transform一樣"
   ]
  },
  {
   "cell_type": "code",
   "execution_count": 4,
   "metadata": {},
   "outputs": [],
   "source": [
    "# Data Transformations\n",
    "transform_train = transforms.Compose([\n",
    "    transforms.Resize((28, 28)),\n",
    "    transforms.ToTensor(),\n",
    "    transforms.Normalize(mean=train_mean, std=train_std),\n",
    "])"
   ]
  },
  {
   "cell_type": "markdown",
   "metadata": {},
   "source": [
    "用P1_CustomDataset分別產生兩個資料集的train dataset，再將兩個dataset合成一個dataset，並產生trainloader"
   ]
  },
  {
   "cell_type": "code",
   "execution_count": 5,
   "metadata": {},
   "outputs": [
    {
     "name": "stdout",
     "output_type": "stream",
     "text": [
      "1059\n"
     ]
    }
   ],
   "source": [
    "train_dataset_MNISTM = P1_CustomDataset(csv_file='../hw2_data/digits/mnistm/train.csv', root_dir='../hw2_data/digits/mnistm/data', transform=transform_train)\n",
    "train_dataset_SVHN = P1_CustomDataset(csv_file='../hw2_data/digits/svhn/train.csv', root_dir='../hw2_data/digits/svhn/data', transform=transform_train)\n",
    "combined_dataset = P1_CombinedDataset(train_dataset_MNISTM, train_dataset_SVHN)\n",
    "\n",
    "combined_loader = DataLoader(combined_dataset, batch_size=BATCH_SIZE, shuffle=True, num_workers=2)\n",
    "print(len(combined_loader))"
   ]
  },
  {
   "cell_type": "code",
   "execution_count": 6,
   "metadata": {},
   "outputs": [
    {
     "name": "stdout",
     "output_type": "stream",
     "text": [
      "type(image_first_batch):  <class 'torch.Tensor'>\n",
      "image_first_batch.shape:  torch.Size([128, 3, 28, 28])\n",
      "type(label_first_batch):  <class 'list'>\n",
      "label_dataset.shape:  torch.Size([128])\n",
      "label_image.shape:  torch.Size([128])\n",
      "normalized pixel value: tensor(0.3255)\n",
      "label_dataset (should be integer 0 ~ 1): tensor(0)\n",
      "label_image (should be integer 0 ~ 9): tensor(6)\n"
     ]
    }
   ],
   "source": [
    "# print shape\n",
    "image_first_batch, label_first_batch = next(iter(combined_loader))  #get first batch's image & mask\n",
    "label_dataset, label_image = label_first_batch\n",
    "print(\"type(image_first_batch): \", type(image_first_batch))\n",
    "print(\"image_first_batch.shape: \", image_first_batch.shape)\n",
    "print(\"type(label_first_batch): \", type(label_first_batch))\n",
    "print(\"label_dataset.shape: \", label_dataset.shape)\n",
    "print(\"label_image.shape: \", label_image.shape)\n",
    "# get some values\n",
    "print(\"normalized pixel value:\", image_first_batch[3][0][9][8])\n",
    "print(\"label_dataset (should be integer 0 ~ 1):\",label_dataset[3])\n",
    "print(\"label_image (should be integer 0 ~ 9):\",label_image[3])"
   ]
  },
  {
   "cell_type": "code",
   "execution_count": 7,
   "metadata": {},
   "outputs": [
    {
     "name": "stdout",
     "output_type": "stream",
     "text": [
      "dataset label of first batch: tensor([1, 0, 0, 0, 1, 0, 1, 1, 1, 0, 1, 1, 1, 1, 0, 0, 0, 1, 0, 0, 0, 0, 0, 1,\n",
      "        0, 1, 0, 0, 0, 0, 1, 0, 1, 1, 1, 0, 1, 0, 0, 1, 0, 0, 0, 0, 0, 1, 1, 0,\n",
      "        1, 1, 0, 0, 0, 1, 1, 1, 1, 1, 1, 1, 0, 0, 0, 1, 1, 1, 0, 1, 1, 1, 1, 1,\n",
      "        0, 0, 1, 1, 1, 0, 0, 1, 0, 0, 1, 1, 1, 1, 0, 0, 1, 1, 1, 1, 0, 1, 1, 1,\n",
      "        0, 1, 1, 1, 0, 1, 0, 0, 1, 0, 0, 1, 1, 0, 1, 0, 0, 1, 1, 1, 1, 0, 0, 1,\n",
      "        1, 1, 0, 0, 1, 1, 0, 1])\n"
     ]
    }
   ],
   "source": [
    "print(\"dataset label of first batch:\", label_dataset) # two datasets are mixed together"
   ]
  },
  {
   "cell_type": "code",
   "execution_count": 8,
   "metadata": {},
   "outputs": [
    {
     "name": "stderr",
     "output_type": "stream",
     "text": [
      "Clipping input data to the valid range for imshow with RGB data ([0..1] for floats or [0..255] for integers).\n"
     ]
    },
    {
     "name": "stdout",
     "output_type": "stream",
     "text": [
      "label of dataset: tensor(1)\n",
      "label of image: tensor(4)\n",
      "shape:  (28, 28, 3)\n"
     ]
    },
    {
     "data": {
      "image/png": "[encoded data removed]",
      "text/plain": [
       "<Figure size 640x480 with 1 Axes>"
      ]
     },
     "metadata": {},
     "output_type": "display_data"
    }
   ],
   "source": [
    "# visualize with normalization\n",
    "idx = 0\n",
    "first_image = image_first_batch[idx]\n",
    "first_label_dataset = label_dataset[idx]\n",
    "first_label_image = label_image[idx]\n",
    "print(\"label of dataset:\",first_label_dataset)\n",
    "print(\"label of image:\",first_label_image)\n",
    "\n",
    "# Convert the tensor to numpy array\n",
    "image_np = first_image.numpy()\n",
    "# Since matplotlib expects images in H x W x C format, we need to transpose it\n",
    "image_np = np.transpose(image_np, (1, 2, 0))\n",
    "\n",
    "print(\"shape: \",image_np.shape) # need to convert back to 28*28 during inference (in digit_classifier.py)\n",
    "\n",
    "# Plot the image\n",
    "plt.imshow(image_np)\n",
    "plt.axis('off')  # Turn off axis numbers and ticks\n",
    "plt.show()"
   ]
  },
  {
   "cell_type": "markdown",
   "metadata": {},
   "source": [
    "## Build Model"
   ]
  },
  {
   "cell_type": "markdown",
   "metadata": {},
   "source": [
    "instance model and put it on device"
   ]
  },
  {
   "cell_type": "code",
   "execution_count": 15,
   "metadata": {},
   "outputs": [],
   "source": [
    "net = UNet_conditional(size=28, time_dim=256, num_classes=20, device=device).to(device)"
   ]
  },
  {
   "cell_type": "code",
   "execution_count": 16,
   "metadata": {},
   "outputs": [
    {
     "name": "stdout",
     "output_type": "stream",
     "text": [
      "torch.Size([10, 3, 28, 28])\n",
      "torch.float32\n",
      "torch.int64\n"
     ]
    }
   ],
   "source": [
    "#print output shape\n",
    "x = torch.randn(10,3,28,28).to(device) # dummy input也放到device\n",
    "t = torch.randint(0, 500, (10,)).to(device)  # Ensure values are in range [0, 9]\n",
    "y = torch.randint(0, 20, (10,)).to(device)\n",
    "#dataset_label = torch.randint(0, 2, (10,)).to(device)\n",
    "output = net(x, t, y)\n",
    "print(output.shape)\n",
    "print(x.dtype)\n",
    "print(y.dtype)"
   ]
  },
  {
   "cell_type": "markdown",
   "metadata": {},
   "source": [
    "## Training"
   ]
  },
  {
   "cell_type": "markdown",
   "metadata": {},
   "source": [
    "Loss and Optimizer and epoch_n"
   ]
  },
  {
   "cell_type": "code",
   "execution_count": 17,
   "metadata": {},
   "outputs": [],
   "source": [
    "# number of epoch\n",
    "num_epochs = 400\n",
    "# DDPM paper suggest using MSE as noise loss\n",
    "criterion = nn.MSELoss()\n",
    "# Initialize optimizer\n",
    "optimizer = optim.Adam(net.parameters(), lr=0.0001, weight_decay=1e-5)\n",
    "\n",
    "# Different base learning rate and update strategy #!!!!!!\n",
    "#scheduler = torch.optim.lr_scheduler.StepLR(optimizer, step_size=10, gamma=0.5, last_epoch=-1)\n",
    "#scheduler = ReduceLROnPlateau(optimizer, mode='max', factor=0.5, patience=5)  #if 10個epoch沒進步==> lr *= 0.5\n",
    "scheduler = CosineAnnealingLR(optimizer, T_max=num_epochs * len(combined_loader), eta_min = 0) # update lr each batch\n",
    "\n",
    "# total time steps\n",
    "T = 500\n"
   ]
  },
  {
   "cell_type": "markdown",
   "metadata": {},
   "source": [
    "#### DDPM training functions"
   ]
  },
  {
   "cell_type": "markdown",
   "metadata": {},
   "source": [
    "alpha_t and alpha_hat_t of DDPM"
   ]
  },
  {
   "cell_type": "code",
   "execution_count": 18,
   "metadata": {},
   "outputs": [],
   "source": [
    "# 1. beta\n",
    "def beta_scheduler(n_timestep=1000, linear_start=1e-4, linear_end=2e-2):\n",
    "    betas = torch.linspace(linear_start, linear_end, n_timestep, dtype=torch.float64)\n",
    "    return betas\n",
    "beta_1 = 1e-4\n",
    "beta_T = 2e-2\n",
    "beta = beta_scheduler(T, beta_1, beta_T) \n",
    "# 2. alpha\n",
    "alpha = 1 - beta\n",
    "# 3. alpha_hat\n",
    "# alpha hat = [alpha[0], alpha[0]*alpha[1], alpha[0]*alpha[1]*alpha[2], ... ,alpha[0]*...*alpha[T-1])] \n",
    "alpha_hat = torch.zeros_like(alpha) # tensor with len T, alpha_hat.shape = T\n",
    "alpha_hat[0] = alpha[0] # Set the first element\n",
    "for i in range(1, alpha.shape[0]):\n",
    "    alpha_hat[i] = alpha_hat[i - 1] * alpha[i]\n",
    "\n",
    "\n",
    "torch.save(beta, './alpha_tensors/beta_tensor.pt')\n",
    "torch.save(alpha, './alpha_tensors/alpha_tensor.pt')\n",
    "torch.save(alpha_hat, './alpha_tensors/alpha_hat_tensor.pt')"
   ]
  },
  {
   "cell_type": "markdown",
   "metadata": {},
   "source": [
    "functions"
   ]
  },
  {
   "cell_type": "code",
   "execution_count": 19,
   "metadata": {},
   "outputs": [],
   "source": [
    "def noise_x_t(alpha_hat, x_0, t, epsilon):\n",
    "    \"\"\"given x[0](origin image) and t, return x[t](noisy image from x[0] by adding epsilon repeatly t times)\"\"\"\n",
    "    \"\"\"一步登天\"\"\"\n",
    "    \"\"\"epsilon.shape = x_0.shape = N*C*H*W,  t.shape = N\"\"\"\n",
    "    \"\"\"alpha_hat.shape = T, index t = 0 ~ T-1\"\"\"\n",
    "\n",
    "    sqrt_alpha_hat = torch.sqrt(alpha_hat[t]).unsqueeze(1).unsqueeze(1).unsqueeze(1) # sqrt_alpha_hat.shape = N*1*1*1\n",
    "    sqrt_one_minus_alpha_hat = torch.sqrt(1 - alpha_hat[t]).unsqueeze(1).unsqueeze(1).unsqueeze(1) # sqrt_one_minus_alpha_hat.shape = N*1*1*1\n",
    "\n",
    "    x_t = sqrt_alpha_hat * x_0 + sqrt_one_minus_alpha_hat * epsilon\n",
    "    \n",
    "    return x_t #x[t] is N*C*H*W"
   ]
  },
  {
   "cell_type": "markdown",
   "metadata": {},
   "source": [
    "#### training loop (DDPM framework)"
   ]
  },
  {
   "cell_type": "code",
   "execution_count": 20,
   "metadata": {},
   "outputs": [
    {
     "name": "stderr",
     "output_type": "stream",
     "text": [
      "Epoch 1/400: 100%|█████████████████████████████████████████████████████████████████████████████████████| 1059/1059 [05:56<00:00,  2.97batch/s]\n"
     ]
    },
    {
     "name": "stdout",
     "output_type": "stream",
     "text": [
      "Epoch 1/400 - Loss: 0.1177\n",
      "Learning rate 9.999845788223956e-05\n",
      "Saved model to ../checkpoint_model/P1/P1_model_ver5_1_epoch0.pth. Training loss = 0.1177058587760099\n"
     ]
    },
    {
     "name": "stderr",
     "output_type": "stream",
     "text": [
      "Epoch 2/400: 100%|████████████████████████████████████████████████████████████████████████████████████████████████| 1059/1059 [05:56<00:00,  2.97batch/s]\n"
     ]
    },
    {
     "name": "stdout",
     "output_type": "stream",
     "text": [
      "Epoch 2/400 - Loss: 0.0546\n",
      "Learning rate 9.999383162408271e-05\n"
     ]
    },
    {
     "name": "stderr",
     "output_type": "stream",
     "text": [
      "Epoch 3/400: 100%|████████████████████████████████████████████████████████████████████████████████████████████████| 1059/1059 [05:56<00:00,  2.97batch/s]\n"
     ]
    },
    {
     "name": "stdout",
     "output_type": "stream",
     "text": [
      "Epoch 3/400 - Loss: 0.0458\n",
      "Learning rate 9.998612151089975e-05\n"
     ]
    },
    {
     "name": "stderr",
     "output_type": "stream",
     "text": [
      "Epoch 4/400: 100%|████████████████████████████████████████████████████████████████████████████████████████████████| 1059/1059 [05:56<00:00,  2.97batch/s]\n"
     ]
    },
    {
     "name": "stdout",
     "output_type": "stream",
     "text": [
      "Epoch 4/400 - Loss: 0.0418\n",
      "Learning rate 9.997532801828623e-05\n"
     ]
    },
    {
     "name": "stderr",
     "output_type": "stream",
     "text": [
      "Epoch 5/400: 100%|████████████████████████████████████████████████████████████████████████████████████████████████| 1059/1059 [05:56<00:00,  2.97batch/s]\n"
     ]
    },
    {
     "name": "stdout",
     "output_type": "stream",
     "text": [
      "Epoch 5/400 - Loss: 0.0387\n",
      "Learning rate 9.996145181203566e-05\n"
     ]
    },
    {
     "name": "stderr",
     "output_type": "stream",
     "text": [
      "Epoch 6/400:  44%|██████████████████████████████████████████▍                                                      | 463/1059 [02:36<03:21,  2.97batch/s]IOPub message rate exceeded.\n",
      "The Jupyter server will temporarily stop sending output\n",
      "to the client in order to avoid crashing it.\n",
      "To change this limit, set the config variable\n",
      "`--ServerApp.iopub_msg_rate_limit`.\n",
      "\n",
      "Current values:\n",
      "ServerApp.iopub_msg_rate_limit=1000.0 (msgs/sec)\n",
      "ServerApp.rate_limit_window=3.0 (secs)\n",
      "\n",
      "Epoch 19/400: 100%|███████████████████████████████████████████████████████████████████████████████████████████████| 1059/1059 [05:56<00:00,  2.97batch/s]\n"
     ]
    },
    {
     "name": "stdout",
     "output_type": "stream",
     "text": [
      "Epoch 19/400 - Loss: 0.0299\n",
      "Learning rate 9.944432493722465e-05\n"
     ]
    },
    {
     "name": "stderr",
     "output_type": "stream",
     "text": [
      "Epoch 20/400:   2%|▉                                                      | 19/1059 [00:06<06:08,  2.83batch/s]\n"
     ]
    },
    {
     "ename": "KeyboardInterrupt",
     "evalue": "",
     "output_type": "error",
     "traceback": [
      "\u001b[0;31m---------------------------------------------------------------------------\u001b[0m",
      "\u001b[0;31mKeyboardInterrupt\u001b[0m                         Traceback (most recent call last)",
      "Cell \u001b[0;32mIn[20], line 50\u001b[0m\n\u001b[1;32m     48\u001b[0m loss \u001b[38;5;241m=\u001b[39m criterion(noise, predict_noise) \u001b[38;5;66;03m# MSE loss\u001b[39;00m\n\u001b[1;32m     49\u001b[0m optimizer\u001b[38;5;241m.\u001b[39mzero_grad()\n\u001b[0;32m---> 50\u001b[0m \u001b[43mloss\u001b[49m\u001b[38;5;241;43m.\u001b[39;49m\u001b[43mbackward\u001b[49m\u001b[43m(\u001b[49m\u001b[43m)\u001b[49m\n\u001b[1;32m     51\u001b[0m optimizer\u001b[38;5;241m.\u001b[39mstep()\n\u001b[1;32m     54\u001b[0m train_loss \u001b[38;5;241m+\u001b[39m\u001b[38;5;241m=\u001b[39m loss\u001b[38;5;241m.\u001b[39mitem()\n",
      "File \u001b[0;32m~/miniconda3/envs/ldm/lib/python3.8/site-packages/torch/_tensor.py:363\u001b[0m, in \u001b[0;36mTensor.backward\u001b[0;34m(self, gradient, retain_graph, create_graph, inputs)\u001b[0m\n\u001b[1;32m    354\u001b[0m \u001b[38;5;28;01mif\u001b[39;00m has_torch_function_unary(\u001b[38;5;28mself\u001b[39m):\n\u001b[1;32m    355\u001b[0m     \u001b[38;5;28;01mreturn\u001b[39;00m handle_torch_function(\n\u001b[1;32m    356\u001b[0m         Tensor\u001b[38;5;241m.\u001b[39mbackward,\n\u001b[1;32m    357\u001b[0m         (\u001b[38;5;28mself\u001b[39m,),\n\u001b[0;32m   (...)\u001b[0m\n\u001b[1;32m    361\u001b[0m         create_graph\u001b[38;5;241m=\u001b[39mcreate_graph,\n\u001b[1;32m    362\u001b[0m         inputs\u001b[38;5;241m=\u001b[39minputs)\n\u001b[0;32m--> 363\u001b[0m \u001b[43mtorch\u001b[49m\u001b[38;5;241;43m.\u001b[39;49m\u001b[43mautograd\u001b[49m\u001b[38;5;241;43m.\u001b[39;49m\u001b[43mbackward\u001b[49m\u001b[43m(\u001b[49m\u001b[38;5;28;43mself\u001b[39;49m\u001b[43m,\u001b[49m\u001b[43m \u001b[49m\u001b[43mgradient\u001b[49m\u001b[43m,\u001b[49m\u001b[43m \u001b[49m\u001b[43mretain_graph\u001b[49m\u001b[43m,\u001b[49m\u001b[43m \u001b[49m\u001b[43mcreate_graph\u001b[49m\u001b[43m,\u001b[49m\u001b[43m \u001b[49m\u001b[43minputs\u001b[49m\u001b[38;5;241;43m=\u001b[39;49m\u001b[43minputs\u001b[49m\u001b[43m)\u001b[49m\n",
      "File \u001b[0;32m~/miniconda3/envs/ldm/lib/python3.8/site-packages/torch/autograd/__init__.py:173\u001b[0m, in \u001b[0;36mbackward\u001b[0;34m(tensors, grad_tensors, retain_graph, create_graph, grad_variables, inputs)\u001b[0m\n\u001b[1;32m    168\u001b[0m     retain_graph \u001b[38;5;241m=\u001b[39m create_graph\n\u001b[1;32m    170\u001b[0m \u001b[38;5;66;03m# The reason we repeat same the comment below is that\u001b[39;00m\n\u001b[1;32m    171\u001b[0m \u001b[38;5;66;03m# some Python versions print out the first line of a multi-line function\u001b[39;00m\n\u001b[1;32m    172\u001b[0m \u001b[38;5;66;03m# calls in the traceback and some print out the last line\u001b[39;00m\n\u001b[0;32m--> 173\u001b[0m \u001b[43mVariable\u001b[49m\u001b[38;5;241;43m.\u001b[39;49m\u001b[43m_execution_engine\u001b[49m\u001b[38;5;241;43m.\u001b[39;49m\u001b[43mrun_backward\u001b[49m\u001b[43m(\u001b[49m\u001b[43m  \u001b[49m\u001b[38;5;66;43;03m# Calls into the C++ engine to run the backward pass\u001b[39;49;00m\n\u001b[1;32m    174\u001b[0m \u001b[43m    \u001b[49m\u001b[43mtensors\u001b[49m\u001b[43m,\u001b[49m\u001b[43m \u001b[49m\u001b[43mgrad_tensors_\u001b[49m\u001b[43m,\u001b[49m\u001b[43m \u001b[49m\u001b[43mretain_graph\u001b[49m\u001b[43m,\u001b[49m\u001b[43m \u001b[49m\u001b[43mcreate_graph\u001b[49m\u001b[43m,\u001b[49m\u001b[43m \u001b[49m\u001b[43minputs\u001b[49m\u001b[43m,\u001b[49m\n\u001b[1;32m    175\u001b[0m \u001b[43m    \u001b[49m\u001b[43mallow_unreachable\u001b[49m\u001b[38;5;241;43m=\u001b[39;49m\u001b[38;5;28;43;01mTrue\u001b[39;49;00m\u001b[43m,\u001b[49m\u001b[43m \u001b[49m\u001b[43maccumulate_grad\u001b[49m\u001b[38;5;241;43m=\u001b[39;49m\u001b[38;5;28;43;01mTrue\u001b[39;49;00m\u001b[43m)\u001b[49m\n",
      "\u001b[0;31mKeyboardInterrupt\u001b[0m: "
     ]
    }
   ],
   "source": [
    "# Training Loop\n",
    "model_version = 5    # version 5: combined 2 datasets to 1 dataset + change model to deeper + T = 500\n",
    "training_version = 1 # for name of checkpoint model # train的第幾次\n",
    "\n",
    "train_loss_list = []\n",
    "save_model_loss_list = []\n",
    "lr_list = []\n",
    "\n",
    "beta = beta.to(device)\n",
    "alpha = alpha.to(device)\n",
    "alpha_hat = alpha_hat.to(device)\n",
    "\n",
    "for epoch in range(num_epochs):\n",
    "\n",
    "    net.train() #開啟BN & DROPOUT\n",
    "    train_loss = 0\n",
    "\n",
    "    for images, label_dataset_image in tqdm(combined_loader, desc=f'Epoch {epoch + 1}/{num_epochs}', unit='batch'):  #進度條以batch完成度為趴數\n",
    "        # ========================================================== step1: x0 ~ q(x0) ===========================================================\n",
    "        # x0 is original image: images\n",
    "        dataset_label = label_dataset_image[0]\n",
    "        image_label = label_dataset_image[1]\n",
    "        images, dataset_label, image_label = images.to(device), dataset_label.to(device), image_label.to(device)# model, input output of model are moved to GPU during training\n",
    "        N, C, H, W = images.shape[0], images.shape[1], images.shape[2], images.shape[3]\n",
    "\n",
    "        # ==================================================== step2: t ~ Uniform({1,...,T}) =====================================================\n",
    "        t_np = np.random.randint(0, T, size=(N,))  # Sample t from Uniform({0, ..., T-1}) # python is 0-indexing\n",
    "        t = torch.from_numpy(t_np)\n",
    "        t = t.to(device)\n",
    "\n",
    "        # ======================================================= step3: epsilon ~ N(0, 1) =======================================================\n",
    "        noise = torch.randn(N, C, H, W)  # Sample noise from normal distribution with mean 0 and standard deviation 1\n",
    "        noise = noise.to(device)         # dtype = float32     # shape = N* C* H* W\n",
    "\n",
    "        # ===================================== step4: take gradient descent step on noise and predict_noise =====================================\n",
    "        x_t = noise_x_t(alpha_hat=alpha_hat, x_0=images, t=t, epsilon=noise)\n",
    "        x_t = x_t.to(device)\n",
    "        \n",
    "        #predict_noise=N*C*H*W\n",
    "        # version 5: combined 2 datasets to 1 dataset\n",
    "        image_label = image_label + 10 * dataset_label\n",
    "        image_label = image_label.to(device)\n",
    "        \n",
    "        if torch.rand(1).item() < 0.1:  # 10% chance to enter this block # 10% of training is unconditional training\n",
    "            image_label = None \n",
    "        predict_noise = net(x=x_t.float(), t=t, y=image_label) #x=N*C*H*W, t=N, y=N, \n",
    "\n",
    "        loss = criterion(noise, predict_noise) # MSE loss\n",
    "        optimizer.zero_grad()\n",
    "        loss.backward()\n",
    "        optimizer.step()\n",
    "\n",
    "\n",
    "        train_loss += loss.item()\n",
    "\n",
    "        scheduler.step() # update lr each batch(cosine scheduler)\n",
    "        \n",
    "\n",
    "\n",
    "    train_loss /= len(combined_loader)\n",
    "\n",
    "\n",
    "    # Logging\n",
    "    print(f'Epoch {epoch + 1}/{num_epochs} - Loss: {train_loss:.4f}')\n",
    "    print(f'Learning rate {scheduler.get_last_lr()[0]}')\n",
    "    train_loss_list.append(train_loss)\n",
    "\n",
    "    #scheduler.step() # update lr each epoch(linear step scheduler)\n",
    "    lr_list.append(scheduler.get_last_lr()[0])\n",
    "\n",
    "    if epoch % 40 == 0:\n",
    "        # save the model state_dict\n",
    "        save_dir = os.path.join(\"../checkpoint_model\", \"P1\", f'P1_model_ver{model_version}_{training_version}_epoch{epoch}.pth')\n",
    "        torch.save(net.state_dict(), save_dir)\n",
    "        save_model_loss_list.append([f'P1_model_ver{model_version}_{training_version}_epoch{epoch}.pth' ,train_loss])\n",
    "        print(f'Saved model to {save_dir}. Training loss = {train_loss}')\n",
    "\n",
    "# save the model state_dict\n",
    "save_dir = os.path.join(\"../checkpoint_model\", \"P1\", f'P1_model_ver{model_version}_{training_version}.pth')\n",
    "torch.save(net.state_dict(), save_dir)\n",
    "print(f'Saved model  to {save_dir}')"
   ]
  },
  {
   "cell_type": "code",
   "execution_count": 26,
   "metadata": {},
   "outputs": [
    {
     "name": "stdout",
     "output_type": "stream",
     "text": [
      "Saved model  to ../checkpoint_model/P1/P1_model_ver5_1.pth\n"
     ]
    }
   ],
   "source": [
    "# save the model state_dict\n",
    "save_dir = os.path.join(\"../checkpoint_model\", \"P1\", f'P1_model_ver{model_version}_{training_version}.pth')\n",
    "torch.save(net.state_dict(), save_dir)\n",
    "print(f'Saved model  to {save_dir}')"
   ]
  },
  {
   "cell_type": "code",
   "execution_count": 21,
   "metadata": {},
   "outputs": [
    {
     "data": {
      "image/png": "[encoded data removed]",
      "text/plain": [
       "<Figure size 1000x600 with 1 Axes>"
      ]
     },
     "metadata": {},
     "output_type": "display_data"
    }
   ],
   "source": [
    "plt.figure(figsize=(10, 6))\n",
    "\n",
    "# Plot training loss\n",
    "plt.plot(train_loss_list, label='Train Loss', color='blue')\n",
    "\n",
    "# Adding titles and labels\n",
    "plt.title('Training Loss over Epochs')\n",
    "plt.xlabel('Epoch')\n",
    "plt.ylabel('Value')\n",
    "plt.legend()\n",
    "plt.grid()\n",
    "# Show the plot\n",
    "plt.show()"
   ]
  },
  {
   "cell_type": "code",
   "execution_count": 22,
   "metadata": {},
   "outputs": [
    {
     "data": {
      "image/png": "[encoded data removed]",
      "text/plain": [
       "<Figure size 1000x600 with 1 Axes>"
      ]
     },
     "metadata": {},
     "output_type": "display_data"
    }
   ],
   "source": [
    "plt.figure(figsize=(10, 6))\n",
    "# Plot Learning rate\n",
    "plt.plot(lr_list, label='Learning rate', color='orange')\n",
    "\n",
    "\n",
    "# Adding titles and labels\n",
    "plt.title('Learning rate over Epochs')\n",
    "plt.xlabel('Epochs')\n",
    "plt.ylabel('Value')\n",
    "plt.legend()\n",
    "plt.grid()\n",
    "\n",
    "# Show the plot\n",
    "plt.show()"
   ]
  },
  {
   "cell_type": "code",
   "execution_count": 23,
   "metadata": {},
   "outputs": [
    {
     "name": "stdout",
     "output_type": "stream",
     "text": [
      "[0.1177058587760099, 0.054564988822786174, 0.04582013555286176, 0.04182897456257663, 0.03866919090864059, 0.03701697211673904, 0.035671679293376245, 0.03432950754478447, 0.03357833484055807, 0.032761737611056836, 0.032288700055482254, 0.03163530909903946, 0.03104168881079124, 0.030802142490633712, 0.030715107917785645, 0.030547932354949688, 0.030224722123250183, 0.029911289222862104, 0.029882676836113755]\n"
     ]
    }
   ],
   "source": [
    "print(train_loss_list)"
   ]
  },
  {
   "cell_type": "code",
   "execution_count": 24,
   "metadata": {},
   "outputs": [
    {
     "name": "stdout",
     "output_type": "stream",
     "text": [
      "P1_model_ver5_1_epoch0.pth:  0.1177058587760099\n"
     ]
    }
   ],
   "source": [
    "for name, loss in save_model_loss_list:\n",
    "    print(f\"{name}:  {loss}\")"
   ]
  },
  {
   "cell_type": "code",
   "execution_count": 25,
   "metadata": {},
   "outputs": [
    {
     "name": "stdout",
     "output_type": "stream",
     "text": [
      "[9.999845788223956e-05, 9.999383162408271e-05, 9.998612151089975e-05, 9.997532801828623e-05, 9.996145181203566e-05, 9.99444937480979e-05, 9.992445487252649e-05, 9.990133642141329e-05, 9.987513982081315e-05, 9.984586668665613e-05, 9.981351882464692e-05, 9.97780982301538e-05, 9.973960708808597e-05, 9.96980477727587e-05, 9.965342284774586e-05, 9.960573506572332e-05, 9.955498736829813e-05, 9.950118288582735e-05, 9.944432493722465e-05]\n"
     ]
    }
   ],
   "source": [
    "print(lr_list)"
   ]
  },
  {
   "cell_type": "code",
   "execution_count": null,
   "metadata": {},
   "outputs": [],
   "source": []
  }
 ],
 "metadata": {
  "kernelspec": {
   "display_name": "ENV_DLCV_HW1",
   "language": "python",
   "name": "python3"
  },
  "language_info": {
   "codemirror_mode": {
    "name": "ipython",
    "version": 3
   },
   "file_extension": ".py",
   "mimetype": "text/x-python",
   "name": "python",
   "nbconvert_exporter": "python",
   "pygments_lexer": "ipython3",
   "version": "3.8.19"
  }
 },
 "nbformat": 4,
 "nbformat_minor": 4
}
