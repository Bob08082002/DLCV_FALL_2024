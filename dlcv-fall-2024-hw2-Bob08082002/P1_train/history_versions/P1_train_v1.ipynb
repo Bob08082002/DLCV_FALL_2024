{
 "cells": [
  {
   "cell_type": "markdown",
   "metadata": {},
   "source": [
    "## Import library"
   ]
  },
  {
   "cell_type": "markdown",
   "metadata": {},
   "source": [
    "packages allowed for use during inference"
   ]
  },
  {
   "cell_type": "code",
   "execution_count": 1,
   "metadata": {},
   "outputs": [],
   "source": [
    "import os\n",
    "import numpy as np\n",
    "\n",
    "import torch\n",
    "import torch.nn as nn\n",
    "import torch.optim as optim\n",
    "from torch.optim.lr_scheduler import ReduceLROnPlateau, CosineAnnealingLR\n",
    "from torch.utils.data import DataLoader, Dataset\n",
    "from torchvision import models, transforms\n",
    "import torchvision\n",
    "\n",
    "import imageio as imageio\n",
    "import matplotlib.pyplot as plt\n",
    "from PIL import Image\n",
    "from tqdm import tqdm\n",
    "\n",
    "from modules_v1 import UNet_conditional\n",
    "from P1_CustomDataset import P1_CustomDataset\n",
    "from P1_CombinedDataset import P1_CombinedDataset"
   ]
  },
  {
   "cell_type": "markdown",
   "metadata": {},
   "source": [
    "packages during training"
   ]
  },
  {
   "cell_type": "markdown",
   "metadata": {},
   "source": [
    "## Hyperparameters"
   ]
  },
  {
   "cell_type": "code",
   "execution_count": 2,
   "metadata": {},
   "outputs": [
    {
     "name": "stdout",
     "output_type": "stream",
     "text": [
      "True\n"
     ]
    }
   ],
   "source": [
    "BATCH_SIZE = 64\n",
    "device = torch.device(\"cuda\" if torch.cuda.is_available() else \"cpu\")\n",
    "print(torch.cuda.is_available())"
   ]
  },
  {
   "cell_type": "markdown",
   "metadata": {},
   "source": [
    "## Define Custom Dataset"
   ]
  },
  {
   "cell_type": "markdown",
   "metadata": {},
   "source": [
    "training dataset的mean & std"
   ]
  },
  {
   "cell_type": "code",
   "execution_count": 3,
   "metadata": {},
   "outputs": [],
   "source": [
    "train_mean = [0.5, 0.5, 0.5]\n",
    "train_std = [0.5, 0.5, 0.5]"
   ]
  },
  {
   "cell_type": "markdown",
   "metadata": {},
   "source": [
    "建train transform和val transform\n",
    "\n",
    "val transform和test transform一樣"
   ]
  },
  {
   "cell_type": "code",
   "execution_count": 4,
   "metadata": {},
   "outputs": [],
   "source": [
    "# Data Transformations\n",
    "transform_train = transforms.Compose([\n",
    "    transforms.Resize((32, 32)),\n",
    "    transforms.ToTensor(),\n",
    "    transforms.Normalize(mean=train_mean, std=train_std),\n",
    "])"
   ]
  },
  {
   "cell_type": "markdown",
   "metadata": {},
   "source": [
    "用P1_CustomDataset分別產生兩個資料集的train dataset，再將兩個dataset合成一個dataset，並產生trainloader"
   ]
  },
  {
   "cell_type": "code",
   "execution_count": 5,
   "metadata": {},
   "outputs": [
    {
     "name": "stdout",
     "output_type": "stream",
     "text": [
      "2117\n"
     ]
    }
   ],
   "source": [
    "train_dataset_MNISTM = P1_CustomDataset(csv_file='../hw2_data/digits/mnistm/train.csv', root_dir='../hw2_data/digits/mnistm/data', transform=transform_train)\n",
    "train_dataset_SVHN = P1_CustomDataset(csv_file='../hw2_data/digits/svhn/train.csv', root_dir='../hw2_data/digits/svhn/data', transform=transform_train)\n",
    "combined_dataset = P1_CombinedDataset(train_dataset_MNISTM, train_dataset_SVHN)\n",
    "\n",
    "combined_loader = DataLoader(combined_dataset, batch_size=BATCH_SIZE, shuffle=True, num_workers=2)\n",
    "print(len(combined_loader))"
   ]
  },
  {
   "cell_type": "code",
   "execution_count": 6,
   "metadata": {},
   "outputs": [
    {
     "name": "stdout",
     "output_type": "stream",
     "text": [
      "type(image_first_batch):  <class 'torch.Tensor'>\n",
      "image_first_batch.shape:  torch.Size([64, 3, 32, 32])\n",
      "type(label_first_batch):  <class 'list'>\n",
      "label_dataset.shape:  torch.Size([64])\n",
      "label_image.shape:  torch.Size([64])\n",
      "normalized pixel value: tensor(0.0275)\n",
      "label_dataset (should be integer 0 ~ 1): tensor(0)\n",
      "label_image (should be integer 0 ~ 9): tensor(2)\n"
     ]
    }
   ],
   "source": [
    "# print shape\n",
    "image_first_batch, label_first_batch = next(iter(combined_loader))  #get first batch's image & mask\n",
    "label_dataset, label_image = label_first_batch\n",
    "print(\"type(image_first_batch): \", type(image_first_batch))\n",
    "print(\"image_first_batch.shape: \", image_first_batch.shape)\n",
    "print(\"type(label_first_batch): \", type(label_first_batch))\n",
    "print(\"label_dataset.shape: \", label_dataset.shape)\n",
    "print(\"label_image.shape: \", label_image.shape)\n",
    "# get some values\n",
    "print(\"normalized pixel value:\", image_first_batch[3][0][9][8])\n",
    "print(\"label_dataset (should be integer 0 ~ 1):\",label_dataset[3])\n",
    "print(\"label_image (should be integer 0 ~ 9):\",label_image[3])"
   ]
  },
  {
   "cell_type": "code",
   "execution_count": 7,
   "metadata": {},
   "outputs": [
    {
     "name": "stdout",
     "output_type": "stream",
     "text": [
      "dataset label of first batch: tensor([1, 1, 1, 0, 1, 1, 1, 0, 1, 0, 1, 1, 1, 1, 0, 0, 0, 0, 0, 1, 1, 0, 1, 0,\n",
      "        1, 1, 0, 0, 1, 1, 1, 1, 1, 1, 0, 1, 1, 1, 1, 0, 0, 0, 1, 1, 0, 0, 0, 1,\n",
      "        1, 1, 1, 1, 1, 0, 1, 0, 1, 0, 0, 0, 1, 0, 1, 1])\n"
     ]
    }
   ],
   "source": [
    "print(\"dataset label of first batch:\", label_dataset) # two datasets are mixed together"
   ]
  },
  {
   "cell_type": "code",
   "execution_count": 8,
   "metadata": {},
   "outputs": [
    {
     "name": "stderr",
     "output_type": "stream",
     "text": [
      "Clipping input data to the valid range for imshow with RGB data ([0..1] for floats or [0..255] for integers).\n"
     ]
    },
    {
     "name": "stdout",
     "output_type": "stream",
     "text": [
      "label of dataset: tensor(0)\n",
      "label of image: tensor(5)\n",
      "shape:  (32, 32, 3)\n"
     ]
    },
    {
     "data": {
      "image/png": "[encoded data removed]",
      "text/plain": [
       "<Figure size 640x480 with 1 Axes>"
      ]
     },
     "metadata": {},
     "output_type": "display_data"
    }
   ],
   "source": [
    "# visualize with normalization\n",
    "idx = 15\n",
    "first_image = image_first_batch[idx]\n",
    "first_label_dataset = label_dataset[idx]\n",
    "first_label_image = label_image[idx]\n",
    "print(\"label of dataset:\",first_label_dataset)\n",
    "print(\"label of image:\",first_label_image)\n",
    "\n",
    "# Convert the tensor to numpy array\n",
    "image_np = first_image.numpy()\n",
    "# Since matplotlib expects images in H x W x C format, we need to transpose it\n",
    "image_np = np.transpose(image_np, (1, 2, 0))\n",
    "\n",
    "print(\"shape: \",image_np.shape) # need to convert back to 28*28 during inference (in digit_classifier.py)\n",
    "\n",
    "# Plot the image\n",
    "plt.imshow(image_np)\n",
    "plt.axis('off')  # Turn off axis numbers and ticks\n",
    "plt.show()"
   ]
  },
  {
   "cell_type": "markdown",
   "metadata": {},
   "source": [
    "## Build Model"
   ]
  },
  {
   "cell_type": "markdown",
   "metadata": {},
   "source": [
    "instance model and put it on device"
   ]
  },
  {
   "cell_type": "code",
   "execution_count": 9,
   "metadata": {},
   "outputs": [],
   "source": [
    "net = UNet_conditional(size=32, time_dim=256, num_classes=10, device=device).to(device)"
   ]
  },
  {
   "cell_type": "code",
   "execution_count": 10,
   "metadata": {},
   "outputs": [
    {
     "name": "stdout",
     "output_type": "stream",
     "text": [
      "torch.Size([10, 3, 32, 32])\n",
      "torch.float32\n",
      "torch.int64\n"
     ]
    }
   ],
   "source": [
    "#print output shape\n",
    "x = torch.randn(10,3,32,32).to(device) # dummy input也放到device\n",
    "t = torch.randint(0, 500, (10,)).to(device)  # Ensure values are in range [0, 9]\n",
    "y = torch.randint(0, 10, (10,)).to(device)\n",
    "dataset_label = torch.randint(0, 2, (10,)).to(device)\n",
    "output = net(x, t, y, dataset_label)\n",
    "print(output.shape)\n",
    "print(x.dtype)\n",
    "print(y.dtype)"
   ]
  },
  {
   "cell_type": "markdown",
   "metadata": {},
   "source": [
    "## Training"
   ]
  },
  {
   "cell_type": "markdown",
   "metadata": {},
   "source": [
    "Loss and Optimizer and epoch_n"
   ]
  },
  {
   "cell_type": "code",
   "execution_count": 12,
   "metadata": {},
   "outputs": [],
   "source": [
    "# number of epoch\n",
    "num_epochs = 45\n",
    "# DDPM paper suggest using MSE as noise loss\n",
    "criterion = nn.MSELoss()\n",
    "# Initialize optimizer\n",
    "optimizer = optim.Adam(net.parameters(), lr=0.0001, weight_decay=1e-5)\n",
    "\n",
    "# Different base learning rate and update strategy #!!!!!!\n",
    "#scheduler = torch.optim.lr_scheduler.StepLR(optimizer, step_size=10, gamma=0.5, last_epoch=-1)\n",
    "#scheduler = ReduceLROnPlateau(optimizer, mode='max', factor=0.5, patience=5)  #if 10個epoch沒進步==> lr *= 0.5\n",
    "scheduler = CosineAnnealingLR(optimizer, T_max=num_epochs * len(combined_loader), eta_min = 1e-8) # update lr each batch\n",
    "\n",
    "# total time steps\n",
    "T = 1000\n"
   ]
  },
  {
   "cell_type": "markdown",
   "metadata": {},
   "source": [
    "#### DDPM training functions"
   ]
  },
  {
   "cell_type": "markdown",
   "metadata": {},
   "source": [
    "alpha_t and alpha_hat_t of DDPM"
   ]
  },
  {
   "cell_type": "code",
   "execution_count": 13,
   "metadata": {},
   "outputs": [],
   "source": [
    "# 1. beta\n",
    "beta_1 = 1e-4\n",
    "beta_T = 0.02\n",
    "beta = torch.linspace(beta_1, beta_T, T) \n",
    "# 2. alpha\n",
    "alpha = 1 - beta\n",
    "# 3. alpha_hat\n",
    "# alpha hat = [alpha[0], alpha[0]*alpha[1], alpha[0]*alpha[1]*alpha[2], ... ,alpha[0]*...*alpha[T-1])] \n",
    "alpha_hat = torch.zeros_like(alpha) # tensor with len T, alpha_hat.shape = T\n",
    "alpha_hat[0] = alpha[0] # Set the first element\n",
    "for i in range(1, alpha.shape[0]):\n",
    "    alpha_hat[i] = alpha_hat[i - 1] * alpha[i]\n",
    "\n",
    "\n",
    "torch.save(beta, './alpha_tensors/beta_tensor.pt')\n",
    "torch.save(alpha, './alpha_tensors/alpha_tensor.pt')\n",
    "torch.save(alpha_hat, './alpha_tensors/alpha_hat_tensor.pt')"
   ]
  },
  {
   "cell_type": "markdown",
   "metadata": {},
   "source": [
    "functions"
   ]
  },
  {
   "cell_type": "code",
   "execution_count": 14,
   "metadata": {},
   "outputs": [],
   "source": [
    "def noise_x_t(alpha_hat, x_0, t, epsilon):\n",
    "    \"\"\"given x[0](origin image) and t, return x[t](noisy image from x[0] by adding epsilon repeatly t times)\"\"\"\n",
    "    \"\"\"一步登天\"\"\"\n",
    "    \"\"\"epsilon.shape = x_0.shape = N*C*H*W,  t.shape = N\"\"\"\n",
    "    \"\"\"alpha_hat.shape = T, index t = 0 ~ T-1\"\"\"\n",
    "\n",
    "    sqrt_alpha_hat = torch.sqrt(alpha_hat[t]).unsqueeze(1).unsqueeze(1).unsqueeze(1) # sqrt_alpha_hat.shape = N*1*1*1\n",
    "    sqrt_one_minus_alpha_hat = torch.sqrt(1 - alpha_hat[t]).unsqueeze(1).unsqueeze(1).unsqueeze(1) # sqrt_one_minus_alpha_hat.shape = N*1*1*1\n",
    "\n",
    "    x_t = sqrt_alpha_hat * x_0 + sqrt_one_minus_alpha_hat * epsilon\n",
    "    \n",
    "    return x_t #x[t] is N*C*H*W"
   ]
  },
  {
   "cell_type": "markdown",
   "metadata": {},
   "source": [
    "#### training loop (DDPM framework)"
   ]
  },
  {
   "cell_type": "code",
   "execution_count": 15,
   "metadata": {},
   "outputs": [
    {
     "name": "stderr",
     "output_type": "stream",
     "text": [
      "Epoch 1/45: 100%|████████████████████████████████████████████████████████████████████████████████████████| 2117/2117 [12:21<00:00,  2.85batch/s]\n"
     ]
    },
    {
     "name": "stdout",
     "output_type": "stream",
     "text": [
      "Epoch 1/45 - Loss: 0.0635\n",
      "Learning rate 9.987821469274025e-05\n"
     ]
    },
    {
     "name": "stderr",
     "output_type": "stream",
     "text": [
      "Epoch 2/45: 100%|████████████████████████████████████████████████████████████████████████████████████████| 2117/2117 [13:31<00:00,  2.61batch/s]\n"
     ]
    },
    {
     "name": "stdout",
     "output_type": "stream",
     "text": [
      "Epoch 2/45 - Loss: 0.0269\n",
      "Learning rate 9.951345209673485e-05\n"
     ]
    },
    {
     "name": "stderr",
     "output_type": "stream",
     "text": [
      "Epoch 3/45: 100%|████████████████████████████████████████████████████████████████████████████████████████| 2117/2117 [12:32<00:00,  2.81batch/s]\n"
     ]
    },
    {
     "name": "stdout",
     "output_type": "stream",
     "text": [
      "Epoch 3/45 - Loss: 0.0227\n",
      "Learning rate 9.890748929868674e-05\n"
     ]
    },
    {
     "name": "stderr",
     "output_type": "stream",
     "text": [
      "Epoch 4/45: 100%|████████████████████████████████████████████████████████████████████████████████████████| 2117/2117 [11:01<00:00,  3.20batch/s]\n"
     ]
    },
    {
     "name": "stdout",
     "output_type": "stream",
     "text": [
      "Epoch 4/45 - Loss: 0.0208\n",
      "Learning rate 9.806327848843648e-05\n"
     ]
    },
    {
     "name": "stderr",
     "output_type": "stream",
     "text": [
      "Epoch 5/45: 100%|████████████████████████████████████████████████████████████████████████████████████████| 2117/2117 [11:00<00:00,  3.21batch/s]\n"
     ]
    },
    {
     "name": "stdout",
     "output_type": "stream",
     "text": [
      "Epoch 5/45 - Loss: 0.0194\n",
      "Learning rate 9.698493257619139e-05\n"
     ]
    },
    {
     "name": "stderr",
     "output_type": "stream",
     "text": [
      "Epoch 6/45: 100%|██████████████████████████████████████████████████████████████████████████████████████████████████████| 2117/2117 [11:01<00:00,  3.20batch/s]\n"
     ]
    },
    {
     "name": "stdout",
     "output_type": "stream",
     "text": [
      "Epoch 6/45 - Loss: 0.0186\n",
      "Learning rate 9.567770515484151e-05\n"
     ]
    },
    {
     "name": "stderr",
     "output_type": "stream",
     "text": [
      "Epoch 7/45: 100%|██████████████████████████████████████████████████████████████████████████████████████████████████████| 2117/2117 [11:05<00:00,  3.18batch/s]\n"
     ]
    },
    {
     "name": "stdout",
     "output_type": "stream",
     "text": [
      "Epoch 7/45 - Loss: 0.0179\n",
      "Learning rate 9.414796490498171e-05\n"
     ]
    },
    {
     "name": "stderr",
     "output_type": "stream",
     "text": [
      "Epoch 8/45: 100%|██████████████████████████████████████████████████████████████████████████████████████████████████████| 2117/2117 [11:02<00:00,  3.19batch/s]\n"
     ]
    },
    {
     "name": "stdout",
     "output_type": "stream",
     "text": [
      "Epoch 8/45 - Loss: 0.0175\n",
      "Learning rate 9.24031645673402e-05\n"
     ]
    },
    {
     "name": "stderr",
     "output_type": "stream",
     "text": [
      "Epoch 9/45: 100%|██████████████████████████████████████████████████████████████████████████████████████████████████████| 2117/2117 [11:02<00:00,  3.19batch/s]\n"
     ]
    },
    {
     "name": "stdout",
     "output_type": "stream",
     "text": [
      "Epoch 9/45 - Loss: 0.0171\n",
      "Learning rate 9.045180463377525e-05\n"
     ]
    },
    {
     "name": "stderr",
     "output_type": "stream",
     "text": [
      "Epoch 10/45: 100%|███████████████████████████████████████████████████████| 2117/2117 [11:00<00:00,  3.20batch/s]\n"
     ]
    },
    {
     "name": "stdout",
     "output_type": "stream",
     "text": [
      "Epoch 10/45 - Loss: 0.0168\n",
      "Learning rate 8.830339193373304e-05\n"
     ]
    },
    {
     "name": "stderr",
     "output_type": "stream",
     "text": [
      "Epoch 11/45: 100%|███████████████████████████████████████████████████████| 2117/2117 [11:03<00:00,  3.19batch/s]\n"
     ]
    },
    {
     "name": "stdout",
     "output_type": "stream",
     "text": [
      "Epoch 11/45 - Loss: 0.0166\n",
      "Learning rate 8.596839331793054e-05\n"
     ]
    },
    {
     "name": "stderr",
     "output_type": "stream",
     "text": [
      "Epoch 13/45: 100%|███████████████████████████████████████████████████████| 2117/2117 [10:59<00:00,  3.21batch/s]\n"
     ]
    },
    {
     "name": "stdout",
     "output_type": "stream",
     "text": [
      "Epoch 13/45 - Loss: 0.0164\n",
      "Learning rate 8.078499545890485e-05\n"
     ]
    },
    {
     "name": "stderr",
     "output_type": "stream",
     "text": [
      "Epoch 14/45:  57%|███████████████████████████████▏                       | 1199/2117 [06:11<04:50,  3.16batch/s]IOPub message rate exceeded.\n",
      "The Jupyter server will temporarily stop sending output\n",
      "to the client in order to avoid crashing it.\n",
      "To change this limit, set the config variable\n",
      "`--ServerApp.iopub_msg_rate_limit`.\n",
      "\n",
      "Current values:\n",
      "ServerApp.iopub_msg_rate_limit=1000.0 (msgs/sec)\n",
      "ServerApp.rate_limit_window=3.0 (secs)\n",
      "\n"
     ]
    }
   ],
   "source": [
    "# Training Loop\n",
    "version = 3 # for name of checkpoint model\n",
    "\n",
    "train_loss_list = []\n",
    "lr_list = []\n",
    "\n",
    "beta = beta.to(device)\n",
    "alpha = alpha.to(device)\n",
    "alpha_hat = alpha_hat.to(device)\n",
    "\n",
    "for epoch in range(num_epochs):\n",
    "\n",
    "    net.train() #開啟BN & DROPOUT\n",
    "    train_loss = 0\n",
    "\n",
    "    for images, label_dataset_image in tqdm(combined_loader, desc=f'Epoch {epoch + 1}/{num_epochs}', unit='batch'):  #進度條以batch完成度為趴數\n",
    "        # ========================================================== step1: x0 ~ q(x0) ===========================================================\n",
    "        # x0 is original image: images\n",
    "        dataset_label = label_dataset_image[0]\n",
    "        image_label = label_dataset_image[1]\n",
    "        images, dataset_label, image_label = images.to(device), dataset_label.to(device), image_label.to(device)# model, input output of model are moved to GPU during training\n",
    "        N, C, H, W = images.shape[0], images.shape[1], images.shape[2], images.shape[3]\n",
    "\n",
    "        # ==================================================== step2: t ~ Uniform({1,...,T}) =====================================================\n",
    "        t_np = np.random.randint(0, T, size=(N,))  # Sample t from Uniform({0, ..., T-1}) # python is 0-indexing\n",
    "        t = torch.from_numpy(t_np)\n",
    "        t = t.to(device)\n",
    "\n",
    "        # ======================================================= step3: epsilon ~ N(0, 1) =======================================================\n",
    "        noise = torch.randn(N, C, H, W)  # Sample noise from normal distribution with mean 0 and standard deviation 1\n",
    "        noise = noise.to(device)         # dtype = float32     # shape = N* C* H* W\n",
    "\n",
    "        # ===================================== step4: take gradient descent step on noise and predict_noise =====================================\n",
    "        x_t = noise_x_t(alpha_hat=alpha_hat, x_0=images, t=t, epsilon=noise)\n",
    "        x_t = x_t.to(device)\n",
    "        if torch.rand(1).item() < 0.1:  # 10% chance to enter this block # 10% of training is unconditional training\n",
    "            image_label = None \n",
    "            dataset_label = None\n",
    "        #predict_noise=N*C*H*W\n",
    "        predict_noise = net(x=x_t, t=t, y=image_label, dataset_label=dataset_label) #x=N*C*H*W, t=N, y=N, dataset_label=N    \n",
    "\n",
    "        loss = criterion(noise, predict_noise) # MSE loss\n",
    "        optimizer.zero_grad()\n",
    "        loss.backward()\n",
    "        optimizer.step()\n",
    "\n",
    "\n",
    "        train_loss += loss.item()\n",
    "\n",
    "        scheduler.step() # update lr each batch(cosine scheduler)\n",
    "        lr_list.append(scheduler.get_last_lr()[0])\n",
    "\n",
    "\n",
    "    train_loss /= len(combined_loader)\n",
    "\n",
    "\n",
    "    # Logging\n",
    "    print(f'Epoch {epoch + 1}/{num_epochs} - Loss: {train_loss:.4f}')\n",
    "    print(f'Learning rate {scheduler.get_last_lr()[0]}')\n",
    "    train_loss_list.append(train_loss)\n",
    "\n",
    "# save the model state_dict\n",
    "save_dir = os.path.join(\"../checkpoint_model\", \"P1\", f'P1_model_ver{version}.pth')\n",
    "torch.save(net.state_dict(), save_dir)\n",
    "print(f'Saved model for epoch to {save_dir}')"
   ]
  },
  {
   "cell_type": "code",
   "execution_count": 16,
   "metadata": {},
   "outputs": [
    {
     "data": {
      "image/png": "[encoded data removed]",
      "text/plain": [
       "<Figure size 1000x600 with 1 Axes>"
      ]
     },
     "metadata": {},
     "output_type": "display_data"
    }
   ],
   "source": [
    "plt.figure(figsize=(10, 6))\n",
    "\n",
    "# Plot training loss\n",
    "plt.plot(train_loss_list, label='Train Loss', color='blue')\n",
    "\n",
    "# Adding titles and labels\n",
    "plt.title('Training Loss over Epochs')\n",
    "plt.xlabel('Epoch')\n",
    "plt.ylabel('Value')\n",
    "plt.legend()\n",
    "plt.grid()\n",
    "# Show the plot\n",
    "plt.show()"
   ]
  },
  {
   "cell_type": "code",
   "execution_count": 17,
   "metadata": {},
   "outputs": [
    {
     "data": {
      "image/png": "[encoded data removed]",
      "text/plain": [
       "<Figure size 1000x600 with 1 Axes>"
      ]
     },
     "metadata": {},
     "output_type": "display_data"
    }
   ],
   "source": [
    "plt.figure(figsize=(10, 6))\n",
    "# Plot Learning rate\n",
    "plt.plot(lr_list, label='Learning rate', color='orange')\n",
    "\n",
    "\n",
    "# Adding titles and labels\n",
    "plt.title('Learning rate over Batchs')\n",
    "plt.xlabel('Batchs')\n",
    "plt.ylabel('Value')\n",
    "plt.legend()\n",
    "plt.grid()\n",
    "\n",
    "# Show the plot\n",
    "plt.show()"
   ]
  },
  {
   "cell_type": "code",
   "execution_count": 18,
   "metadata": {},
   "outputs": [
    {
     "name": "stdout",
     "output_type": "stream",
     "text": [
      "[0.06350326325953795, 0.026905230512199365, 0.022694177238642817, 0.020770341358299336, 0.01943352289918421, 0.01860709900811163, 0.017880708962656033, 0.017523732038551787, 0.017075685888043146, 0.016772287862571584, 0.016608634751807436, 0.016440641894288992, 0.016352937591832307, 0.01622787602734125, 0.015979770491366882, 0.01601069458475689, 0.015758628794201066, 0.015631467490652765, 0.015439931414343935, 0.015345714724788519, 0.015468435425770609, 0.015379334152154853, 0.015210290473081211, 0.015206188676165251, 0.015098932284745663, 0.014911493297708545, 0.014796785128544392, 0.014965079693993872, 0.014907105232821667, 0.014531435092570622, 0.014700223893247436, 0.01453180447613216, 0.014509636645804057, 0.014512325147405287, 0.014649751336596656, 0.014330318772810765, 0.014547709548950589, 0.014315669421752388, 0.014454161160329448, 0.014248406211196687, 0.014220907938185803, 0.014097462935495486, 0.014315648390007473, 0.014206252575983515, 0.0141480904871868]\n"
     ]
    }
   ],
   "source": [
    "print(train_loss_list)"
   ]
  },
  {
   "cell_type": "code",
   "execution_count": null,
   "metadata": {},
   "outputs": [],
   "source": []
  }
 ],
 "metadata": {
  "kernelspec": {
   "display_name": "ldm",
   "language": "python",
   "name": "python3"
  },
  "language_info": {
   "codemirror_mode": {
    "name": "ipython",
    "version": 3
   },
   "file_extension": ".py",
   "mimetype": "text/x-python",
   "name": "python",
   "nbconvert_exporter": "python",
   "pygments_lexer": "ipython3",
   "version": "3.8.20"
  }
 },
 "nbformat": 4,
 "nbformat_minor": 4
}
