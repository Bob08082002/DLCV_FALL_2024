{
 "cells": [
  {
   "cell_type": "markdown",
   "metadata": {},
   "source": [
    "# Import library"
   ]
  },
  {
   "cell_type": "markdown",
   "metadata": {},
   "source": [
    "packages allowed for use during inference"
   ]
  },
  {
   "cell_type": "code",
   "execution_count": 1,
   "metadata": {},
   "outputs": [],
   "source": [
    "import os\n",
    "import numpy as np\n",
    "\n",
    "import torch\n",
    "import torch.nn as nn\n",
    "import torch.optim as optim\n",
    "from torch.optim.lr_scheduler import ReduceLROnPlateau\n",
    "from torch.utils.data import DataLoader, Dataset\n",
    "from torchvision import models, transforms\n",
    "\n",
    "\n",
    "\n",
    "import imageio.v2 as imageio\n",
    "import matplotlib.pyplot as plt\n",
    "from PIL import Image\n",
    "from tqdm import tqdm\n",
    "import pandas as pd\n",
    "\n",
    "from sklearn.manifold import TSNE"
   ]
  },
  {
   "cell_type": "markdown",
   "metadata": {},
   "source": [
    "packages during training"
   ]
  },
  {
   "cell_type": "code",
   "execution_count": 2,
   "metadata": {},
   "outputs": [],
   "source": [
    "from thop import profile"
   ]
  },
  {
   "cell_type": "markdown",
   "metadata": {},
   "source": [
    "# Hyperparameters"
   ]
  },
  {
   "cell_type": "code",
   "execution_count": 3,
   "metadata": {},
   "outputs": [],
   "source": [
    "BATCH_SIZE = 128\n",
    "device = torch.device(\"cuda\" if torch.cuda.is_available() else \"cpu\")"
   ]
  },
  {
   "cell_type": "markdown",
   "metadata": {},
   "source": [
    "# Define Custom Dataset"
   ]
  },
  {
   "cell_type": "markdown",
   "metadata": {},
   "source": [
    "custom dataset\n",
    "\n",
    "先計算此training dataset的mean & std (直接用imagenet的)"
   ]
  },
  {
   "cell_type": "code",
   "execution_count": 4,
   "metadata": {},
   "outputs": [],
   "source": [
    "train_mean = [0.485, 0.456, 0.406]\n",
    "train_std = [0.229, 0.224, 0.225]"
   ]
  },
  {
   "cell_type": "markdown",
   "metadata": {},
   "source": [
    "Custom dataset"
   ]
  },
  {
   "cell_type": "code",
   "execution_count": 5,
   "metadata": {},
   "outputs": [],
   "source": [
    "# dataset整理image & label (from image folder & csv file)\n",
    "class CustomDataset(Dataset):\n",
    "    def __init__(self, csv_file, root_dir, transform=None):\n",
    "        self.data_frame = pd.read_csv(csv_file) #csv_file : csv file path\n",
    "        self.root_dir = root_dir #train folder 位置\n",
    "        self.transform = transform\n",
    "\n",
    "    def __len__(self):\n",
    "        return len(self.data_frame)\n",
    "\n",
    "    def __getitem__(self, idx):\n",
    "        img_name = os.path.join(self.root_dir, self.data_frame.iloc[idx, 1])\n",
    "        image = Image.open(img_name).convert(\"RGB\") #image is PIL image\n",
    "        label = int(self.data_frame.iloc[idx, 2])  # Get the label\n",
    "        \n",
    "        if self.transform:\n",
    "            image = self.transform(image)\n",
    "\n",
    "        return image, label\n"
   ]
  },
  {
   "cell_type": "markdown",
   "metadata": {},
   "source": [
    "建train transform和val transform"
   ]
  },
  {
   "cell_type": "markdown",
   "metadata": {},
   "source": [
    "val transform和test transform一樣"
   ]
  },
  {
   "cell_type": "code",
   "execution_count": 6,
   "metadata": {},
   "outputs": [],
   "source": [
    "# Data Transformations\n",
    "transform_train = transforms.Compose([\n",
    "    transforms.Resize(128),\n",
    "    transforms.CenterCrop(128),\n",
    "    transforms.RandomHorizontalFlip(),\n",
    "    transforms.RandomRotation(degrees=10),\n",
    "    transforms.ColorJitter(brightness=0.2, contrast=0.2, saturation=0.2, hue=0.1),\n",
    "    transforms.RandomPerspective(distortion_scale=0.5, p=0.5),\n",
    "    transforms.GaussianBlur(kernel_size=(5, 5), sigma=(0.1, 2.0)),\n",
    "    transforms.ToTensor(),\n",
    "    transforms.Normalize(mean=train_mean, std=train_std),\n",
    "    transforms.RandomErasing(p=0.3, scale=(0.02, 0.05), ratio=(0.3, 3.3), value=0)\n",
    "])\n",
    "\n",
    "transform_val = transforms.Compose([\n",
    "    transforms.Resize(128),\n",
    "    transforms.CenterCrop(128),\n",
    "    transforms.ToTensor(),\n",
    "    transforms.Normalize(mean=train_mean, std=train_std),\n",
    "])\n"
   ]
  },
  {
   "cell_type": "markdown",
   "metadata": {},
   "source": [
    "用P2_train_val_CustomDataset產生custom train & val dataset，再產生trainloader & valloader"
   ]
  },
  {
   "cell_type": "code",
   "execution_count": 7,
   "metadata": {},
   "outputs": [],
   "source": [
    "train_dataset = CustomDataset(csv_file='../../../hw1_data/p1_data/office/train.csv', root_dir='../../../hw1_data/p1_data/office/train', transform=transform_train)\n",
    "val_dataset = CustomDataset(csv_file='../../../hw1_data/p1_data/office/val.csv', root_dir='../../../hw1_data/p1_data/office/val', transform=transform_val)\n",
    "\n",
    "trainloader = DataLoader(train_dataset, batch_size=BATCH_SIZE, shuffle=True, num_workers=2)\n",
    "valloader = DataLoader(val_dataset, batch_size=BATCH_SIZE, shuffle=False, num_workers=2)"
   ]
  },
  {
   "cell_type": "code",
   "execution_count": 8,
   "metadata": {},
   "outputs": [
    {
     "name": "stdout",
     "output_type": "stream",
     "text": [
      "type(image_first_batch):  <class 'torch.Tensor'>\n",
      "image_first_batch.shape:  torch.Size([128, 3, 128, 128])\n",
      "type(label_first_batch):  <class 'torch.Tensor'>\n",
      "label_first_batch.shape:  torch.Size([128])\n"
     ]
    }
   ],
   "source": [
    "# print shape\n",
    "image_first_batch, label_first_batch = next(iter(trainloader))  #get first batch's image & mask\n",
    "print(\"type(image_first_batch): \", type(image_first_batch))\n",
    "print(\"image_first_batch.shape: \", image_first_batch.shape)\n",
    "print(\"type(label_first_batch): \", type(label_first_batch))\n",
    "print(\"label_first_batch.shape: \", label_first_batch.shape)"
   ]
  },
  {
   "cell_type": "code",
   "execution_count": 9,
   "metadata": {},
   "outputs": [
    {
     "name": "stdout",
     "output_type": "stream",
     "text": [
      "tensor(1.6324)\n",
      "tensor(63)\n"
     ]
    }
   ],
   "source": [
    "print(image_first_batch[2][0][100][102])\n",
    "print(label_first_batch[2])"
   ]
  },
  {
   "cell_type": "code",
   "execution_count": 10,
   "metadata": {},
   "outputs": [
    {
     "name": "stderr",
     "output_type": "stream",
     "text": [
      "Clipping input data to the valid range for imshow with RGB data ([0..1] for floats or [0..255] for integers).\n"
     ]
    },
    {
     "data": {
      "image/png": "[encoded data removed]",
      "text/plain": [
       "<Figure size 640x480 with 1 Axes>"
      ]
     },
     "metadata": {},
     "output_type": "display_data"
    }
   ],
   "source": [
    "# visualize wo normalization\n",
    "idx = 1\n",
    "first_image = image_first_batch[idx]\n",
    "\n",
    "\n",
    "# Convert the tensor to numpy array\n",
    "image_np = first_image.numpy()\n",
    "# Since matplotlib expects images in H x W x C format, we need to transpose it\n",
    "image_np = np.transpose(image_np, (1, 2, 0))\n",
    "\n",
    "# Plot the image\n",
    "plt.imshow(image_np)\n",
    "plt.axis('off')  # Turn off axis numbers and ticks\n",
    "plt.show()"
   ]
  },
  {
   "cell_type": "code",
   "execution_count": 12,
   "metadata": {},
   "outputs": [
    {
     "name": "stdout",
     "output_type": "stream",
     "text": [
      "True\n"
     ]
    }
   ],
   "source": [
    "print(torch.cuda.is_available())"
   ]
  },
  {
   "cell_type": "markdown",
   "metadata": {},
   "source": [
    "# Build Model"
   ]
  },
  {
   "cell_type": "markdown",
   "metadata": {},
   "source": [
    "instance model\n",
    " \n",
    "B set: 載入SL訓練的WEIGHT(由TA提供)\n"
   ]
  },
  {
   "cell_type": "code",
   "execution_count": 11,
   "metadata": {},
   "outputs": [
    {
     "name": "stdout",
     "output_type": "stream",
     "text": [
      "2048\n"
     ]
    },
    {
     "name": "stderr",
     "output_type": "stream",
     "text": [
      "/tmp/ipykernel_19912/1331498443.py:7: FutureWarning: You are using `torch.load` with `weights_only=False` (the current default value), which uses the default pickle module implicitly. It is possible to construct malicious pickle data which will execute arbitrary code during unpickling (See https://github.com/pytorch/pytorch/blob/main/SECURITY.md#untrusted-models for more details). In a future release, the default value for `weights_only` will be flipped to `True`. This limits the functions that could be executed during unpickling. Arbitrary objects will no longer be allowed to be loaded via this mode unless they are explicitly allowlisted by the user via `torch.serialization.add_safe_globals`. We recommend you start setting `weights_only=True` for any use case where you don't have full control of the loaded file. Please open an issue on GitHub for any issues related to this experimental feature.\n",
      "  backbone.load_state_dict(torch.load('../../../hw1_data/p1_data/pretrain_model_SL.pt'), strict=False) # load the backbone weights\n"
     ]
    },
    {
     "name": "stdout",
     "output_type": "stream",
     "text": [
      "\n"
     ]
    }
   ],
   "source": [
    "backbone = models.resnet50(weights=None)  # No pretrained weights\n",
    "# Number of input features to the original FC layer\n",
    "num_features = backbone.fc.in_features  # Typically 2048 for ResNet50 \n",
    "print(num_features)\n",
    "backbone.fc = torch.nn.Identity()  # Remove the final classification layer\n",
    "# B set:\n",
    "backbone.load_state_dict(torch.load('../../../hw1_data/p1_data/pretrain_model_SL.pt'), strict=False) # load the backbone weights\n",
    "\n",
    "print()\n",
    "\n",
    "#backbone is on cpu"
   ]
  },
  {
   "cell_type": "markdown",
   "metadata": {},
   "source": [
    " **B set:** train full model\n",
    "\n",
    " 將resnet的fc替換成custom classifier "
   ]
  },
  {
   "cell_type": "code",
   "execution_count": 13,
   "metadata": {},
   "outputs": [],
   "source": [
    "# Create CombinedModel with custom classifier\n",
    "class CombinedModel(nn.Module):\n",
    "    def __init__(self, Backbone, num_features, hidden1=512, hidden2=256, num_classes=65, dropout_prob=0.5):\n",
    "        super(CombinedModel, self).__init__()\n",
    "        #Backbone\n",
    "        self.Backbone = Backbone\n",
    "        # First layer\n",
    "        self.fc1 = nn.Linear(num_features, hidden1)\n",
    "        self.bn1 = nn.BatchNorm1d(hidden1)  # Batch Normalization for first hidden layer\n",
    "        self.relu1 = nn.ReLU()\n",
    "        self.dropout1 = nn.Dropout(p=dropout_prob)  # Dropout after first hidden layer\n",
    "\n",
    "        # Second layer\n",
    "        self.fc2 = nn.Linear(hidden1, hidden2)\n",
    "        self.bn2 = nn.BatchNorm1d(hidden2)  # Batch Normalization for second hidden layer\n",
    "        self.relu2 = nn.ReLU()\n",
    "        self.dropout2 = nn.Dropout(p=dropout_prob)  # Dropout after second hidden layer\n",
    "\n",
    "        # Final layer (output)\n",
    "        self.fc3 = nn.Linear(hidden2, num_classes)\n",
    "\n",
    "    def forward(self, x):\n",
    "        # Backbone(already replace fc layer by identity)\n",
    "        x = self.Backbone(x)\n",
    "        # Forward through the first layer\n",
    "        x = self.fc1(x)\n",
    "        x = self.bn1(x)  # Batch normalization\n",
    "        x = self.relu1(x)\n",
    "        x = self.dropout1(x)  # Dropout\n",
    "        \n",
    "        # Forward through the second layer # Second Last layer(fc layer)\n",
    "        x = self.fc2(x)\n",
    "        x = self.bn2(x)  # Batch normalization\n",
    "        x = self.relu2(x)\n",
    "        x = self.dropout2(x)  # Dropout\n",
    "\n",
    "        # Output layer (no activation, used for logits) # Last layer\n",
    "        x = self.fc3(x)\n",
    "        return x\n",
    "    \n",
    "    def get_second_last_layer_output(self, x):\n",
    "        # Backbone(already replace fc layer by identity)\n",
    "        x = self.Backbone(x)\n",
    "        # Forward through the first layer\n",
    "        x = self.fc1(x)\n",
    "        x = self.bn1(x)  # Batch normalization\n",
    "        x = self.relu1(x)\n",
    "        x = self.dropout1(x)  # Dropout\n",
    "        \n",
    "        # Forward through the second layer (this is where we stop)\n",
    "        x = self.fc2(x)\n",
    "        x = self.bn2(x)  # Batch normalization\n",
    "        x = self.relu2(x)\n",
    "        x = self.dropout2(x)  # Dropout\n",
    "        \n",
    "        # Return the second-to-last layer output\n",
    "        return x\n",
    "\n",
    "\n",
    "# Replace the final fully connected layer in ResNet50 with the new MLP head\n",
    "net = CombinedModel(Backbone=backbone, num_features=num_features)\n",
    "net = net.to(device)\n"
   ]
  },
  {
   "cell_type": "code",
   "execution_count": 14,
   "metadata": {},
   "outputs": [
    {
     "name": "stdout",
     "output_type": "stream",
     "text": [
      "CombinedModel(\n",
      "  (Backbone): ResNet(\n",
      "    (conv1): Conv2d(3, 64, kernel_size=(7, 7), stride=(2, 2), padding=(3, 3), bias=False)\n",
      "    (bn1): BatchNorm2d(64, eps=1e-05, momentum=0.1, affine=True, track_running_stats=True)\n",
      "    (relu): ReLU(inplace=True)\n",
      "    (maxpool): MaxPool2d(kernel_size=3, stride=2, padding=1, dilation=1, ceil_mode=False)\n",
      "    (layer1): Sequential(\n",
      "      (0): Bottleneck(\n",
      "        (conv1): Conv2d(64, 64, kernel_size=(1, 1), stride=(1, 1), bias=False)\n",
      "        (bn1): BatchNorm2d(64, eps=1e-05, momentum=0.1, affine=True, track_running_stats=True)\n",
      "        (conv2): Conv2d(64, 64, kernel_size=(3, 3), stride=(1, 1), padding=(1, 1), bias=False)\n",
      "        (bn2): BatchNorm2d(64, eps=1e-05, momentum=0.1, affine=True, track_running_stats=True)\n",
      "        (conv3): Conv2d(64, 256, kernel_size=(1, 1), stride=(1, 1), bias=False)\n",
      "        (bn3): BatchNorm2d(256, eps=1e-05, momentum=0.1, affine=True, track_running_stats=True)\n",
      "        (relu): ReLU(inplace=True)\n",
      "        (downsample): Sequential(\n",
      "          (0): Conv2d(64, 256, kernel_size=(1, 1), stride=(1, 1), bias=False)\n",
      "          (1): BatchNorm2d(256, eps=1e-05, momentum=0.1, affine=True, track_running_stats=True)\n",
      "        )\n",
      "      )\n",
      "      (1): Bottleneck(\n",
      "        (conv1): Conv2d(256, 64, kernel_size=(1, 1), stride=(1, 1), bias=False)\n",
      "        (bn1): BatchNorm2d(64, eps=1e-05, momentum=0.1, affine=True, track_running_stats=True)\n",
      "        (conv2): Conv2d(64, 64, kernel_size=(3, 3), stride=(1, 1), padding=(1, 1), bias=False)\n",
      "        (bn2): BatchNorm2d(64, eps=1e-05, momentum=0.1, affine=True, track_running_stats=True)\n",
      "        (conv3): Conv2d(64, 256, kernel_size=(1, 1), stride=(1, 1), bias=False)\n",
      "        (bn3): BatchNorm2d(256, eps=1e-05, momentum=0.1, affine=True, track_running_stats=True)\n",
      "        (relu): ReLU(inplace=True)\n",
      "      )\n",
      "      (2): Bottleneck(\n",
      "        (conv1): Conv2d(256, 64, kernel_size=(1, 1), stride=(1, 1), bias=False)\n",
      "        (bn1): BatchNorm2d(64, eps=1e-05, momentum=0.1, affine=True, track_running_stats=True)\n",
      "        (conv2): Conv2d(64, 64, kernel_size=(3, 3), stride=(1, 1), padding=(1, 1), bias=False)\n",
      "        (bn2): BatchNorm2d(64, eps=1e-05, momentum=0.1, affine=True, track_running_stats=True)\n",
      "        (conv3): Conv2d(64, 256, kernel_size=(1, 1), stride=(1, 1), bias=False)\n",
      "        (bn3): BatchNorm2d(256, eps=1e-05, momentum=0.1, affine=True, track_running_stats=True)\n",
      "        (relu): ReLU(inplace=True)\n",
      "      )\n",
      "    )\n",
      "    (layer2): Sequential(\n",
      "      (0): Bottleneck(\n",
      "        (conv1): Conv2d(256, 128, kernel_size=(1, 1), stride=(1, 1), bias=False)\n",
      "        (bn1): BatchNorm2d(128, eps=1e-05, momentum=0.1, affine=True, track_running_stats=True)\n",
      "        (conv2): Conv2d(128, 128, kernel_size=(3, 3), stride=(2, 2), padding=(1, 1), bias=False)\n",
      "        (bn2): BatchNorm2d(128, eps=1e-05, momentum=0.1, affine=True, track_running_stats=True)\n",
      "        (conv3): Conv2d(128, 512, kernel_size=(1, 1), stride=(1, 1), bias=False)\n",
      "        (bn3): BatchNorm2d(512, eps=1e-05, momentum=0.1, affine=True, track_running_stats=True)\n",
      "        (relu): ReLU(inplace=True)\n",
      "        (downsample): Sequential(\n",
      "          (0): Conv2d(256, 512, kernel_size=(1, 1), stride=(2, 2), bias=False)\n",
      "          (1): BatchNorm2d(512, eps=1e-05, momentum=0.1, affine=True, track_running_stats=True)\n",
      "        )\n",
      "      )\n",
      "      (1): Bottleneck(\n",
      "        (conv1): Conv2d(512, 128, kernel_size=(1, 1), stride=(1, 1), bias=False)\n",
      "        (bn1): BatchNorm2d(128, eps=1e-05, momentum=0.1, affine=True, track_running_stats=True)\n",
      "        (conv2): Conv2d(128, 128, kernel_size=(3, 3), stride=(1, 1), padding=(1, 1), bias=False)\n",
      "        (bn2): BatchNorm2d(128, eps=1e-05, momentum=0.1, affine=True, track_running_stats=True)\n",
      "        (conv3): Conv2d(128, 512, kernel_size=(1, 1), stride=(1, 1), bias=False)\n",
      "        (bn3): BatchNorm2d(512, eps=1e-05, momentum=0.1, affine=True, track_running_stats=True)\n",
      "        (relu): ReLU(inplace=True)\n",
      "      )\n",
      "      (2): Bottleneck(\n",
      "        (conv1): Conv2d(512, 128, kernel_size=(1, 1), stride=(1, 1), bias=False)\n",
      "        (bn1): BatchNorm2d(128, eps=1e-05, momentum=0.1, affine=True, track_running_stats=True)\n",
      "        (conv2): Conv2d(128, 128, kernel_size=(3, 3), stride=(1, 1), padding=(1, 1), bias=False)\n",
      "        (bn2): BatchNorm2d(128, eps=1e-05, momentum=0.1, affine=True, track_running_stats=True)\n",
      "        (conv3): Conv2d(128, 512, kernel_size=(1, 1), stride=(1, 1), bias=False)\n",
      "        (bn3): BatchNorm2d(512, eps=1e-05, momentum=0.1, affine=True, track_running_stats=True)\n",
      "        (relu): ReLU(inplace=True)\n",
      "      )\n",
      "      (3): Bottleneck(\n",
      "        (conv1): Conv2d(512, 128, kernel_size=(1, 1), stride=(1, 1), bias=False)\n",
      "        (bn1): BatchNorm2d(128, eps=1e-05, momentum=0.1, affine=True, track_running_stats=True)\n",
      "        (conv2): Conv2d(128, 128, kernel_size=(3, 3), stride=(1, 1), padding=(1, 1), bias=False)\n",
      "        (bn2): BatchNorm2d(128, eps=1e-05, momentum=0.1, affine=True, track_running_stats=True)\n",
      "        (conv3): Conv2d(128, 512, kernel_size=(1, 1), stride=(1, 1), bias=False)\n",
      "        (bn3): BatchNorm2d(512, eps=1e-05, momentum=0.1, affine=True, track_running_stats=True)\n",
      "        (relu): ReLU(inplace=True)\n",
      "      )\n",
      "    )\n",
      "    (layer3): Sequential(\n",
      "      (0): Bottleneck(\n",
      "        (conv1): Conv2d(512, 256, kernel_size=(1, 1), stride=(1, 1), bias=False)\n",
      "        (bn1): BatchNorm2d(256, eps=1e-05, momentum=0.1, affine=True, track_running_stats=True)\n",
      "        (conv2): Conv2d(256, 256, kernel_size=(3, 3), stride=(2, 2), padding=(1, 1), bias=False)\n",
      "        (bn2): BatchNorm2d(256, eps=1e-05, momentum=0.1, affine=True, track_running_stats=True)\n",
      "        (conv3): Conv2d(256, 1024, kernel_size=(1, 1), stride=(1, 1), bias=False)\n",
      "        (bn3): BatchNorm2d(1024, eps=1e-05, momentum=0.1, affine=True, track_running_stats=True)\n",
      "        (relu): ReLU(inplace=True)\n",
      "        (downsample): Sequential(\n",
      "          (0): Conv2d(512, 1024, kernel_size=(1, 1), stride=(2, 2), bias=False)\n",
      "          (1): BatchNorm2d(1024, eps=1e-05, momentum=0.1, affine=True, track_running_stats=True)\n",
      "        )\n",
      "      )\n",
      "      (1): Bottleneck(\n",
      "        (conv1): Conv2d(1024, 256, kernel_size=(1, 1), stride=(1, 1), bias=False)\n",
      "        (bn1): BatchNorm2d(256, eps=1e-05, momentum=0.1, affine=True, track_running_stats=True)\n",
      "        (conv2): Conv2d(256, 256, kernel_size=(3, 3), stride=(1, 1), padding=(1, 1), bias=False)\n",
      "        (bn2): BatchNorm2d(256, eps=1e-05, momentum=0.1, affine=True, track_running_stats=True)\n",
      "        (conv3): Conv2d(256, 1024, kernel_size=(1, 1), stride=(1, 1), bias=False)\n",
      "        (bn3): BatchNorm2d(1024, eps=1e-05, momentum=0.1, affine=True, track_running_stats=True)\n",
      "        (relu): ReLU(inplace=True)\n",
      "      )\n",
      "      (2): Bottleneck(\n",
      "        (conv1): Conv2d(1024, 256, kernel_size=(1, 1), stride=(1, 1), bias=False)\n",
      "        (bn1): BatchNorm2d(256, eps=1e-05, momentum=0.1, affine=True, track_running_stats=True)\n",
      "        (conv2): Conv2d(256, 256, kernel_size=(3, 3), stride=(1, 1), padding=(1, 1), bias=False)\n",
      "        (bn2): BatchNorm2d(256, eps=1e-05, momentum=0.1, affine=True, track_running_stats=True)\n",
      "        (conv3): Conv2d(256, 1024, kernel_size=(1, 1), stride=(1, 1), bias=False)\n",
      "        (bn3): BatchNorm2d(1024, eps=1e-05, momentum=0.1, affine=True, track_running_stats=True)\n",
      "        (relu): ReLU(inplace=True)\n",
      "      )\n",
      "      (3): Bottleneck(\n",
      "        (conv1): Conv2d(1024, 256, kernel_size=(1, 1), stride=(1, 1), bias=False)\n",
      "        (bn1): BatchNorm2d(256, eps=1e-05, momentum=0.1, affine=True, track_running_stats=True)\n",
      "        (conv2): Conv2d(256, 256, kernel_size=(3, 3), stride=(1, 1), padding=(1, 1), bias=False)\n",
      "        (bn2): BatchNorm2d(256, eps=1e-05, momentum=0.1, affine=True, track_running_stats=True)\n",
      "        (conv3): Conv2d(256, 1024, kernel_size=(1, 1), stride=(1, 1), bias=False)\n",
      "        (bn3): BatchNorm2d(1024, eps=1e-05, momentum=0.1, affine=True, track_running_stats=True)\n",
      "        (relu): ReLU(inplace=True)\n",
      "      )\n",
      "      (4): Bottleneck(\n",
      "        (conv1): Conv2d(1024, 256, kernel_size=(1, 1), stride=(1, 1), bias=False)\n",
      "        (bn1): BatchNorm2d(256, eps=1e-05, momentum=0.1, affine=True, track_running_stats=True)\n",
      "        (conv2): Conv2d(256, 256, kernel_size=(3, 3), stride=(1, 1), padding=(1, 1), bias=False)\n",
      "        (bn2): BatchNorm2d(256, eps=1e-05, momentum=0.1, affine=True, track_running_stats=True)\n",
      "        (conv3): Conv2d(256, 1024, kernel_size=(1, 1), stride=(1, 1), bias=False)\n",
      "        (bn3): BatchNorm2d(1024, eps=1e-05, momentum=0.1, affine=True, track_running_stats=True)\n",
      "        (relu): ReLU(inplace=True)\n",
      "      )\n",
      "      (5): Bottleneck(\n",
      "        (conv1): Conv2d(1024, 256, kernel_size=(1, 1), stride=(1, 1), bias=False)\n",
      "        (bn1): BatchNorm2d(256, eps=1e-05, momentum=0.1, affine=True, track_running_stats=True)\n",
      "        (conv2): Conv2d(256, 256, kernel_size=(3, 3), stride=(1, 1), padding=(1, 1), bias=False)\n",
      "        (bn2): BatchNorm2d(256, eps=1e-05, momentum=0.1, affine=True, track_running_stats=True)\n",
      "        (conv3): Conv2d(256, 1024, kernel_size=(1, 1), stride=(1, 1), bias=False)\n",
      "        (bn3): BatchNorm2d(1024, eps=1e-05, momentum=0.1, affine=True, track_running_stats=True)\n",
      "        (relu): ReLU(inplace=True)\n",
      "      )\n",
      "    )\n",
      "    (layer4): Sequential(\n",
      "      (0): Bottleneck(\n",
      "        (conv1): Conv2d(1024, 512, kernel_size=(1, 1), stride=(1, 1), bias=False)\n",
      "        (bn1): BatchNorm2d(512, eps=1e-05, momentum=0.1, affine=True, track_running_stats=True)\n",
      "        (conv2): Conv2d(512, 512, kernel_size=(3, 3), stride=(2, 2), padding=(1, 1), bias=False)\n",
      "        (bn2): BatchNorm2d(512, eps=1e-05, momentum=0.1, affine=True, track_running_stats=True)\n",
      "        (conv3): Conv2d(512, 2048, kernel_size=(1, 1), stride=(1, 1), bias=False)\n",
      "        (bn3): BatchNorm2d(2048, eps=1e-05, momentum=0.1, affine=True, track_running_stats=True)\n",
      "        (relu): ReLU(inplace=True)\n",
      "        (downsample): Sequential(\n",
      "          (0): Conv2d(1024, 2048, kernel_size=(1, 1), stride=(2, 2), bias=False)\n",
      "          (1): BatchNorm2d(2048, eps=1e-05, momentum=0.1, affine=True, track_running_stats=True)\n",
      "        )\n",
      "      )\n",
      "      (1): Bottleneck(\n",
      "        (conv1): Conv2d(2048, 512, kernel_size=(1, 1), stride=(1, 1), bias=False)\n",
      "        (bn1): BatchNorm2d(512, eps=1e-05, momentum=0.1, affine=True, track_running_stats=True)\n",
      "        (conv2): Conv2d(512, 512, kernel_size=(3, 3), stride=(1, 1), padding=(1, 1), bias=False)\n",
      "        (bn2): BatchNorm2d(512, eps=1e-05, momentum=0.1, affine=True, track_running_stats=True)\n",
      "        (conv3): Conv2d(512, 2048, kernel_size=(1, 1), stride=(1, 1), bias=False)\n",
      "        (bn3): BatchNorm2d(2048, eps=1e-05, momentum=0.1, affine=True, track_running_stats=True)\n",
      "        (relu): ReLU(inplace=True)\n",
      "      )\n",
      "      (2): Bottleneck(\n",
      "        (conv1): Conv2d(2048, 512, kernel_size=(1, 1), stride=(1, 1), bias=False)\n",
      "        (bn1): BatchNorm2d(512, eps=1e-05, momentum=0.1, affine=True, track_running_stats=True)\n",
      "        (conv2): Conv2d(512, 512, kernel_size=(3, 3), stride=(1, 1), padding=(1, 1), bias=False)\n",
      "        (bn2): BatchNorm2d(512, eps=1e-05, momentum=0.1, affine=True, track_running_stats=True)\n",
      "        (conv3): Conv2d(512, 2048, kernel_size=(1, 1), stride=(1, 1), bias=False)\n",
      "        (bn3): BatchNorm2d(2048, eps=1e-05, momentum=0.1, affine=True, track_running_stats=True)\n",
      "        (relu): ReLU(inplace=True)\n",
      "      )\n",
      "    )\n",
      "    (avgpool): AdaptiveAvgPool2d(output_size=(1, 1))\n",
      "    (fc): Identity()\n",
      "  )\n",
      "  (fc1): Linear(in_features=2048, out_features=512, bias=True)\n",
      "  (bn1): BatchNorm1d(512, eps=1e-05, momentum=0.1, affine=True, track_running_stats=True)\n",
      "  (relu1): ReLU()\n",
      "  (dropout1): Dropout(p=0.5, inplace=False)\n",
      "  (fc2): Linear(in_features=512, out_features=256, bias=True)\n",
      "  (bn2): BatchNorm1d(256, eps=1e-05, momentum=0.1, affine=True, track_running_stats=True)\n",
      "  (relu2): ReLU()\n",
      "  (dropout2): Dropout(p=0.5, inplace=False)\n",
      "  (fc3): Linear(in_features=256, out_features=65, bias=True)\n",
      ")\n",
      "[INFO] Register count_convNd() for <class 'torch.nn.modules.conv.Conv2d'>.\n",
      "[INFO] Register count_normalization() for <class 'torch.nn.modules.batchnorm.BatchNorm2d'>.\n",
      "[INFO] Register zero_ops() for <class 'torch.nn.modules.activation.ReLU'>.\n",
      "[INFO] Register zero_ops() for <class 'torch.nn.modules.pooling.MaxPool2d'>.\n",
      "[INFO] Register zero_ops() for <class 'torch.nn.modules.container.Sequential'>.\n",
      "[INFO] Register count_adap_avgpool() for <class 'torch.nn.modules.pooling.AdaptiveAvgPool2d'>.\n",
      "[INFO] Register count_linear() for <class 'torch.nn.modules.linear.Linear'>.\n",
      "[INFO] Register count_normalization() for <class 'torch.nn.modules.batchnorm.BatchNorm1d'>.\n",
      "[INFO] Register zero_ops() for <class 'torch.nn.modules.dropout.Dropout'>.\n",
      "MACs = 1.350325504G\n",
      "Params = 24.706689M\n"
     ]
    }
   ],
   "source": [
    "net.eval()\n",
    "print(net)\n",
    "#Compute MACs & params\n",
    "input1 = torch.randn(1,3,128,128).to(device) # dummy input也放到device\n",
    "MACs, params = profile(net, inputs=(input1, ))\n",
    "print('MACs = ' + str(MACs/1000**3) + 'G')\n",
    "print('Params = ' + str(params/1000**2) + 'M')"
   ]
  },
  {
   "cell_type": "code",
   "execution_count": 17,
   "metadata": {},
   "outputs": [
    {
     "name": "stdout",
     "output_type": "stream",
     "text": [
      "torch.Size([1, 65])\n",
      "torch.Size([1, 256])\n"
     ]
    }
   ],
   "source": [
    "#print output shape\n",
    "input1 = torch.randn(1,3,128,128).to(device) # dummy input也放到device\n",
    "output_secondlast = net.get_second_last_layer_output(input1)\n",
    "output = net(input1)\n",
    "print(output.shape)\n",
    "print(output_secondlast.shape)"
   ]
  },
  {
   "cell_type": "markdown",
   "metadata": {},
   "source": [
    "# Training"
   ]
  },
  {
   "cell_type": "markdown",
   "metadata": {},
   "source": [
    "Loss and Optimizer and epoch_n"
   ]
  },
  {
   "cell_type": "code",
   "execution_count": 18,
   "metadata": {},
   "outputs": [],
   "source": [
    "# Loss function with label smoothing\n",
    "class LabelSmoothingLoss(nn.Module):\n",
    "    def __init__(self, num_classes, smoothing=0.0):\n",
    "        super(LabelSmoothingLoss, self).__init__()\n",
    "        self.confidence = 1.0 - smoothing\n",
    "        self.smoothing = smoothing\n",
    "        self.num_classes = num_classes\n",
    "\n",
    "    def forward(self, pred, target):\n",
    "        # Convert target to one-hot format\n",
    "        with torch.no_grad():\n",
    "            true_dist = torch.zeros_like(pred)\n",
    "            true_dist.fill_(self.smoothing / (self.num_classes - 1))\n",
    "            true_dist.scatter_(1, target.data.unsqueeze(1), self.confidence)\n",
    "        \n",
    "        return torch.mean(torch.sum(-true_dist * torch.log_softmax(pred, dim=1), dim=1))"
   ]
  },
  {
   "cell_type": "code",
   "execution_count": 19,
   "metadata": {},
   "outputs": [],
   "source": [
    "#criterion = nn.CrossEntropyLoss()\n",
    "# Create Label Smoothing loss instance\n",
    "criterion = LabelSmoothingLoss(num_classes=65, smoothing=0.1)\n",
    "# Initialize optimizer\n",
    "optimizer = optim.Adam(net.parameters(), lr=0.001, weight_decay=1e-4)\n",
    "# Different base learning rate and update strategy #!!!!!!\n",
    "scheduler = ReduceLROnPlateau(optimizer, mode='max', factor=0.5, patience=5)  #if 5個epoch沒進步==> lr *= 0.5\n",
    "#scheduler = torch.optim.lr_scheduler.StepLR(optimizer, step_size=15, gamma=0.6, last_epoch=-1)\n",
    "# number of epoch\n",
    "num_epochs = 100"
   ]
  },
  {
   "cell_type": "markdown",
   "metadata": {},
   "source": [
    "training & validation loop"
   ]
  },
  {
   "cell_type": "code",
   "execution_count": 20,
   "metadata": {},
   "outputs": [
    {
     "name": "stderr",
     "output_type": "stream",
     "text": [
      "Epoch 1/100: 100%|█████████████████████████████████████████████████████| 31/31 [01:03<00:00,  2.04s/batch]\n",
      "Validation: 100%|████████████████████████████████████████████████████████| 4/4 [00:06<00:00,  1.54s/batch]\n"
     ]
    },
    {
     "name": "stdout",
     "output_type": "stream",
     "text": [
      "best model update,  val acc: 0.1502\n",
      "Epoch 1/100 - Train Loss: 4.1435 - Train acc: 0.0463 - Val Loss: 3.8833 - Val acc: 0.1502\n",
      "Learning rate: 0.001\n"
     ]
    },
    {
     "name": "stderr",
     "output_type": "stream",
     "text": [
      "Epoch 2/100: 100%|█████████████████████████████████████████████████████| 31/31 [01:02<00:00,  2.03s/batch]\n",
      "Validation: 100%|████████████████████████████████████████████████████████| 4/4 [00:06<00:00,  1.56s/batch]\n"
     ]
    },
    {
     "name": "stdout",
     "output_type": "stream",
     "text": [
      "best model update,  val acc: 0.1773\n",
      "Epoch 2/100 - Train Loss: 3.8191 - Train acc: 0.1121 - Val Loss: 3.8595 - Val acc: 0.1773\n",
      "Learning rate: 0.001\n"
     ]
    },
    {
     "name": "stderr",
     "output_type": "stream",
     "text": [
      "Epoch 3/100: 100%|█████████████████████████████████████████████████████| 31/31 [01:03<00:00,  2.04s/batch]\n",
      "Validation: 100%|████████████████████████████████████████████████████████| 4/4 [00:06<00:00,  1.55s/batch]\n"
     ]
    },
    {
     "name": "stdout",
     "output_type": "stream",
     "text": [
      "best model update,  val acc: 0.2118\n",
      "Epoch 3/100 - Train Loss: 3.5979 - Train acc: 0.1658 - Val Loss: 3.2493 - Val acc: 0.2118\n",
      "Learning rate: 0.001\n"
     ]
    },
    {
     "name": "stderr",
     "output_type": "stream",
     "text": [
      "Epoch 4/100: 100%|█████████████████████████████████████████████████████| 31/31 [01:02<00:00,  2.02s/batch]\n",
      "Validation: 100%|████████████████████████████████████████████████████████| 4/4 [00:06<00:00,  1.54s/batch]\n"
     ]
    },
    {
     "name": "stdout",
     "output_type": "stream",
     "text": [
      "best model update,  val acc: 0.2241\n",
      "Epoch 4/100 - Train Loss: 3.4211 - Train acc: 0.1999 - Val Loss: 3.2009 - Val acc: 0.2241\n",
      "Learning rate: 0.001\n"
     ]
    },
    {
     "name": "stderr",
     "output_type": "stream",
     "text": [
      "Epoch 5/100: 100%|█████████████████████████████████████████████████████| 31/31 [01:04<00:00,  2.06s/batch]\n",
      "Validation: 100%|████████████████████████████████████████████████████████| 4/4 [00:06<00:00,  1.54s/batch]\n"
     ]
    },
    {
     "name": "stdout",
     "output_type": "stream",
     "text": [
      "best model update,  val acc: 0.2512\n",
      "Epoch 5/100 - Train Loss: 3.2998 - Train acc: 0.2275 - Val Loss: 3.1317 - Val acc: 0.2512\n",
      "Learning rate: 0.001\n"
     ]
    },
    {
     "name": "stderr",
     "output_type": "stream",
     "text": [
      "Epoch 6/100: 100%|█████████████████████████████████████████████████████| 31/31 [01:03<00:00,  2.04s/batch]\n",
      "Validation: 100%|████████████████████████████████████████████████████████| 4/4 [00:06<00:00,  1.54s/batch]\n"
     ]
    },
    {
     "name": "stdout",
     "output_type": "stream",
     "text": [
      "best model update,  val acc: 0.2759\n",
      "Epoch 6/100 - Train Loss: 3.1994 - Train acc: 0.2493 - Val Loss: 3.0680 - Val acc: 0.2759\n",
      "Learning rate: 0.001\n"
     ]
    },
    {
     "name": "stderr",
     "output_type": "stream",
     "text": [
      "Epoch 7/100: 100%|█████████████████████████████████████████████████████| 31/31 [01:03<00:00,  2.04s/batch]\n",
      "Validation: 100%|████████████████████████████████████████████████████████| 4/4 [00:06<00:00,  1.54s/batch]\n"
     ]
    },
    {
     "name": "stdout",
     "output_type": "stream",
     "text": [
      "best model update,  val acc: 0.2980\n",
      "Epoch 7/100 - Train Loss: 3.1362 - Train acc: 0.2650 - Val Loss: 2.9656 - Val acc: 0.2980\n",
      "Learning rate: 0.001\n"
     ]
    },
    {
     "name": "stderr",
     "output_type": "stream",
     "text": [
      "Epoch 8/100: 100%|█████████████████████████████████████████████████████| 31/31 [01:03<00:00,  2.06s/batch]\n",
      "Validation: 100%|████████████████████████████████████████████████████████| 4/4 [00:06<00:00,  1.55s/batch]\n"
     ]
    },
    {
     "name": "stdout",
     "output_type": "stream",
     "text": [
      "Epoch 8/100 - Train Loss: 3.0326 - Train acc: 0.2913 - Val Loss: 3.0053 - Val acc: 0.2882\n",
      "Learning rate: 0.001\n"
     ]
    },
    {
     "name": "stderr",
     "output_type": "stream",
     "text": [
      "Epoch 9/100: 100%|█████████████████████████████████████████████████████| 31/31 [01:03<00:00,  2.06s/batch]\n",
      "Validation: 100%|████████████████████████████████████████████████████████| 4/4 [00:06<00:00,  1.56s/batch]\n"
     ]
    },
    {
     "name": "stdout",
     "output_type": "stream",
     "text": [
      "Epoch 9/100 - Train Loss: 2.9766 - Train acc: 0.3088 - Val Loss: 3.1389 - Val acc: 0.2808\n",
      "Learning rate: 0.001\n"
     ]
    },
    {
     "name": "stderr",
     "output_type": "stream",
     "text": [
      "Epoch 10/100: 100%|████████████████████████████████████████████████████| 31/31 [01:03<00:00,  2.05s/batch]\n",
      "Validation: 100%|████████████████████████████████████████████████████████| 4/4 [00:06<00:00,  1.56s/batch]\n"
     ]
    },
    {
     "name": "stdout",
     "output_type": "stream",
     "text": [
      "best model update,  val acc: 0.3571\n",
      "Epoch 10/100 - Train Loss: 2.9320 - Train acc: 0.3252 - Val Loss: 2.8368 - Val acc: 0.3571\n",
      "Learning rate: 0.001\n"
     ]
    },
    {
     "name": "stderr",
     "output_type": "stream",
     "text": [
      "Epoch 11/100: 100%|████████████████████████████████████████████████████| 31/31 [01:03<00:00,  2.04s/batch]\n",
      "Validation: 100%|████████████████████████████████████████████████████████| 4/4 [00:06<00:00,  1.55s/batch]\n"
     ]
    },
    {
     "name": "stdout",
     "output_type": "stream",
     "text": [
      "Epoch 11/100 - Train Loss: 2.8515 - Train acc: 0.3432 - Val Loss: 2.9640 - Val acc: 0.3251\n",
      "Learning rate: 0.001\n"
     ]
    },
    {
     "name": "stderr",
     "output_type": "stream",
     "text": [
      "Epoch 12/100: 100%|████████████████████████████████████████████████████| 31/31 [01:03<00:00,  2.04s/batch]\n",
      "Validation: 100%|████████████████████████████████████████████████████████| 4/4 [00:06<00:00,  1.54s/batch]\n"
     ]
    },
    {
     "name": "stdout",
     "output_type": "stream",
     "text": [
      "Epoch 12/100 - Train Loss: 2.8139 - Train acc: 0.3564 - Val Loss: 2.8640 - Val acc: 0.3300\n",
      "Learning rate: 0.001\n"
     ]
    },
    {
     "name": "stderr",
     "output_type": "stream",
     "text": [
      "Epoch 13/100: 100%|████████████████████████████████████████████████████| 31/31 [01:03<00:00,  2.03s/batch]\n",
      "Validation: 100%|████████████████████████████████████████████████████████| 4/4 [00:06<00:00,  1.54s/batch]\n"
     ]
    },
    {
     "name": "stdout",
     "output_type": "stream",
     "text": [
      "Epoch 13/100 - Train Loss: 2.7432 - Train acc: 0.3753 - Val Loss: 2.9157 - Val acc: 0.3424\n",
      "Learning rate: 0.001\n"
     ]
    },
    {
     "name": "stderr",
     "output_type": "stream",
     "text": [
      "Epoch 14/100: 100%|████████████████████████████████████████████████████| 31/31 [01:03<00:00,  2.05s/batch]\n",
      "Validation: 100%|████████████████████████████████████████████████████████| 4/4 [00:06<00:00,  1.55s/batch]\n"
     ]
    },
    {
     "name": "stdout",
     "output_type": "stream",
     "text": [
      "Epoch 14/100 - Train Loss: 2.7388 - Train acc: 0.3733 - Val Loss: 2.7811 - Val acc: 0.3498\n",
      "Learning rate: 0.001\n"
     ]
    },
    {
     "name": "stderr",
     "output_type": "stream",
     "text": [
      "Epoch 15/100: 100%|████████████████████████████████████████████████████| 31/31 [01:03<00:00,  2.03s/batch]\n",
      "Validation: 100%|████████████████████████████████████████████████████████| 4/4 [00:06<00:00,  1.55s/batch]\n"
     ]
    },
    {
     "name": "stdout",
     "output_type": "stream",
     "text": [
      "best model update,  val acc: 0.3719\n",
      "Epoch 15/100 - Train Loss: 2.6636 - Train acc: 0.3999 - Val Loss: 2.7338 - Val acc: 0.3719\n",
      "Learning rate: 0.001\n"
     ]
    },
    {
     "name": "stderr",
     "output_type": "stream",
     "text": [
      "Epoch 16/100: 100%|████████████████████████████████████████████████████| 31/31 [01:03<00:00,  2.03s/batch]\n",
      "Validation: 100%|████████████████████████████████████████████████████████| 4/4 [00:06<00:00,  1.53s/batch]\n"
     ]
    },
    {
     "name": "stdout",
     "output_type": "stream",
     "text": [
      "Epoch 16/100 - Train Loss: 2.6040 - Train acc: 0.4110 - Val Loss: 2.7082 - Val acc: 0.3695\n",
      "Learning rate: 0.001\n"
     ]
    },
    {
     "name": "stderr",
     "output_type": "stream",
     "text": [
      "Epoch 17/100: 100%|████████████████████████████████████████████████████| 31/31 [01:02<00:00,  2.03s/batch]\n",
      "Validation: 100%|████████████████████████████████████████████████████████| 4/4 [00:06<00:00,  1.53s/batch]\n"
     ]
    },
    {
     "name": "stdout",
     "output_type": "stream",
     "text": [
      "best model update,  val acc: 0.3842\n",
      "Epoch 17/100 - Train Loss: 2.5983 - Train acc: 0.4146 - Val Loss: 2.7644 - Val acc: 0.3842\n",
      "Learning rate: 0.001\n"
     ]
    },
    {
     "name": "stderr",
     "output_type": "stream",
     "text": [
      "Epoch 18/100: 100%|████████████████████████████████████████████████████| 31/31 [01:04<00:00,  2.07s/batch]\n",
      "Validation: 100%|████████████████████████████████████████████████████████| 4/4 [00:06<00:00,  1.56s/batch]\n"
     ]
    },
    {
     "name": "stdout",
     "output_type": "stream",
     "text": [
      "Epoch 18/100 - Train Loss: 2.5604 - Train acc: 0.4239 - Val Loss: 2.7882 - Val acc: 0.3719\n",
      "Learning rate: 0.001\n"
     ]
    },
    {
     "name": "stderr",
     "output_type": "stream",
     "text": [
      "Epoch 19/100: 100%|████████████████████████████████████████████████████| 31/31 [01:03<00:00,  2.05s/batch]\n",
      "Validation: 100%|████████████████████████████████████████████████████████| 4/4 [00:06<00:00,  1.55s/batch]\n"
     ]
    },
    {
     "name": "stdout",
     "output_type": "stream",
     "text": [
      "Epoch 19/100 - Train Loss: 2.5175 - Train acc: 0.4472 - Val Loss: 2.9058 - Val acc: 0.3276\n",
      "Learning rate: 0.001\n"
     ]
    },
    {
     "name": "stderr",
     "output_type": "stream",
     "text": [
      "Epoch 20/100: 100%|████████████████████████████████████████████████████| 31/31 [01:03<00:00,  2.04s/batch]\n",
      "Validation: 100%|████████████████████████████████████████████████████████| 4/4 [00:06<00:00,  1.54s/batch]\n"
     ]
    },
    {
     "name": "stdout",
     "output_type": "stream",
     "text": [
      "best model update,  val acc: 0.3916\n",
      "Epoch 20/100 - Train Loss: 2.5153 - Train acc: 0.4315 - Val Loss: 2.6493 - Val acc: 0.3916\n",
      "Learning rate: 0.001\n"
     ]
    },
    {
     "name": "stderr",
     "output_type": "stream",
     "text": [
      "Epoch 21/100: 100%|████████████████████████████████████████████████████| 31/31 [01:03<00:00,  2.05s/batch]\n",
      "Validation: 100%|████████████████████████████████████████████████████████| 4/4 [00:06<00:00,  1.55s/batch]\n"
     ]
    },
    {
     "name": "stdout",
     "output_type": "stream",
     "text": [
      "Epoch 21/100 - Train Loss: 2.4370 - Train acc: 0.4614 - Val Loss: 2.7400 - Val acc: 0.3793\n",
      "Learning rate: 0.001\n"
     ]
    },
    {
     "name": "stderr",
     "output_type": "stream",
     "text": [
      "Epoch 22/100: 100%|████████████████████████████████████████████████████| 31/31 [01:03<00:00,  2.04s/batch]\n",
      "Validation: 100%|████████████████████████████████████████████████████████| 4/4 [00:06<00:00,  1.56s/batch]\n"
     ]
    },
    {
     "name": "stdout",
     "output_type": "stream",
     "text": [
      "Epoch 22/100 - Train Loss: 2.4388 - Train acc: 0.4756 - Val Loss: 2.6808 - Val acc: 0.3916\n",
      "Learning rate: 0.001\n"
     ]
    },
    {
     "name": "stderr",
     "output_type": "stream",
     "text": [
      "Epoch 23/100: 100%|████████████████████████████████████████████████████| 31/31 [01:03<00:00,  2.04s/batch]\n",
      "Validation: 100%|████████████████████████████████████████████████████████| 4/4 [00:06<00:00,  1.54s/batch]\n"
     ]
    },
    {
     "name": "stdout",
     "output_type": "stream",
     "text": [
      "Epoch 23/100 - Train Loss: 2.3604 - Train acc: 0.4946 - Val Loss: 2.8113 - Val acc: 0.3719\n",
      "Learning rate: 0.001\n"
     ]
    },
    {
     "name": "stderr",
     "output_type": "stream",
     "text": [
      "Epoch 24/100: 100%|████████████████████████████████████████████████████| 31/31 [01:03<00:00,  2.05s/batch]\n",
      "Validation: 100%|████████████████████████████████████████████████████████| 4/4 [00:06<00:00,  1.55s/batch]\n"
     ]
    },
    {
     "name": "stdout",
     "output_type": "stream",
     "text": [
      "best model update,  val acc: 0.4212\n",
      "Epoch 24/100 - Train Loss: 2.3204 - Train acc: 0.4971 - Val Loss: 2.5287 - Val acc: 0.4212\n",
      "Learning rate: 0.001\n"
     ]
    },
    {
     "name": "stderr",
     "output_type": "stream",
     "text": [
      "Epoch 25/100: 100%|████████████████████████████████████████████████████| 31/31 [01:03<00:00,  2.03s/batch]\n",
      "Validation: 100%|████████████████████████████████████████████████████████| 4/4 [00:06<00:00,  1.55s/batch]\n"
     ]
    },
    {
     "name": "stdout",
     "output_type": "stream",
     "text": [
      "Epoch 25/100 - Train Loss: 2.3099 - Train acc: 0.5123 - Val Loss: 2.7969 - Val acc: 0.3793\n",
      "Learning rate: 0.001\n"
     ]
    },
    {
     "name": "stderr",
     "output_type": "stream",
     "text": [
      "Epoch 26/100: 100%|████████████████████████████████████████████████████| 31/31 [01:03<00:00,  2.04s/batch]\n",
      "Validation: 100%|████████████████████████████████████████████████████████| 4/4 [00:06<00:00,  1.55s/batch]\n"
     ]
    },
    {
     "name": "stdout",
     "output_type": "stream",
     "text": [
      "Epoch 26/100 - Train Loss: 2.3031 - Train acc: 0.5052 - Val Loss: 2.7703 - Val acc: 0.3916\n",
      "Learning rate: 0.001\n"
     ]
    },
    {
     "name": "stderr",
     "output_type": "stream",
     "text": [
      "Epoch 27/100: 100%|████████████████████████████████████████████████████| 31/31 [01:03<00:00,  2.06s/batch]\n",
      "Validation: 100%|████████████████████████████████████████████████████████| 4/4 [00:06<00:00,  1.55s/batch]\n"
     ]
    },
    {
     "name": "stdout",
     "output_type": "stream",
     "text": [
      "Epoch 27/100 - Train Loss: 2.2917 - Train acc: 0.5100 - Val Loss: 2.6572 - Val acc: 0.4015\n",
      "Learning rate: 0.001\n"
     ]
    },
    {
     "name": "stderr",
     "output_type": "stream",
     "text": [
      "Epoch 28/100: 100%|████████████████████████████████████████████████████| 31/31 [01:03<00:00,  2.05s/batch]\n",
      "Validation: 100%|████████████████████████████████████████████████████████| 4/4 [00:06<00:00,  1.55s/batch]\n"
     ]
    },
    {
     "name": "stdout",
     "output_type": "stream",
     "text": [
      "Epoch 28/100 - Train Loss: 2.2526 - Train acc: 0.5282 - Val Loss: 2.6168 - Val acc: 0.4064\n",
      "Learning rate: 0.001\n"
     ]
    },
    {
     "name": "stderr",
     "output_type": "stream",
     "text": [
      "Epoch 29/100: 100%|████████████████████████████████████████████████████| 31/31 [01:02<00:00,  2.02s/batch]\n",
      "Validation: 100%|████████████████████████████████████████████████████████| 4/4 [00:06<00:00,  1.56s/batch]\n"
     ]
    },
    {
     "name": "stdout",
     "output_type": "stream",
     "text": [
      "best model update,  val acc: 0.4236\n",
      "Epoch 29/100 - Train Loss: 2.1872 - Train acc: 0.5411 - Val Loss: 2.5960 - Val acc: 0.4236\n",
      "Learning rate: 0.001\n"
     ]
    },
    {
     "name": "stderr",
     "output_type": "stream",
     "text": [
      "Epoch 30/100: 100%|████████████████████████████████████████████████████| 31/31 [01:03<00:00,  2.05s/batch]\n",
      "Validation: 100%|████████████████████████████████████████████████████████| 4/4 [00:06<00:00,  1.54s/batch]\n"
     ]
    },
    {
     "name": "stdout",
     "output_type": "stream",
     "text": [
      "Epoch 30/100 - Train Loss: 2.1671 - Train acc: 0.5518 - Val Loss: 2.6891 - Val acc: 0.4039\n",
      "Learning rate: 0.001\n"
     ]
    },
    {
     "name": "stderr",
     "output_type": "stream",
     "text": [
      "Epoch 31/100: 100%|████████████████████████████████████████████████████| 31/31 [01:03<00:00,  2.04s/batch]\n",
      "Validation: 100%|████████████████████████████████████████████████████████| 4/4 [00:06<00:00,  1.55s/batch]\n"
     ]
    },
    {
     "name": "stdout",
     "output_type": "stream",
     "text": [
      "Epoch 31/100 - Train Loss: 2.1209 - Train acc: 0.5707 - Val Loss: 2.7476 - Val acc: 0.4064\n",
      "Learning rate: 0.001\n"
     ]
    },
    {
     "name": "stderr",
     "output_type": "stream",
     "text": [
      "Epoch 32/100: 100%|████████████████████████████████████████████████████| 31/31 [01:04<00:00,  2.08s/batch]\n",
      "Validation: 100%|████████████████████████████████████████████████████████| 4/4 [00:06<00:00,  1.56s/batch]\n"
     ]
    },
    {
     "name": "stdout",
     "output_type": "stream",
     "text": [
      "Epoch 32/100 - Train Loss: 2.1093 - Train acc: 0.5669 - Val Loss: 2.8388 - Val acc: 0.3744\n",
      "Learning rate: 0.001\n"
     ]
    },
    {
     "name": "stderr",
     "output_type": "stream",
     "text": [
      "Epoch 33/100: 100%|████████████████████████████████████████████████████| 31/31 [01:03<00:00,  2.06s/batch]\n",
      "Validation: 100%|████████████████████████████████████████████████████████| 4/4 [00:06<00:00,  1.55s/batch]\n"
     ]
    },
    {
     "name": "stdout",
     "output_type": "stream",
     "text": [
      "Epoch 33/100 - Train Loss: 2.1240 - Train acc: 0.5639 - Val Loss: 2.7693 - Val acc: 0.3793\n",
      "Learning rate: 0.001\n"
     ]
    },
    {
     "name": "stderr",
     "output_type": "stream",
     "text": [
      "Epoch 34/100: 100%|████████████████████████████████████████████████████| 31/31 [01:04<00:00,  2.08s/batch]\n",
      "Validation: 100%|████████████████████████████████████████████████████████| 4/4 [00:06<00:00,  1.57s/batch]\n"
     ]
    },
    {
     "name": "stdout",
     "output_type": "stream",
     "text": [
      "best model update,  val acc: 0.4286\n",
      "Epoch 34/100 - Train Loss: 2.0711 - Train acc: 0.5877 - Val Loss: 2.7096 - Val acc: 0.4286\n",
      "Learning rate: 0.001\n"
     ]
    },
    {
     "name": "stderr",
     "output_type": "stream",
     "text": [
      "Epoch 35/100: 100%|████████████████████████████████████████████████████| 31/31 [01:03<00:00,  2.04s/batch]\n",
      "Validation: 100%|████████████████████████████████████████████████████████| 4/4 [00:06<00:00,  1.56s/batch]\n"
     ]
    },
    {
     "name": "stdout",
     "output_type": "stream",
     "text": [
      "best model update,  val acc: 0.4581\n",
      "Epoch 35/100 - Train Loss: 2.0702 - Train acc: 0.5756 - Val Loss: 2.6092 - Val acc: 0.4581\n",
      "Learning rate: 0.001\n"
     ]
    },
    {
     "name": "stderr",
     "output_type": "stream",
     "text": [
      "Epoch 36/100: 100%|████████████████████████████████████████████████████| 31/31 [01:03<00:00,  2.05s/batch]\n",
      "Validation: 100%|████████████████████████████████████████████████████████| 4/4 [00:06<00:00,  1.56s/batch]\n"
     ]
    },
    {
     "name": "stdout",
     "output_type": "stream",
     "text": [
      "Epoch 36/100 - Train Loss: 2.0199 - Train acc: 0.6044 - Val Loss: 2.5733 - Val acc: 0.4507\n",
      "Learning rate: 0.001\n"
     ]
    },
    {
     "name": "stderr",
     "output_type": "stream",
     "text": [
      "Epoch 37/100: 100%|████████████████████████████████████████████████████| 31/31 [01:03<00:00,  2.04s/batch]\n",
      "Validation: 100%|████████████████████████████████████████████████████████| 4/4 [00:06<00:00,  1.56s/batch]\n"
     ]
    },
    {
     "name": "stdout",
     "output_type": "stream",
     "text": [
      "Epoch 37/100 - Train Loss: 2.0228 - Train acc: 0.5971 - Val Loss: 2.7034 - Val acc: 0.4138\n",
      "Learning rate: 0.001\n"
     ]
    },
    {
     "name": "stderr",
     "output_type": "stream",
     "text": [
      "Epoch 38/100: 100%|████████████████████████████████████████████████████| 31/31 [01:03<00:00,  2.06s/batch]\n",
      "Validation: 100%|████████████████████████████████████████████████████████| 4/4 [00:06<00:00,  1.57s/batch]\n"
     ]
    },
    {
     "name": "stdout",
     "output_type": "stream",
     "text": [
      "Epoch 38/100 - Train Loss: 1.9680 - Train acc: 0.6140 - Val Loss: 2.6482 - Val acc: 0.4483\n",
      "Learning rate: 0.001\n"
     ]
    },
    {
     "name": "stderr",
     "output_type": "stream",
     "text": [
      "Epoch 39/100: 100%|████████████████████████████████████████████████████| 31/31 [01:03<00:00,  2.06s/batch]\n",
      "Validation: 100%|████████████████████████████████████████████████████████| 4/4 [00:06<00:00,  1.55s/batch]\n"
     ]
    },
    {
     "name": "stdout",
     "output_type": "stream",
     "text": [
      "Epoch 39/100 - Train Loss: 1.9378 - Train acc: 0.6292 - Val Loss: 2.9066 - Val acc: 0.4163\n",
      "Learning rate: 0.001\n"
     ]
    },
    {
     "name": "stderr",
     "output_type": "stream",
     "text": [
      "Epoch 40/100: 100%|████████████████████████████████████████████████████| 31/31 [01:04<00:00,  2.08s/batch]\n",
      "Validation: 100%|████████████████████████████████████████████████████████| 4/4 [00:06<00:00,  1.61s/batch]\n"
     ]
    },
    {
     "name": "stdout",
     "output_type": "stream",
     "text": [
      "Epoch 40/100 - Train Loss: 1.9233 - Train acc: 0.6338 - Val Loss: 2.8606 - Val acc: 0.4212\n",
      "Learning rate: 0.001\n"
     ]
    },
    {
     "name": "stderr",
     "output_type": "stream",
     "text": [
      "Epoch 41/100: 100%|████████████████████████████████████████████████████| 31/31 [01:03<00:00,  2.06s/batch]\n",
      "Validation: 100%|████████████████████████████████████████████████████████| 4/4 [00:06<00:00,  1.55s/batch]\n"
     ]
    },
    {
     "name": "stdout",
     "output_type": "stream",
     "text": [
      "Epoch 41/100 - Train Loss: 1.9336 - Train acc: 0.6360 - Val Loss: 2.5586 - Val acc: 0.4458\n",
      "Learning rate: 0.0005\n"
     ]
    },
    {
     "name": "stderr",
     "output_type": "stream",
     "text": [
      "Epoch 42/100: 100%|████████████████████████████████████████████████████| 31/31 [01:03<00:00,  2.05s/batch]\n",
      "Validation: 100%|████████████████████████████████████████████████████████| 4/4 [00:06<00:00,  1.57s/batch]\n"
     ]
    },
    {
     "name": "stdout",
     "output_type": "stream",
     "text": [
      "best model update,  val acc: 0.4828\n",
      "Epoch 42/100 - Train Loss: 1.7302 - Train acc: 0.7102 - Val Loss: 2.4295 - Val acc: 0.4828\n",
      "Learning rate: 0.0005\n"
     ]
    },
    {
     "name": "stderr",
     "output_type": "stream",
     "text": [
      "Epoch 43/100: 100%|████████████████████████████████████████████████████| 31/31 [01:03<00:00,  2.06s/batch]\n",
      "Validation: 100%|████████████████████████████████████████████████████████| 4/4 [00:06<00:00,  1.57s/batch]\n"
     ]
    },
    {
     "name": "stdout",
     "output_type": "stream",
     "text": [
      "Epoch 43/100 - Train Loss: 1.6780 - Train acc: 0.7342 - Val Loss: 2.4359 - Val acc: 0.4680\n",
      "Learning rate: 0.0005\n"
     ]
    },
    {
     "name": "stderr",
     "output_type": "stream",
     "text": [
      "Epoch 44/100: 100%|████████████████████████████████████████████████████| 31/31 [01:03<00:00,  2.05s/batch]\n",
      "Validation: 100%|████████████████████████████████████████████████████████| 4/4 [00:06<00:00,  1.57s/batch]\n"
     ]
    },
    {
     "name": "stdout",
     "output_type": "stream",
     "text": [
      "Epoch 44/100 - Train Loss: 1.5999 - Train acc: 0.7535 - Val Loss: 2.4423 - Val acc: 0.4828\n",
      "Learning rate: 0.0005\n"
     ]
    },
    {
     "name": "stderr",
     "output_type": "stream",
     "text": [
      "Epoch 45/100: 100%|████████████████████████████████████████████████████| 31/31 [01:03<00:00,  2.06s/batch]\n",
      "Validation: 100%|████████████████████████████████████████████████████████| 4/4 [00:06<00:00,  1.56s/batch]\n"
     ]
    },
    {
     "name": "stdout",
     "output_type": "stream",
     "text": [
      "Epoch 45/100 - Train Loss: 1.5542 - Train acc: 0.7722 - Val Loss: 2.5000 - Val acc: 0.4631\n",
      "Learning rate: 0.0005\n"
     ]
    },
    {
     "name": "stderr",
     "output_type": "stream",
     "text": [
      "Epoch 46/100: 100%|████████████████████████████████████████████████████| 31/31 [01:03<00:00,  2.05s/batch]\n",
      "Validation: 100%|████████████████████████████████████████████████████████| 4/4 [00:06<00:00,  1.56s/batch]\n"
     ]
    },
    {
     "name": "stdout",
     "output_type": "stream",
     "text": [
      "Epoch 46/100 - Train Loss: 1.5384 - Train acc: 0.7747 - Val Loss: 2.4004 - Val acc: 0.4704\n",
      "Learning rate: 0.0005\n"
     ]
    },
    {
     "name": "stderr",
     "output_type": "stream",
     "text": [
      "Epoch 47/100: 100%|████████████████████████████████████████████████████| 31/31 [01:03<00:00,  2.04s/batch]\n",
      "Validation: 100%|████████████████████████████████████████████████████████| 4/4 [00:06<00:00,  1.55s/batch]\n"
     ]
    },
    {
     "name": "stdout",
     "output_type": "stream",
     "text": [
      "best model update,  val acc: 0.5148\n",
      "Epoch 47/100 - Train Loss: 1.5375 - Train acc: 0.7752 - Val Loss: 2.4778 - Val acc: 0.5148\n",
      "Learning rate: 0.0005\n"
     ]
    },
    {
     "name": "stderr",
     "output_type": "stream",
     "text": [
      "Epoch 48/100: 100%|████████████████████████████████████████████████████| 31/31 [01:03<00:00,  2.05s/batch]\n",
      "Validation: 100%|████████████████████████████████████████████████████████| 4/4 [00:06<00:00,  1.55s/batch]\n"
     ]
    },
    {
     "name": "stdout",
     "output_type": "stream",
     "text": [
      "Epoch 48/100 - Train Loss: 1.5140 - Train acc: 0.7932 - Val Loss: 2.4371 - Val acc: 0.4778\n",
      "Learning rate: 0.0005\n"
     ]
    },
    {
     "name": "stderr",
     "output_type": "stream",
     "text": [
      "Epoch 49/100: 100%|████████████████████████████████████████████████████| 31/31 [01:03<00:00,  2.04s/batch]\n",
      "Validation: 100%|████████████████████████████████████████████████████████| 4/4 [00:06<00:00,  1.55s/batch]\n"
     ]
    },
    {
     "name": "stdout",
     "output_type": "stream",
     "text": [
      "Epoch 49/100 - Train Loss: 1.4909 - Train acc: 0.7920 - Val Loss: 2.4856 - Val acc: 0.4926\n",
      "Learning rate: 0.0005\n"
     ]
    },
    {
     "name": "stderr",
     "output_type": "stream",
     "text": [
      "Epoch 50/100: 100%|████████████████████████████████████████████████████| 31/31 [01:03<00:00,  2.06s/batch]\n",
      "Validation: 100%|████████████████████████████████████████████████████████| 4/4 [00:06<00:00,  1.55s/batch]\n"
     ]
    },
    {
     "name": "stdout",
     "output_type": "stream",
     "text": [
      "Epoch 50/100 - Train Loss: 1.4778 - Train acc: 0.7990 - Val Loss: 2.6032 - Val acc: 0.4655\n",
      "Learning rate: 0.0005\n"
     ]
    },
    {
     "name": "stderr",
     "output_type": "stream",
     "text": [
      "Epoch 51/100: 100%|████████████████████████████████████████████████████| 31/31 [01:03<00:00,  2.06s/batch]\n",
      "Validation: 100%|████████████████████████████████████████████████████████| 4/4 [00:06<00:00,  1.56s/batch]\n"
     ]
    },
    {
     "name": "stdout",
     "output_type": "stream",
     "text": [
      "Epoch 51/100 - Train Loss: 1.4567 - Train acc: 0.8036 - Val Loss: 2.6050 - Val acc: 0.4729\n",
      "Learning rate: 0.0005\n"
     ]
    },
    {
     "name": "stderr",
     "output_type": "stream",
     "text": [
      "Epoch 52/100: 100%|████████████████████████████████████████████████████| 31/31 [01:03<00:00,  2.05s/batch]\n",
      "Validation: 100%|████████████████████████████████████████████████████████| 4/4 [00:06<00:00,  1.56s/batch]\n"
     ]
    },
    {
     "name": "stdout",
     "output_type": "stream",
     "text": [
      "Epoch 52/100 - Train Loss: 1.4379 - Train acc: 0.8168 - Val Loss: 2.5007 - Val acc: 0.4877\n",
      "Learning rate: 0.0005\n"
     ]
    },
    {
     "name": "stderr",
     "output_type": "stream",
     "text": [
      "Epoch 53/100: 100%|████████████████████████████████████████████████████| 31/31 [01:03<00:00,  2.06s/batch]\n",
      "Validation: 100%|████████████████████████████████████████████████████████| 4/4 [00:06<00:00,  1.56s/batch]\n"
     ]
    },
    {
     "name": "stdout",
     "output_type": "stream",
     "text": [
      "best model update,  val acc: 0.5172\n",
      "Epoch 53/100 - Train Loss: 1.4323 - Train acc: 0.8165 - Val Loss: 2.4009 - Val acc: 0.5172\n",
      "Learning rate: 0.0005\n"
     ]
    },
    {
     "name": "stderr",
     "output_type": "stream",
     "text": [
      "Epoch 54/100: 100%|████████████████████████████████████████████████████| 31/31 [01:03<00:00,  2.06s/batch]\n",
      "Validation: 100%|████████████████████████████████████████████████████████| 4/4 [00:06<00:00,  1.55s/batch]\n"
     ]
    },
    {
     "name": "stdout",
     "output_type": "stream",
     "text": [
      "Epoch 54/100 - Train Loss: 1.4022 - Train acc: 0.8274 - Val Loss: 2.5430 - Val acc: 0.4803\n",
      "Learning rate: 0.0005\n"
     ]
    },
    {
     "name": "stderr",
     "output_type": "stream",
     "text": [
      "Epoch 55/100: 100%|████████████████████████████████████████████████████| 31/31 [01:03<00:00,  2.04s/batch]\n",
      "Validation: 100%|████████████████████████████████████████████████████████| 4/4 [00:06<00:00,  1.56s/batch]\n"
     ]
    },
    {
     "name": "stdout",
     "output_type": "stream",
     "text": [
      "Epoch 55/100 - Train Loss: 1.3941 - Train acc: 0.8327 - Val Loss: 2.6035 - Val acc: 0.4901\n",
      "Learning rate: 0.0005\n"
     ]
    },
    {
     "name": "stderr",
     "output_type": "stream",
     "text": [
      "Epoch 56/100: 100%|████████████████████████████████████████████████████| 31/31 [01:03<00:00,  2.05s/batch]\n",
      "Validation: 100%|████████████████████████████████████████████████████████| 4/4 [00:06<00:00,  1.55s/batch]\n"
     ]
    },
    {
     "name": "stdout",
     "output_type": "stream",
     "text": [
      "Epoch 56/100 - Train Loss: 1.3856 - Train acc: 0.8319 - Val Loss: 2.6905 - Val acc: 0.4631\n",
      "Learning rate: 0.0005\n"
     ]
    },
    {
     "name": "stderr",
     "output_type": "stream",
     "text": [
      "Epoch 57/100: 100%|████████████████████████████████████████████████████| 31/31 [01:03<00:00,  2.04s/batch]\n",
      "Validation: 100%|████████████████████████████████████████████████████████| 4/4 [00:06<00:00,  1.57s/batch]\n"
     ]
    },
    {
     "name": "stdout",
     "output_type": "stream",
     "text": [
      "Epoch 57/100 - Train Loss: 1.3741 - Train acc: 0.8299 - Val Loss: 2.5411 - Val acc: 0.4828\n",
      "Learning rate: 0.0005\n"
     ]
    },
    {
     "name": "stderr",
     "output_type": "stream",
     "text": [
      "Epoch 58/100: 100%|████████████████████████████████████████████████████| 31/31 [01:03<00:00,  2.05s/batch]\n",
      "Validation: 100%|████████████████████████████████████████████████████████| 4/4 [00:06<00:00,  1.56s/batch]\n"
     ]
    },
    {
     "name": "stdout",
     "output_type": "stream",
     "text": [
      "Epoch 58/100 - Train Loss: 1.3560 - Train acc: 0.8411 - Val Loss: 2.5321 - Val acc: 0.4631\n",
      "Learning rate: 0.0005\n"
     ]
    },
    {
     "name": "stderr",
     "output_type": "stream",
     "text": [
      "Epoch 59/100: 100%|████████████████████████████████████████████████████| 31/31 [01:03<00:00,  2.04s/batch]\n",
      "Validation: 100%|████████████████████████████████████████████████████████| 4/4 [00:06<00:00,  1.57s/batch]\n"
     ]
    },
    {
     "name": "stdout",
     "output_type": "stream",
     "text": [
      "Epoch 59/100 - Train Loss: 1.3459 - Train acc: 0.8451 - Val Loss: 2.6187 - Val acc: 0.4680\n",
      "Learning rate: 0.00025\n"
     ]
    },
    {
     "name": "stderr",
     "output_type": "stream",
     "text": [
      "Epoch 60/100: 100%|████████████████████████████████████████████████████| 31/31 [01:03<00:00,  2.04s/batch]\n",
      "Validation: 100%|████████████████████████████████████████████████████████| 4/4 [00:06<00:00,  1.55s/batch]\n"
     ]
    },
    {
     "name": "stdout",
     "output_type": "stream",
     "text": [
      "Epoch 60/100 - Train Loss: 1.2842 - Train acc: 0.8638 - Val Loss: 2.3707 - Val acc: 0.5049\n",
      "Learning rate: 0.00025\n"
     ]
    },
    {
     "name": "stderr",
     "output_type": "stream",
     "text": [
      "Epoch 61/100: 100%|████████████████████████████████████████████████████| 31/31 [01:03<00:00,  2.05s/batch]\n",
      "Validation: 100%|████████████████████████████████████████████████████████| 4/4 [00:06<00:00,  1.55s/batch]\n"
     ]
    },
    {
     "name": "stdout",
     "output_type": "stream",
     "text": [
      "Epoch 61/100 - Train Loss: 1.2403 - Train acc: 0.8821 - Val Loss: 2.4842 - Val acc: 0.4901\n",
      "Learning rate: 0.00025\n"
     ]
    },
    {
     "name": "stderr",
     "output_type": "stream",
     "text": [
      "Epoch 62/100: 100%|████████████████████████████████████████████████████| 31/31 [01:03<00:00,  2.04s/batch]\n",
      "Validation: 100%|████████████████████████████████████████████████████████| 4/4 [00:06<00:00,  1.55s/batch]\n"
     ]
    },
    {
     "name": "stdout",
     "output_type": "stream",
     "text": [
      "Epoch 62/100 - Train Loss: 1.2070 - Train acc: 0.8955 - Val Loss: 2.4142 - Val acc: 0.5148\n",
      "Learning rate: 0.00025\n"
     ]
    },
    {
     "name": "stderr",
     "output_type": "stream",
     "text": [
      "Epoch 63/100: 100%|████████████████████████████████████████████████████| 31/31 [01:03<00:00,  2.05s/batch]\n",
      "Validation: 100%|████████████████████████████████████████████████████████| 4/4 [00:06<00:00,  1.55s/batch]\n"
     ]
    },
    {
     "name": "stdout",
     "output_type": "stream",
     "text": [
      "Epoch 63/100 - Train Loss: 1.2101 - Train acc: 0.8962 - Val Loss: 2.4624 - Val acc: 0.4877\n",
      "Learning rate: 0.00025\n"
     ]
    },
    {
     "name": "stderr",
     "output_type": "stream",
     "text": [
      "Epoch 64/100: 100%|████████████████████████████████████████████████████| 31/31 [01:03<00:00,  2.06s/batch]\n",
      "Validation: 100%|████████████████████████████████████████████████████████| 4/4 [00:06<00:00,  1.56s/batch]\n"
     ]
    },
    {
     "name": "stdout",
     "output_type": "stream",
     "text": [
      "Epoch 64/100 - Train Loss: 1.1970 - Train acc: 0.9046 - Val Loss: 2.4161 - Val acc: 0.5123\n",
      "Learning rate: 0.00025\n"
     ]
    },
    {
     "name": "stderr",
     "output_type": "stream",
     "text": [
      "Epoch 65/100: 100%|████████████████████████████████████████████████████| 31/31 [01:04<00:00,  2.07s/batch]\n",
      "Validation: 100%|████████████████████████████████████████████████████████| 4/4 [00:06<00:00,  1.57s/batch]\n"
     ]
    },
    {
     "name": "stdout",
     "output_type": "stream",
     "text": [
      "Epoch 65/100 - Train Loss: 1.1639 - Train acc: 0.9139 - Val Loss: 2.4381 - Val acc: 0.5148\n",
      "Learning rate: 0.000125\n"
     ]
    },
    {
     "name": "stderr",
     "output_type": "stream",
     "text": [
      "Epoch 66/100: 100%|████████████████████████████████████████████████████| 31/31 [01:03<00:00,  2.06s/batch]\n",
      "Validation: 100%|████████████████████████████████████████████████████████| 4/4 [00:06<00:00,  1.55s/batch]\n"
     ]
    },
    {
     "name": "stdout",
     "output_type": "stream",
     "text": [
      "Epoch 66/100 - Train Loss: 1.1347 - Train acc: 0.9203 - Val Loss: 2.4274 - Val acc: 0.5099\n",
      "Learning rate: 0.000125\n"
     ]
    },
    {
     "name": "stderr",
     "output_type": "stream",
     "text": [
      "Epoch 67/100: 100%|████████████████████████████████████████████████████| 31/31 [01:04<00:00,  2.07s/batch]\n",
      "Validation: 100%|████████████████████████████████████████████████████████| 4/4 [00:06<00:00,  1.57s/batch]\n"
     ]
    },
    {
     "name": "stdout",
     "output_type": "stream",
     "text": [
      "best model update,  val acc: 0.5271\n",
      "Epoch 67/100 - Train Loss: 1.1250 - Train acc: 0.9296 - Val Loss: 2.4130 - Val acc: 0.5271\n",
      "Learning rate: 0.000125\n"
     ]
    },
    {
     "name": "stderr",
     "output_type": "stream",
     "text": [
      "Epoch 68/100: 100%|████████████████████████████████████████████████████| 31/31 [01:03<00:00,  2.05s/batch]\n",
      "Validation: 100%|████████████████████████████████████████████████████████| 4/4 [00:06<00:00,  1.57s/batch]\n"
     ]
    },
    {
     "name": "stdout",
     "output_type": "stream",
     "text": [
      "Epoch 68/100 - Train Loss: 1.1178 - Train acc: 0.9284 - Val Loss: 2.4358 - Val acc: 0.4951\n",
      "Learning rate: 0.000125\n"
     ]
    },
    {
     "name": "stderr",
     "output_type": "stream",
     "text": [
      "Epoch 69/100: 100%|████████████████████████████████████████████████████| 31/31 [01:03<00:00,  2.05s/batch]\n",
      "Validation: 100%|████████████████████████████████████████████████████████| 4/4 [00:06<00:00,  1.55s/batch]\n"
     ]
    },
    {
     "name": "stdout",
     "output_type": "stream",
     "text": [
      "Epoch 69/100 - Train Loss: 1.1158 - Train acc: 0.9324 - Val Loss: 2.4820 - Val acc: 0.5049\n",
      "Learning rate: 0.000125\n"
     ]
    },
    {
     "name": "stderr",
     "output_type": "stream",
     "text": [
      "Epoch 70/100: 100%|████████████████████████████████████████████████████| 31/31 [01:03<00:00,  2.04s/batch]\n",
      "Validation: 100%|████████████████████████████████████████████████████████| 4/4 [00:06<00:00,  1.55s/batch]\n"
     ]
    },
    {
     "name": "stdout",
     "output_type": "stream",
     "text": [
      "Epoch 70/100 - Train Loss: 1.1023 - Train acc: 0.9393 - Val Loss: 2.3816 - Val acc: 0.5025\n",
      "Learning rate: 0.000125\n"
     ]
    },
    {
     "name": "stderr",
     "output_type": "stream",
     "text": [
      "Epoch 71/100: 100%|████████████████████████████████████████████████████| 31/31 [01:03<00:00,  2.05s/batch]\n",
      "Validation: 100%|████████████████████████████████████████████████████████| 4/4 [00:06<00:00,  1.56s/batch]\n"
     ]
    },
    {
     "name": "stdout",
     "output_type": "stream",
     "text": [
      "Epoch 71/100 - Train Loss: 1.0930 - Train acc: 0.9382 - Val Loss: 2.4218 - Val acc: 0.5172\n",
      "Learning rate: 0.000125\n"
     ]
    },
    {
     "name": "stderr",
     "output_type": "stream",
     "text": [
      "Epoch 72/100: 100%|████████████████████████████████████████████████████| 31/31 [01:03<00:00,  2.04s/batch]\n",
      "Validation: 100%|████████████████████████████████████████████████████████| 4/4 [00:06<00:00,  1.57s/batch]\n"
     ]
    },
    {
     "name": "stdout",
     "output_type": "stream",
     "text": [
      "Epoch 72/100 - Train Loss: 1.0965 - Train acc: 0.9377 - Val Loss: 2.4508 - Val acc: 0.5148\n",
      "Learning rate: 0.000125\n"
     ]
    },
    {
     "name": "stderr",
     "output_type": "stream",
     "text": [
      "Epoch 73/100: 100%|████████████████████████████████████████████████████| 31/31 [01:03<00:00,  2.05s/batch]\n",
      "Epoch 75/100: 100%|████████████████████████████████████████████████████| 31/31 [01:03<00:00,  2.05s/batch]\n",
      "Validation: 100%|████████████████████████████████████████████████████████| 4/4 [00:06<00:00,  1.55s/batch]\n"
     ]
    },
    {
     "name": "stdout",
     "output_type": "stream",
     "text": [
      "Epoch 75/100 - Train Loss: 1.0726 - Train acc: 0.9436 - Val Loss: 2.4159 - Val acc: 0.5197\n",
      "Learning rate: 6.25e-05\n"
     ]
    },
    {
     "name": "stderr",
     "output_type": "stream",
     "text": [
      "Epoch 76/100: 100%|████████████████████████████████████████████████████| 31/31 [01:03<00:00,  2.05s/batch]\n",
      "Validation: 100%|████████████████████████████████████████████████████████| 4/4 [00:06<00:00,  1.56s/batch]\n"
     ]
    },
    {
     "name": "stdout",
     "output_type": "stream",
     "text": [
      "Epoch 76/100 - Train Loss: 1.0709 - Train acc: 0.9476 - Val Loss: 2.4512 - Val acc: 0.5123\n",
      "Learning rate: 6.25e-05\n"
     ]
    },
    {
     "name": "stderr",
     "output_type": "stream",
     "text": [
      "Epoch 77/100: 100%|████████████████████████████████████████████████████| 31/31 [01:03<00:00,  2.04s/batch]\n",
      "Validation: 100%|████████████████████████████████████████████████████████| 4/4 [00:06<00:00,  1.56s/batch]\n"
     ]
    },
    {
     "name": "stdout",
     "output_type": "stream",
     "text": [
      "Epoch 77/100 - Train Loss: 1.0660 - Train acc: 0.9484 - Val Loss: 2.4210 - Val acc: 0.5074\n",
      "Learning rate: 6.25e-05\n"
     ]
    },
    {
     "name": "stderr",
     "output_type": "stream",
     "text": [
      "Epoch 78/100: 100%|████████████████████████████████████████████████████| 31/31 [01:03<00:00,  2.05s/batch]\n",
      "Validation: 100%|████████████████████████████████████████████████████████| 4/4 [00:06<00:00,  1.57s/batch]\n"
     ]
    },
    {
     "name": "stdout",
     "output_type": "stream",
     "text": [
      "Epoch 78/100 - Train Loss: 1.0448 - Train acc: 0.9567 - Val Loss: 2.4438 - Val acc: 0.5148\n",
      "Learning rate: 6.25e-05\n"
     ]
    },
    {
     "name": "stderr",
     "output_type": "stream",
     "text": [
      "Epoch 79/100: 100%|████████████████████████████████████████████████████| 31/31 [01:03<00:00,  2.05s/batch]\n",
      "Validation: 100%|████████████████████████████████████████████████████████| 4/4 [00:06<00:00,  1.56s/batch]\n"
     ]
    },
    {
     "name": "stdout",
     "output_type": "stream",
     "text": [
      "Epoch 79/100 - Train Loss: 1.0576 - Train acc: 0.9534 - Val Loss: 2.4077 - Val acc: 0.5197\n",
      "Learning rate: 3.125e-05\n"
     ]
    },
    {
     "name": "stderr",
     "output_type": "stream",
     "text": [
      "Epoch 80/100: 100%|████████████████████████████████████████████████████| 31/31 [01:03<00:00,  2.05s/batch]\n",
      "Validation: 100%|████████████████████████████████████████████████████████| 4/4 [00:06<00:00,  1.55s/batch]\n"
     ]
    },
    {
     "name": "stdout",
     "output_type": "stream",
     "text": [
      "Epoch 80/100 - Train Loss: 1.0478 - Train acc: 0.9517 - Val Loss: 2.4298 - Val acc: 0.5148\n",
      "Learning rate: 3.125e-05\n"
     ]
    },
    {
     "name": "stderr",
     "output_type": "stream",
     "text": [
      "Epoch 81/100: 100%|████████████████████████████████████████████████████| 31/31 [01:03<00:00,  2.06s/batch]\n",
      "Validation: 100%|████████████████████████████████████████████████████████| 4/4 [00:06<00:00,  1.56s/batch]\n"
     ]
    },
    {
     "name": "stdout",
     "output_type": "stream",
     "text": [
      "Epoch 81/100 - Train Loss: 1.0478 - Train acc: 0.9529 - Val Loss: 2.4000 - Val acc: 0.5148\n",
      "Learning rate: 3.125e-05\n"
     ]
    },
    {
     "name": "stderr",
     "output_type": "stream",
     "text": [
      "Epoch 82/100: 100%|████████████████████████████████████████████████████| 31/31 [01:03<00:00,  2.05s/batch]\n",
      "Validation: 100%|████████████████████████████████████████████████████████| 4/4 [00:06<00:00,  1.55s/batch]\n"
     ]
    },
    {
     "name": "stdout",
     "output_type": "stream",
     "text": [
      "Epoch 82/100 - Train Loss: 1.0447 - Train acc: 0.9539 - Val Loss: 2.4266 - Val acc: 0.5025\n",
      "Learning rate: 3.125e-05\n"
     ]
    },
    {
     "name": "stderr",
     "output_type": "stream",
     "text": [
      "Epoch 83/100: 100%|████████████████████████████████████████████████████| 31/31 [01:03<00:00,  2.06s/batch]\n",
      "Validation: 100%|████████████████████████████████████████████████████████| 4/4 [00:06<00:00,  1.55s/batch]\n"
     ]
    },
    {
     "name": "stdout",
     "output_type": "stream",
     "text": [
      "Epoch 83/100 - Train Loss: 1.0383 - Train acc: 0.9582 - Val Loss: 2.4552 - Val acc: 0.5172\n",
      "Learning rate: 3.125e-05\n"
     ]
    },
    {
     "name": "stderr",
     "output_type": "stream",
     "text": [
      "Epoch 84/100: 100%|████████████████████████████████████████████████████| 31/31 [01:03<00:00,  2.05s/batch]\n",
      "Validation: 100%|████████████████████████████████████████████████████████| 4/4 [00:06<00:00,  1.55s/batch]\n"
     ]
    },
    {
     "name": "stdout",
     "output_type": "stream",
     "text": [
      "Epoch 84/100 - Train Loss: 1.0429 - Train acc: 0.9562 - Val Loss: 2.4356 - Val acc: 0.5172\n",
      "Learning rate: 3.125e-05\n"
     ]
    },
    {
     "name": "stderr",
     "output_type": "stream",
     "text": [
      "Epoch 85/100: 100%|████████████████████████████████████████████████████| 31/31 [01:03<00:00,  2.04s/batch]\n",
      "Validation: 100%|████████████████████████████████████████████████████████| 4/4 [00:06<00:00,  1.55s/batch]\n"
     ]
    },
    {
     "name": "stdout",
     "output_type": "stream",
     "text": [
      "Epoch 85/100 - Train Loss: 1.0516 - Train acc: 0.9552 - Val Loss: 2.4709 - Val acc: 0.5148\n",
      "Learning rate: 1.5625e-05\n"
     ]
    },
    {
     "name": "stderr",
     "output_type": "stream",
     "text": [
      "Epoch 86/100: 100%|████████████████████████████████████████████████████| 31/31 [01:03<00:00,  2.04s/batch]\n",
      "Validation: 100%|████████████████████████████████████████████████████████| 4/4 [00:06<00:00,  1.55s/batch]\n"
     ]
    },
    {
     "name": "stdout",
     "output_type": "stream",
     "text": [
      "Epoch 86/100 - Train Loss: 1.0344 - Train acc: 0.9595 - Val Loss: 2.4422 - Val acc: 0.5197\n",
      "Learning rate: 1.5625e-05\n"
     ]
    },
    {
     "name": "stderr",
     "output_type": "stream",
     "text": [
      "Epoch 87/100: 100%|████████████████████████████████████████████████████| 31/31 [01:03<00:00,  2.06s/batch]\n",
      "Validation: 100%|████████████████████████████████████████████████████████| 4/4 [00:06<00:00,  1.55s/batch]\n"
     ]
    },
    {
     "name": "stdout",
     "output_type": "stream",
     "text": [
      "Epoch 87/100 - Train Loss: 1.0318 - Train acc: 0.9567 - Val Loss: 2.4352 - Val acc: 0.5148\n",
      "Learning rate: 1.5625e-05\n"
     ]
    },
    {
     "name": "stderr",
     "output_type": "stream",
     "text": [
      "Epoch 88/100: 100%|████████████████████████████████████████████████████| 31/31 [01:03<00:00,  2.05s/batch]\n",
      "Validation: 100%|████████████████████████████████████████████████████████| 4/4 [00:06<00:00,  1.56s/batch]\n"
     ]
    },
    {
     "name": "stdout",
     "output_type": "stream",
     "text": [
      "Epoch 88/100 - Train Loss: 1.0333 - Train acc: 0.9555 - Val Loss: 2.4398 - Val acc: 0.5197\n",
      "Learning rate: 1.5625e-05\n"
     ]
    },
    {
     "name": "stderr",
     "output_type": "stream",
     "text": [
      "Epoch 89/100: 100%|████████████████████████████████████████████████████| 31/31 [01:03<00:00,  2.05s/batch]\n",
      "Validation: 100%|████████████████████████████████████████████████████████| 4/4 [00:06<00:00,  1.54s/batch]\n"
     ]
    },
    {
     "name": "stdout",
     "output_type": "stream",
     "text": [
      "Epoch 89/100 - Train Loss: 1.0386 - Train acc: 0.9532 - Val Loss: 2.4373 - Val acc: 0.5099\n",
      "Learning rate: 1.5625e-05\n"
     ]
    },
    {
     "name": "stderr",
     "output_type": "stream",
     "text": [
      "Epoch 90/100: 100%|████████████████████████████████████████████████████| 31/31 [01:03<00:00,  2.05s/batch]\n",
      "Validation: 100%|████████████████████████████████████████████████████████| 4/4 [00:06<00:00,  1.55s/batch]\n"
     ]
    },
    {
     "name": "stdout",
     "output_type": "stream",
     "text": [
      "Epoch 90/100 - Train Loss: 1.0192 - Train acc: 0.9636 - Val Loss: 2.4188 - Val acc: 0.5099\n",
      "Learning rate: 1.5625e-05\n"
     ]
    },
    {
     "name": "stderr",
     "output_type": "stream",
     "text": [
      "Epoch 91/100: 100%|████████████████████████████████████████████████████| 31/31 [01:03<00:00,  2.05s/batch]\n",
      "Validation: 100%|████████████████████████████████████████████████████████| 4/4 [00:06<00:00,  1.56s/batch]\n"
     ]
    },
    {
     "name": "stdout",
     "output_type": "stream",
     "text": [
      "Epoch 91/100 - Train Loss: 1.0398 - Train acc: 0.9527 - Val Loss: 2.4280 - Val acc: 0.5123\n",
      "Learning rate: 7.8125e-06\n"
     ]
    },
    {
     "name": "stderr",
     "output_type": "stream",
     "text": [
      "Epoch 92/100: 100%|████████████████████████████████████████████████████| 31/31 [01:03<00:00,  2.04s/batch]\n",
      "Validation: 100%|████████████████████████████████████████████████████████| 4/4 [00:06<00:00,  1.55s/batch]\n"
     ]
    },
    {
     "name": "stdout",
     "output_type": "stream",
     "text": [
      "Epoch 92/100 - Train Loss: 1.0211 - Train acc: 0.9603 - Val Loss: 2.4391 - Val acc: 0.5099\n",
      "Learning rate: 7.8125e-06\n"
     ]
    },
    {
     "name": "stderr",
     "output_type": "stream",
     "text": [
      "Epoch 93/100: 100%|████████████████████████████████████████████████████| 31/31 [01:03<00:00,  2.06s/batch]\n",
      "Validation: 100%|████████████████████████████████████████████████████████| 4/4 [00:06<00:00,  1.55s/batch]\n"
     ]
    },
    {
     "name": "stdout",
     "output_type": "stream",
     "text": [
      "Epoch 93/100 - Train Loss: 1.0331 - Train acc: 0.9587 - Val Loss: 2.4272 - Val acc: 0.5197\n",
      "Learning rate: 7.8125e-06\n"
     ]
    },
    {
     "name": "stderr",
     "output_type": "stream",
     "text": [
      "Epoch 94/100: 100%|████████████████████████████████████████████████████| 31/31 [01:03<00:00,  2.04s/batch]\n",
      "Validation: 100%|████████████████████████████████████████████████████████| 4/4 [00:06<00:00,  1.56s/batch]\n"
     ]
    },
    {
     "name": "stdout",
     "output_type": "stream",
     "text": [
      "Epoch 94/100 - Train Loss: 1.0179 - Train acc: 0.9646 - Val Loss: 2.4220 - Val acc: 0.5222\n",
      "Learning rate: 7.8125e-06\n"
     ]
    },
    {
     "name": "stderr",
     "output_type": "stream",
     "text": [
      "Epoch 95/100: 100%|████████████████████████████████████████████████████| 31/31 [01:03<00:00,  2.04s/batch]\n",
      "Validation: 100%|████████████████████████████████████████████████████████| 4/4 [00:06<00:00,  1.56s/batch]\n"
     ]
    },
    {
     "name": "stdout",
     "output_type": "stream",
     "text": [
      "Epoch 95/100 - Train Loss: 1.0166 - Train acc: 0.9651 - Val Loss: 2.4269 - Val acc: 0.5123\n",
      "Learning rate: 7.8125e-06\n"
     ]
    },
    {
     "name": "stderr",
     "output_type": "stream",
     "text": [
      "Epoch 96/100: 100%|████████████████████████████████████████████████████| 31/31 [01:04<00:00,  2.08s/batch]\n",
      "Validation: 100%|████████████████████████████████████████████████████████| 4/4 [00:06<00:00,  1.56s/batch]\n"
     ]
    },
    {
     "name": "stdout",
     "output_type": "stream",
     "text": [
      "Epoch 96/100 - Train Loss: 1.0205 - Train acc: 0.9643 - Val Loss: 2.4221 - Val acc: 0.5172\n",
      "Learning rate: 7.8125e-06\n"
     ]
    },
    {
     "name": "stderr",
     "output_type": "stream",
     "text": [
      "Epoch 97/100: 100%|████████████████████████████████████████████████████| 31/31 [01:03<00:00,  2.04s/batch]\n",
      "Validation: 100%|████████████████████████████████████████████████████████| 4/4 [00:06<00:00,  1.55s/batch]\n"
     ]
    },
    {
     "name": "stdout",
     "output_type": "stream",
     "text": [
      "Epoch 97/100 - Train Loss: 1.0267 - Train acc: 0.9582 - Val Loss: 2.4271 - Val acc: 0.5099\n",
      "Learning rate: 3.90625e-06\n"
     ]
    },
    {
     "name": "stderr",
     "output_type": "stream",
     "text": [
      "Epoch 98/100: 100%|████████████████████████████████████████████████████| 31/31 [01:04<00:00,  2.10s/batch]\n",
      "Validation: 100%|████████████████████████████████████████████████████████| 4/4 [00:06<00:00,  1.63s/batch]\n"
     ]
    },
    {
     "name": "stdout",
     "output_type": "stream",
     "text": [
      "Epoch 98/100 - Train Loss: 1.0224 - Train acc: 0.9590 - Val Loss: 2.4215 - Val acc: 0.5172\n",
      "Learning rate: 3.90625e-06\n"
     ]
    },
    {
     "name": "stderr",
     "output_type": "stream",
     "text": [
      "Epoch 99/100: 100%|████████████████████████████████████████████████████| 31/31 [01:07<00:00,  2.19s/batch]\n",
      "Validation: 100%|████████████████████████████████████████████████████████| 4/4 [00:06<00:00,  1.62s/batch]\n"
     ]
    },
    {
     "name": "stdout",
     "output_type": "stream",
     "text": [
      "Epoch 99/100 - Train Loss: 1.0295 - Train acc: 0.9600 - Val Loss: 2.4250 - Val acc: 0.5123\n",
      "Learning rate: 3.90625e-06\n"
     ]
    },
    {
     "name": "stderr",
     "output_type": "stream",
     "text": [
      "Epoch 100/100: 100%|███████████████████████████████████████████████████| 31/31 [01:04<00:00,  2.07s/batch]\n",
      "Validation: 100%|████████████████████████████████████████████████████████| 4/4 [00:06<00:00,  1.53s/batch]"
     ]
    },
    {
     "name": "stdout",
     "output_type": "stream",
     "text": [
      "Epoch 100/100 - Train Loss: 1.0187 - Train acc: 0.9653 - Val Loss: 2.4166 - Val acc: 0.5074\n",
      "Learning rate: 3.90625e-06\n"
     ]
    },
    {
     "name": "stderr",
     "output_type": "stream",
     "text": [
      "\n"
     ]
    }
   ],
   "source": [
    "# Training and Validation Loop\n",
    "best_val_acc = 0\n",
    "\n",
    "\n",
    "for epoch in range(num_epochs):\n",
    "\n",
    "    net.train() #開啟BN & DROPOUT\n",
    "    train_loss = 0\n",
    "    total_train = 0\n",
    "    correct_train = 0\n",
    "\n",
    "    for images, targets in tqdm(trainloader, desc=f'Epoch {epoch + 1}/{num_epochs}', unit='batch'):  #進度條以batch完成度為趴數\n",
    "        \n",
    "        images, targets = images.to(device), targets.to(device)# model, input image, output, mask(target, label, GT) are moved to GPU during training\n",
    "\n",
    "        optimizer.zero_grad()\n",
    "        outputs = net(images)\n",
    "        loss = criterion(outputs, targets)\n",
    "        loss.backward()\n",
    "        optimizer.step()\n",
    "        \n",
    "        train_loss += loss.item()\n",
    "\n",
    "        _, predicted = torch.max(outputs.data, 1)\n",
    "        total_train += targets.size(0) #計算all dataset len\n",
    "        correct_train += predicted.eq(targets.data).cpu().sum()\n",
    "\n",
    "    train_loss /= len(trainloader)\n",
    "    acc1 = correct_train / total_train\n",
    "\n",
    "\n",
    "\n",
    "    # Validate\n",
    "    net.eval() #關掉BN & DROPOUT\n",
    "    val_loss = 0\n",
    "    total_val = 0\n",
    "    correct_val = 0\n",
    "\n",
    "    with torch.no_grad():\n",
    "        for images, targets in tqdm(valloader, desc='Validation', unit='batch'):\n",
    "            images, targets = images.to(device), targets.to(device)\n",
    "\n",
    "            outputs = net(images)  #(bs, 7, 512, 512)\n",
    "            loss = criterion(outputs, targets) \n",
    "\n",
    "\n",
    "            val_loss += loss.item()\n",
    "\n",
    "            _, predicted = torch.max(outputs.data, 1)\n",
    "            total_val += targets.size(0) #計算all dataset len\n",
    "            correct_val += predicted.eq(targets.data).cpu().sum()\n",
    "\n",
    "    \n",
    "    val_loss /= len(valloader)\n",
    "    acc2 = correct_val / total_val\n",
    "    \n",
    "    # Save best model\n",
    "    if acc2 > best_val_acc:\n",
    "        best_val_acc = acc2\n",
    "        #torch.save(net.state_dict(), os.path.join(\"../../../\", \"checkpoint_model\", \"P1\", \"Fine_tune\", \"A\", \"best_val_acc_model.pth\")) # only C set need to save the model\n",
    "        print(f'best model update,  val acc: {acc2:.4f}')\n",
    "\n",
    "\n",
    "    scheduler.step(acc2)\n",
    "\n",
    "\n",
    "    # Logging\n",
    "    print(f'Epoch {epoch + 1}/{num_epochs} - Train Loss: {train_loss:.4f} - Train acc: {acc1:.4f} - Val Loss: {val_loss:.4f} - Val acc: {acc2:.4f}')\n",
    "    print(f'Learning rate: {scheduler.get_last_lr()[0]}')"
   ]
  },
  {
   "cell_type": "code",
   "execution_count": 21,
   "metadata": {},
   "outputs": [
    {
     "name": "stdout",
     "output_type": "stream",
     "text": [
      "tensor(0.5271)\n"
     ]
    }
   ],
   "source": [
    "print(best_val_acc)"
   ]
  },
  {
   "cell_type": "code",
   "execution_count": null,
   "metadata": {},
   "outputs": [],
   "source": []
  }
 ],
 "metadata": {
  "kernelspec": {
   "display_name": "Python (ENV_DLCV_HW1)",
   "language": "python",
   "name": "env_dlcv_hw1"
  },
  "language_info": {
   "codemirror_mode": {
    "name": "ipython",
    "version": 3
   },
   "file_extension": ".py",
   "mimetype": "text/x-python",
   "name": "python",
   "nbconvert_exporter": "python",
   "pygments_lexer": "ipython3",
   "version": "3.8.19"
  }
 },
 "nbformat": 4,
 "nbformat_minor": 4
}
