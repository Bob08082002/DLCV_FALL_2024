{
 "cells": [
  {
   "cell_type": "markdown",
   "metadata": {},
   "source": [
    "# Import library"
   ]
  },
  {
   "cell_type": "markdown",
   "metadata": {},
   "source": [
    "packages allowed for use during inference"
   ]
  },
  {
   "cell_type": "code",
   "execution_count": 25,
   "metadata": {},
   "outputs": [],
   "source": [
    "import os\n",
    "import numpy as np\n",
    "\n",
    "import torch\n",
    "import torch.nn as nn\n",
    "import torch.optim as optim\n",
    "from torch.optim.lr_scheduler import ReduceLROnPlateau\n",
    "from torch.utils.data import DataLoader, Dataset\n",
    "from torchvision import models, transforms\n",
    "\n",
    "\n",
    "\n",
    "import imageio.v2 as imageio\n",
    "import matplotlib.pyplot as plt\n",
    "from PIL import Image\n",
    "from tqdm import tqdm\n",
    "import pandas as pd\n",
    "\n",
    "from sklearn.manifold import TSNE"
   ]
  },
  {
   "cell_type": "markdown",
   "metadata": {},
   "source": [
    "packages during training"
   ]
  },
  {
   "cell_type": "code",
   "execution_count": 26,
   "metadata": {},
   "outputs": [],
   "source": [
    "from thop import profile"
   ]
  },
  {
   "cell_type": "markdown",
   "metadata": {},
   "source": [
    "# Hyperparameters"
   ]
  },
  {
   "cell_type": "code",
   "execution_count": 27,
   "metadata": {},
   "outputs": [],
   "source": [
    "BATCH_SIZE = 128\n",
    "device = torch.device(\"cuda\" if torch.cuda.is_available() else \"cpu\")"
   ]
  },
  {
   "cell_type": "markdown",
   "metadata": {},
   "source": [
    "# Define Custom Dataset"
   ]
  },
  {
   "cell_type": "markdown",
   "metadata": {},
   "source": [
    "custom dataset\n",
    "\n",
    "先計算此training dataset的mean & std (直接用imagenet的)"
   ]
  },
  {
   "cell_type": "code",
   "execution_count": 28,
   "metadata": {},
   "outputs": [],
   "source": [
    "train_mean = [0.485, 0.456, 0.406]\n",
    "train_std = [0.229, 0.224, 0.225]"
   ]
  },
  {
   "cell_type": "markdown",
   "metadata": {},
   "source": [
    "Custom dataset"
   ]
  },
  {
   "cell_type": "code",
   "execution_count": 29,
   "metadata": {},
   "outputs": [],
   "source": [
    "# dataset整理image & label (from image folder & csv file)\n",
    "class CustomDataset(Dataset):\n",
    "    def __init__(self, csv_file, root_dir, transform=None):\n",
    "        self.data_frame = pd.read_csv(csv_file) #csv_file : csv file path\n",
    "        self.root_dir = root_dir #train folder 位置\n",
    "        self.transform = transform\n",
    "\n",
    "    def __len__(self):\n",
    "        return len(self.data_frame)\n",
    "\n",
    "    def __getitem__(self, idx):\n",
    "        img_name = os.path.join(self.root_dir, self.data_frame.iloc[idx, 1])\n",
    "        image = Image.open(img_name).convert(\"RGB\") #image is PIL image\n",
    "        label = int(self.data_frame.iloc[idx, 2])  # Get the label\n",
    "        \n",
    "        if self.transform:\n",
    "            image = self.transform(image)\n",
    "\n",
    "        return image, label\n"
   ]
  },
  {
   "cell_type": "markdown",
   "metadata": {},
   "source": [
    "建train transform和val transform"
   ]
  },
  {
   "cell_type": "markdown",
   "metadata": {},
   "source": [
    "val transform和test transform一樣"
   ]
  },
  {
   "cell_type": "code",
   "execution_count": 30,
   "metadata": {},
   "outputs": [],
   "source": [
    "# Data Transformations\n",
    "transform_train = transforms.Compose([\n",
    "    transforms.Resize(128),\n",
    "    transforms.CenterCrop(128),\n",
    "    transforms.RandomHorizontalFlip(),\n",
    "    transforms.RandomRotation(degrees=10),\n",
    "    transforms.ColorJitter(brightness=0.2, contrast=0.2, saturation=0.2, hue=0.1),\n",
    "    transforms.RandomPerspective(distortion_scale=0.5, p=0.5),\n",
    "    transforms.GaussianBlur(kernel_size=(5, 5), sigma=(0.1, 2.0)),\n",
    "    transforms.ToTensor(),\n",
    "    transforms.Normalize(mean=train_mean, std=train_std),\n",
    "    transforms.RandomErasing(p=0.3, scale=(0.02, 0.05), ratio=(0.3, 3.3), value=0)\n",
    "])\n",
    "\n",
    "transform_val = transforms.Compose([\n",
    "    transforms.Resize(128),\n",
    "    transforms.CenterCrop(128),\n",
    "    transforms.ToTensor(),\n",
    "    transforms.Normalize(mean=train_mean, std=train_std),\n",
    "])\n"
   ]
  },
  {
   "cell_type": "markdown",
   "metadata": {},
   "source": [
    "用P2_train_val_CustomDataset產生custom train & val dataset，再產生trainloader & valloader"
   ]
  },
  {
   "cell_type": "code",
   "execution_count": 31,
   "metadata": {},
   "outputs": [],
   "source": [
    "train_dataset = CustomDataset(csv_file='../../../hw1_data/p1_data/office/train.csv', root_dir='../../../hw1_data/p1_data/office/train', transform=transform_train)\n",
    "val_dataset = CustomDataset(csv_file='../../../hw1_data/p1_data/office/val.csv', root_dir='../../../hw1_data/p1_data/office/val', transform=transform_val)\n",
    "\n",
    "trainloader = DataLoader(train_dataset, batch_size=BATCH_SIZE, shuffle=True, num_workers=2)\n",
    "valloader = DataLoader(val_dataset, batch_size=BATCH_SIZE, shuffle=False, num_workers=2)"
   ]
  },
  {
   "cell_type": "code",
   "execution_count": 32,
   "metadata": {},
   "outputs": [
    {
     "name": "stdout",
     "output_type": "stream",
     "text": [
      "type(image_first_batch):  <class 'torch.Tensor'>\n",
      "image_first_batch.shape:  torch.Size([128, 3, 128, 128])\n",
      "type(label_first_batch):  <class 'torch.Tensor'>\n",
      "label_first_batch.shape:  torch.Size([128])\n"
     ]
    }
   ],
   "source": [
    "# print shape\n",
    "image_first_batch, label_first_batch = next(iter(trainloader))  #get first batch's image & mask\n",
    "print(\"type(image_first_batch): \", type(image_first_batch))\n",
    "print(\"image_first_batch.shape: \", image_first_batch.shape)\n",
    "print(\"type(label_first_batch): \", type(label_first_batch))\n",
    "print(\"label_first_batch.shape: \", label_first_batch.shape)"
   ]
  },
  {
   "cell_type": "code",
   "execution_count": 33,
   "metadata": {},
   "outputs": [
    {
     "name": "stdout",
     "output_type": "stream",
     "text": [
      "tensor(2.1290)\n",
      "tensor(6)\n"
     ]
    }
   ],
   "source": [
    "print(image_first_batch[2][0][100][102])\n",
    "print(label_first_batch[2])"
   ]
  },
  {
   "cell_type": "code",
   "execution_count": 34,
   "metadata": {},
   "outputs": [
    {
     "name": "stderr",
     "output_type": "stream",
     "text": [
      "Clipping input data to the valid range for imshow with RGB data ([0..1] for floats or [0..255] for integers).\n"
     ]
    },
    {
     "data": {
      "image/png": "[encoded data removed]",
      "text/plain": [
       "<Figure size 640x480 with 1 Axes>"
      ]
     },
     "metadata": {},
     "output_type": "display_data"
    }
   ],
   "source": [
    "# visualize wo normalization\n",
    "idx = 1\n",
    "first_image = image_first_batch[idx]\n",
    "\n",
    "\n",
    "# Convert the tensor to numpy array\n",
    "image_np = first_image.numpy()\n",
    "# Since matplotlib expects images in H x W x C format, we need to transpose it\n",
    "image_np = np.transpose(image_np, (1, 2, 0))\n",
    "\n",
    "# Plot the image\n",
    "plt.imshow(image_np)\n",
    "plt.axis('off')  # Turn off axis numbers and ticks\n",
    "plt.show()"
   ]
  },
  {
   "cell_type": "code",
   "execution_count": 35,
   "metadata": {},
   "outputs": [
    {
     "name": "stdout",
     "output_type": "stream",
     "text": [
      "True\n"
     ]
    }
   ],
   "source": [
    "print(torch.cuda.is_available())"
   ]
  },
  {
   "cell_type": "markdown",
   "metadata": {},
   "source": [
    "# Build Model"
   ]
  },
  {
   "cell_type": "markdown",
   "metadata": {},
   "source": [
    "instance model\n",
    " \n",
    "並載入SSL訓練的WEIGHT\n"
   ]
  },
  {
   "cell_type": "code",
   "execution_count": 36,
   "metadata": {},
   "outputs": [
    {
     "name": "stdout",
     "output_type": "stream",
     "text": [
      "2048\n",
      "\n"
     ]
    },
    {
     "name": "stderr",
     "output_type": "stream",
     "text": [
      "/tmp/ipykernel_19257/2857827174.py:6: FutureWarning: You are using `torch.load` with `weights_only=False` (the current default value), which uses the default pickle module implicitly. It is possible to construct malicious pickle data which will execute arbitrary code during unpickling (See https://github.com/pytorch/pytorch/blob/main/SECURITY.md#untrusted-models for more details). In a future release, the default value for `weights_only` will be flipped to `True`. This limits the functions that could be executed during unpickling. Arbitrary objects will no longer be allowed to be loaded via this mode unless they are explicitly allowlisted by the user via `torch.serialization.add_safe_globals`. We recommend you start setting `weights_only=True` for any use case where you don't have full control of the loaded file. Please open an issue on GitHub for any issues related to this experimental feature.\n",
      "  backbone.load_state_dict(torch.load('../../../checkpoint_model/P1/SSL_pretrain_backbone/best_loss_model.pth'), strict=False) # load the backbone weights\n"
     ]
    }
   ],
   "source": [
    "backbone = models.resnet50(weights=None)  # No pretrained weights\n",
    "# Number of input features to the original FC layer\n",
    "num_features = backbone.fc.in_features  # Typically 2048 for ResNet50 \n",
    "print(num_features)\n",
    "backbone.fc = torch.nn.Identity()  # Remove the final classification layer\n",
    "backbone.load_state_dict(torch.load('../../../checkpoint_model/P1/SSL_pretrain_backbone/best_loss_model.pth'), strict=False) # load the backbone weights\n",
    "print()\n",
    "\n",
    "#backbone is on cpu"
   ]
  },
  {
   "cell_type": "markdown",
   "metadata": {},
   "source": [
    " **C set:** train full model\n",
    "\n",
    " 將resnet的fc替換成custom classifier "
   ]
  },
  {
   "cell_type": "code",
   "execution_count": 37,
   "metadata": {},
   "outputs": [],
   "source": [
    "# Create CombinedModel with custom classifier\n",
    "class CombinedModel(nn.Module):\n",
    "    def __init__(self, Backbone, num_features, hidden1=512, hidden2=256, num_classes=65, dropout_prob=0.5):\n",
    "        super(CombinedModel, self).__init__()\n",
    "        #Backbone\n",
    "        self.Backbone = Backbone\n",
    "        # First layer\n",
    "        self.fc1 = nn.Linear(num_features, hidden1)\n",
    "        self.bn1 = nn.BatchNorm1d(hidden1)  # Batch Normalization for first hidden layer\n",
    "        self.relu1 = nn.ReLU()\n",
    "        self.dropout1 = nn.Dropout(p=dropout_prob)  # Dropout after first hidden layer\n",
    "\n",
    "        # Second layer\n",
    "        self.fc2 = nn.Linear(hidden1, hidden2)\n",
    "        self.bn2 = nn.BatchNorm1d(hidden2)  # Batch Normalization for second hidden layer\n",
    "        self.relu2 = nn.ReLU()\n",
    "        self.dropout2 = nn.Dropout(p=dropout_prob)  # Dropout after second hidden layer\n",
    "\n",
    "        # Final layer (output)\n",
    "        self.fc3 = nn.Linear(hidden2, num_classes)\n",
    "\n",
    "    def forward(self, x):\n",
    "        # Backbone(already replace fc layer by identity)\n",
    "        x = self.Backbone(x)\n",
    "        # Forward through the first layer\n",
    "        x = self.fc1(x)\n",
    "        x = self.bn1(x)  # Batch normalization\n",
    "        x = self.relu1(x)\n",
    "        x = self.dropout1(x)  # Dropout\n",
    "        \n",
    "        # Forward through the second layer # Second Last layer(fc layer)\n",
    "        x = self.fc2(x)\n",
    "        x = self.bn2(x)  # Batch normalization\n",
    "        x = self.relu2(x)\n",
    "        x = self.dropout2(x)  # Dropout\n",
    "\n",
    "        # Output layer (no activation, used for logits) # Last layer\n",
    "        x = self.fc3(x)\n",
    "        return x\n",
    "    \n",
    "    def get_second_last_layer_output(self, x):\n",
    "        # Backbone(already replace fc layer by identity)\n",
    "        x = self.Backbone(x)\n",
    "        # Forward through the first layer\n",
    "        x = self.fc1(x)\n",
    "        x = self.bn1(x)  # Batch normalization\n",
    "        x = self.relu1(x)\n",
    "        x = self.dropout1(x)  # Dropout\n",
    "        \n",
    "        # Forward through the second layer (this is where we stop)\n",
    "        x = self.fc2(x)\n",
    "        x = self.bn2(x)  # Batch normalization\n",
    "        x = self.relu2(x)\n",
    "        x = self.dropout2(x)  # Dropout\n",
    "        \n",
    "        # Return the second-to-last layer output\n",
    "        return x\n",
    "\n",
    "\n",
    "# Replace the final fully connected layer in ResNet50 with the new MLP head\n",
    "net = CombinedModel(Backbone=backbone, num_features=num_features)\n",
    "net = net.to(device)\n"
   ]
  },
  {
   "cell_type": "code",
   "execution_count": 38,
   "metadata": {},
   "outputs": [
    {
     "name": "stdout",
     "output_type": "stream",
     "text": [
      "CombinedModel(\n",
      "  (Backbone): ResNet(\n",
      "    (conv1): Conv2d(3, 64, kernel_size=(7, 7), stride=(2, 2), padding=(3, 3), bias=False)\n",
      "    (bn1): BatchNorm2d(64, eps=1e-05, momentum=0.1, affine=True, track_running_stats=True)\n",
      "    (relu): ReLU(inplace=True)\n",
      "    (maxpool): MaxPool2d(kernel_size=3, stride=2, padding=1, dilation=1, ceil_mode=False)\n",
      "    (layer1): Sequential(\n",
      "      (0): Bottleneck(\n",
      "        (conv1): Conv2d(64, 64, kernel_size=(1, 1), stride=(1, 1), bias=False)\n",
      "        (bn1): BatchNorm2d(64, eps=1e-05, momentum=0.1, affine=True, track_running_stats=True)\n",
      "        (conv2): Conv2d(64, 64, kernel_size=(3, 3), stride=(1, 1), padding=(1, 1), bias=False)\n",
      "        (bn2): BatchNorm2d(64, eps=1e-05, momentum=0.1, affine=True, track_running_stats=True)\n",
      "        (conv3): Conv2d(64, 256, kernel_size=(1, 1), stride=(1, 1), bias=False)\n",
      "        (bn3): BatchNorm2d(256, eps=1e-05, momentum=0.1, affine=True, track_running_stats=True)\n",
      "        (relu): ReLU(inplace=True)\n",
      "        (downsample): Sequential(\n",
      "          (0): Conv2d(64, 256, kernel_size=(1, 1), stride=(1, 1), bias=False)\n",
      "          (1): BatchNorm2d(256, eps=1e-05, momentum=0.1, affine=True, track_running_stats=True)\n",
      "        )\n",
      "      )\n",
      "      (1): Bottleneck(\n",
      "        (conv1): Conv2d(256, 64, kernel_size=(1, 1), stride=(1, 1), bias=False)\n",
      "        (bn1): BatchNorm2d(64, eps=1e-05, momentum=0.1, affine=True, track_running_stats=True)\n",
      "        (conv2): Conv2d(64, 64, kernel_size=(3, 3), stride=(1, 1), padding=(1, 1), bias=False)\n",
      "        (bn2): BatchNorm2d(64, eps=1e-05, momentum=0.1, affine=True, track_running_stats=True)\n",
      "        (conv3): Conv2d(64, 256, kernel_size=(1, 1), stride=(1, 1), bias=False)\n",
      "        (bn3): BatchNorm2d(256, eps=1e-05, momentum=0.1, affine=True, track_running_stats=True)\n",
      "        (relu): ReLU(inplace=True)\n",
      "      )\n",
      "      (2): Bottleneck(\n",
      "        (conv1): Conv2d(256, 64, kernel_size=(1, 1), stride=(1, 1), bias=False)\n",
      "        (bn1): BatchNorm2d(64, eps=1e-05, momentum=0.1, affine=True, track_running_stats=True)\n",
      "        (conv2): Conv2d(64, 64, kernel_size=(3, 3), stride=(1, 1), padding=(1, 1), bias=False)\n",
      "        (bn2): BatchNorm2d(64, eps=1e-05, momentum=0.1, affine=True, track_running_stats=True)\n",
      "        (conv3): Conv2d(64, 256, kernel_size=(1, 1), stride=(1, 1), bias=False)\n",
      "        (bn3): BatchNorm2d(256, eps=1e-05, momentum=0.1, affine=True, track_running_stats=True)\n",
      "        (relu): ReLU(inplace=True)\n",
      "      )\n",
      "    )\n",
      "    (layer2): Sequential(\n",
      "      (0): Bottleneck(\n",
      "        (conv1): Conv2d(256, 128, kernel_size=(1, 1), stride=(1, 1), bias=False)\n",
      "        (bn1): BatchNorm2d(128, eps=1e-05, momentum=0.1, affine=True, track_running_stats=True)\n",
      "        (conv2): Conv2d(128, 128, kernel_size=(3, 3), stride=(2, 2), padding=(1, 1), bias=False)\n",
      "        (bn2): BatchNorm2d(128, eps=1e-05, momentum=0.1, affine=True, track_running_stats=True)\n",
      "        (conv3): Conv2d(128, 512, kernel_size=(1, 1), stride=(1, 1), bias=False)\n",
      "        (bn3): BatchNorm2d(512, eps=1e-05, momentum=0.1, affine=True, track_running_stats=True)\n",
      "        (relu): ReLU(inplace=True)\n",
      "        (downsample): Sequential(\n",
      "          (0): Conv2d(256, 512, kernel_size=(1, 1), stride=(2, 2), bias=False)\n",
      "          (1): BatchNorm2d(512, eps=1e-05, momentum=0.1, affine=True, track_running_stats=True)\n",
      "        )\n",
      "      )\n",
      "      (1): Bottleneck(\n",
      "        (conv1): Conv2d(512, 128, kernel_size=(1, 1), stride=(1, 1), bias=False)\n",
      "        (bn1): BatchNorm2d(128, eps=1e-05, momentum=0.1, affine=True, track_running_stats=True)\n",
      "        (conv2): Conv2d(128, 128, kernel_size=(3, 3), stride=(1, 1), padding=(1, 1), bias=False)\n",
      "        (bn2): BatchNorm2d(128, eps=1e-05, momentum=0.1, affine=True, track_running_stats=True)\n",
      "        (conv3): Conv2d(128, 512, kernel_size=(1, 1), stride=(1, 1), bias=False)\n",
      "        (bn3): BatchNorm2d(512, eps=1e-05, momentum=0.1, affine=True, track_running_stats=True)\n",
      "        (relu): ReLU(inplace=True)\n",
      "      )\n",
      "      (2): Bottleneck(\n",
      "        (conv1): Conv2d(512, 128, kernel_size=(1, 1), stride=(1, 1), bias=False)\n",
      "        (bn1): BatchNorm2d(128, eps=1e-05, momentum=0.1, affine=True, track_running_stats=True)\n",
      "        (conv2): Conv2d(128, 128, kernel_size=(3, 3), stride=(1, 1), padding=(1, 1), bias=False)\n",
      "        (bn2): BatchNorm2d(128, eps=1e-05, momentum=0.1, affine=True, track_running_stats=True)\n",
      "        (conv3): Conv2d(128, 512, kernel_size=(1, 1), stride=(1, 1), bias=False)\n",
      "        (bn3): BatchNorm2d(512, eps=1e-05, momentum=0.1, affine=True, track_running_stats=True)\n",
      "        (relu): ReLU(inplace=True)\n",
      "      )\n",
      "      (3): Bottleneck(\n",
      "        (conv1): Conv2d(512, 128, kernel_size=(1, 1), stride=(1, 1), bias=False)\n",
      "        (bn1): BatchNorm2d(128, eps=1e-05, momentum=0.1, affine=True, track_running_stats=True)\n",
      "        (conv2): Conv2d(128, 128, kernel_size=(3, 3), stride=(1, 1), padding=(1, 1), bias=False)\n",
      "        (bn2): BatchNorm2d(128, eps=1e-05, momentum=0.1, affine=True, track_running_stats=True)\n",
      "        (conv3): Conv2d(128, 512, kernel_size=(1, 1), stride=(1, 1), bias=False)\n",
      "        (bn3): BatchNorm2d(512, eps=1e-05, momentum=0.1, affine=True, track_running_stats=True)\n",
      "        (relu): ReLU(inplace=True)\n",
      "      )\n",
      "    )\n",
      "    (layer3): Sequential(\n",
      "      (0): Bottleneck(\n",
      "        (conv1): Conv2d(512, 256, kernel_size=(1, 1), stride=(1, 1), bias=False)\n",
      "        (bn1): BatchNorm2d(256, eps=1e-05, momentum=0.1, affine=True, track_running_stats=True)\n",
      "        (conv2): Conv2d(256, 256, kernel_size=(3, 3), stride=(2, 2), padding=(1, 1), bias=False)\n",
      "        (bn2): BatchNorm2d(256, eps=1e-05, momentum=0.1, affine=True, track_running_stats=True)\n",
      "        (conv3): Conv2d(256, 1024, kernel_size=(1, 1), stride=(1, 1), bias=False)\n",
      "        (bn3): BatchNorm2d(1024, eps=1e-05, momentum=0.1, affine=True, track_running_stats=True)\n",
      "        (relu): ReLU(inplace=True)\n",
      "        (downsample): Sequential(\n",
      "          (0): Conv2d(512, 1024, kernel_size=(1, 1), stride=(2, 2), bias=False)\n",
      "          (1): BatchNorm2d(1024, eps=1e-05, momentum=0.1, affine=True, track_running_stats=True)\n",
      "        )\n",
      "      )\n",
      "      (1): Bottleneck(\n",
      "        (conv1): Conv2d(1024, 256, kernel_size=(1, 1), stride=(1, 1), bias=False)\n",
      "        (bn1): BatchNorm2d(256, eps=1e-05, momentum=0.1, affine=True, track_running_stats=True)\n",
      "        (conv2): Conv2d(256, 256, kernel_size=(3, 3), stride=(1, 1), padding=(1, 1), bias=False)\n",
      "        (bn2): BatchNorm2d(256, eps=1e-05, momentum=0.1, affine=True, track_running_stats=True)\n",
      "        (conv3): Conv2d(256, 1024, kernel_size=(1, 1), stride=(1, 1), bias=False)\n",
      "        (bn3): BatchNorm2d(1024, eps=1e-05, momentum=0.1, affine=True, track_running_stats=True)\n",
      "        (relu): ReLU(inplace=True)\n",
      "      )\n",
      "      (2): Bottleneck(\n",
      "        (conv1): Conv2d(1024, 256, kernel_size=(1, 1), stride=(1, 1), bias=False)\n",
      "        (bn1): BatchNorm2d(256, eps=1e-05, momentum=0.1, affine=True, track_running_stats=True)\n",
      "        (conv2): Conv2d(256, 256, kernel_size=(3, 3), stride=(1, 1), padding=(1, 1), bias=False)\n",
      "        (bn2): BatchNorm2d(256, eps=1e-05, momentum=0.1, affine=True, track_running_stats=True)\n",
      "        (conv3): Conv2d(256, 1024, kernel_size=(1, 1), stride=(1, 1), bias=False)\n",
      "        (bn3): BatchNorm2d(1024, eps=1e-05, momentum=0.1, affine=True, track_running_stats=True)\n",
      "        (relu): ReLU(inplace=True)\n",
      "      )\n",
      "      (3): Bottleneck(\n",
      "        (conv1): Conv2d(1024, 256, kernel_size=(1, 1), stride=(1, 1), bias=False)\n",
      "        (bn1): BatchNorm2d(256, eps=1e-05, momentum=0.1, affine=True, track_running_stats=True)\n",
      "        (conv2): Conv2d(256, 256, kernel_size=(3, 3), stride=(1, 1), padding=(1, 1), bias=False)\n",
      "        (bn2): BatchNorm2d(256, eps=1e-05, momentum=0.1, affine=True, track_running_stats=True)\n",
      "        (conv3): Conv2d(256, 1024, kernel_size=(1, 1), stride=(1, 1), bias=False)\n",
      "        (bn3): BatchNorm2d(1024, eps=1e-05, momentum=0.1, affine=True, track_running_stats=True)\n",
      "        (relu): ReLU(inplace=True)\n",
      "      )\n",
      "      (4): Bottleneck(\n",
      "        (conv1): Conv2d(1024, 256, kernel_size=(1, 1), stride=(1, 1), bias=False)\n",
      "        (bn1): BatchNorm2d(256, eps=1e-05, momentum=0.1, affine=True, track_running_stats=True)\n",
      "        (conv2): Conv2d(256, 256, kernel_size=(3, 3), stride=(1, 1), padding=(1, 1), bias=False)\n",
      "        (bn2): BatchNorm2d(256, eps=1e-05, momentum=0.1, affine=True, track_running_stats=True)\n",
      "        (conv3): Conv2d(256, 1024, kernel_size=(1, 1), stride=(1, 1), bias=False)\n",
      "        (bn3): BatchNorm2d(1024, eps=1e-05, momentum=0.1, affine=True, track_running_stats=True)\n",
      "        (relu): ReLU(inplace=True)\n",
      "      )\n",
      "      (5): Bottleneck(\n",
      "        (conv1): Conv2d(1024, 256, kernel_size=(1, 1), stride=(1, 1), bias=False)\n",
      "        (bn1): BatchNorm2d(256, eps=1e-05, momentum=0.1, affine=True, track_running_stats=True)\n",
      "        (conv2): Conv2d(256, 256, kernel_size=(3, 3), stride=(1, 1), padding=(1, 1), bias=False)\n",
      "        (bn2): BatchNorm2d(256, eps=1e-05, momentum=0.1, affine=True, track_running_stats=True)\n",
      "        (conv3): Conv2d(256, 1024, kernel_size=(1, 1), stride=(1, 1), bias=False)\n",
      "        (bn3): BatchNorm2d(1024, eps=1e-05, momentum=0.1, affine=True, track_running_stats=True)\n",
      "        (relu): ReLU(inplace=True)\n",
      "      )\n",
      "    )\n",
      "    (layer4): Sequential(\n",
      "      (0): Bottleneck(\n",
      "        (conv1): Conv2d(1024, 512, kernel_size=(1, 1), stride=(1, 1), bias=False)\n",
      "        (bn1): BatchNorm2d(512, eps=1e-05, momentum=0.1, affine=True, track_running_stats=True)\n",
      "        (conv2): Conv2d(512, 512, kernel_size=(3, 3), stride=(2, 2), padding=(1, 1), bias=False)\n",
      "        (bn2): BatchNorm2d(512, eps=1e-05, momentum=0.1, affine=True, track_running_stats=True)\n",
      "        (conv3): Conv2d(512, 2048, kernel_size=(1, 1), stride=(1, 1), bias=False)\n",
      "        (bn3): BatchNorm2d(2048, eps=1e-05, momentum=0.1, affine=True, track_running_stats=True)\n",
      "        (relu): ReLU(inplace=True)\n",
      "        (downsample): Sequential(\n",
      "          (0): Conv2d(1024, 2048, kernel_size=(1, 1), stride=(2, 2), bias=False)\n",
      "          (1): BatchNorm2d(2048, eps=1e-05, momentum=0.1, affine=True, track_running_stats=True)\n",
      "        )\n",
      "      )\n",
      "      (1): Bottleneck(\n",
      "        (conv1): Conv2d(2048, 512, kernel_size=(1, 1), stride=(1, 1), bias=False)\n",
      "        (bn1): BatchNorm2d(512, eps=1e-05, momentum=0.1, affine=True, track_running_stats=True)\n",
      "        (conv2): Conv2d(512, 512, kernel_size=(3, 3), stride=(1, 1), padding=(1, 1), bias=False)\n",
      "        (bn2): BatchNorm2d(512, eps=1e-05, momentum=0.1, affine=True, track_running_stats=True)\n",
      "        (conv3): Conv2d(512, 2048, kernel_size=(1, 1), stride=(1, 1), bias=False)\n",
      "        (bn3): BatchNorm2d(2048, eps=1e-05, momentum=0.1, affine=True, track_running_stats=True)\n",
      "        (relu): ReLU(inplace=True)\n",
      "      )\n",
      "      (2): Bottleneck(\n",
      "        (conv1): Conv2d(2048, 512, kernel_size=(1, 1), stride=(1, 1), bias=False)\n",
      "        (bn1): BatchNorm2d(512, eps=1e-05, momentum=0.1, affine=True, track_running_stats=True)\n",
      "        (conv2): Conv2d(512, 512, kernel_size=(3, 3), stride=(1, 1), padding=(1, 1), bias=False)\n",
      "        (bn2): BatchNorm2d(512, eps=1e-05, momentum=0.1, affine=True, track_running_stats=True)\n",
      "        (conv3): Conv2d(512, 2048, kernel_size=(1, 1), stride=(1, 1), bias=False)\n",
      "        (bn3): BatchNorm2d(2048, eps=1e-05, momentum=0.1, affine=True, track_running_stats=True)\n",
      "        (relu): ReLU(inplace=True)\n",
      "      )\n",
      "    )\n",
      "    (avgpool): AdaptiveAvgPool2d(output_size=(1, 1))\n",
      "    (fc): Identity()\n",
      "  )\n",
      "  (fc1): Linear(in_features=2048, out_features=512, bias=True)\n",
      "  (bn1): BatchNorm1d(512, eps=1e-05, momentum=0.1, affine=True, track_running_stats=True)\n",
      "  (relu1): ReLU()\n",
      "  (dropout1): Dropout(p=0.5, inplace=False)\n",
      "  (fc2): Linear(in_features=512, out_features=256, bias=True)\n",
      "  (bn2): BatchNorm1d(256, eps=1e-05, momentum=0.1, affine=True, track_running_stats=True)\n",
      "  (relu2): ReLU()\n",
      "  (dropout2): Dropout(p=0.5, inplace=False)\n",
      "  (fc3): Linear(in_features=256, out_features=65, bias=True)\n",
      ")\n",
      "[INFO] Register count_convNd() for <class 'torch.nn.modules.conv.Conv2d'>.\n",
      "[INFO] Register count_normalization() for <class 'torch.nn.modules.batchnorm.BatchNorm2d'>.\n",
      "[INFO] Register zero_ops() for <class 'torch.nn.modules.activation.ReLU'>.\n",
      "[INFO] Register zero_ops() for <class 'torch.nn.modules.pooling.MaxPool2d'>.\n",
      "[INFO] Register zero_ops() for <class 'torch.nn.modules.container.Sequential'>.\n",
      "[INFO] Register count_adap_avgpool() for <class 'torch.nn.modules.pooling.AdaptiveAvgPool2d'>.\n",
      "[INFO] Register count_linear() for <class 'torch.nn.modules.linear.Linear'>.\n",
      "[INFO] Register count_normalization() for <class 'torch.nn.modules.batchnorm.BatchNorm1d'>.\n",
      "[INFO] Register zero_ops() for <class 'torch.nn.modules.dropout.Dropout'>.\n",
      "MACs = 1.350325504G\n",
      "Params = 24.706689M\n"
     ]
    }
   ],
   "source": [
    "net.eval()\n",
    "print(net)\n",
    "#Compute MACs & params\n",
    "input1 = torch.randn(1,3,128,128).to(device) # dummy input也放到device\n",
    "MACs, params = profile(net, inputs=(input1, ))\n",
    "print('MACs = ' + str(MACs/1000**3) + 'G')\n",
    "print('Params = ' + str(params/1000**2) + 'M')"
   ]
  },
  {
   "cell_type": "code",
   "execution_count": 39,
   "metadata": {},
   "outputs": [
    {
     "name": "stdout",
     "output_type": "stream",
     "text": [
      "torch.Size([1, 65])\n",
      "torch.Size([1, 256])\n"
     ]
    }
   ],
   "source": [
    "#print output shape\n",
    "input1 = torch.randn(1,3,128,128).to(device) # dummy input也放到device\n",
    "output_secondlast = net.get_second_last_layer_output(input1)\n",
    "output = net(input1)\n",
    "print(output.shape)\n",
    "print(output_secondlast.shape)"
   ]
  },
  {
   "cell_type": "markdown",
   "metadata": {},
   "source": [
    "# Training"
   ]
  },
  {
   "cell_type": "markdown",
   "metadata": {},
   "source": [
    "t-SNE"
   ]
  },
  {
   "cell_type": "code",
   "execution_count": 40,
   "metadata": {},
   "outputs": [],
   "source": [
    "# get second-last layer outputs and corresponding labels\n",
    "def get_tsne_data(net, loader, epoch, save_dir='./TSNE_feature_label'):\n",
    "    net.eval()  # Set model to evaluation mode\n",
    "    features = []\n",
    "    labels_list = []\n",
    "\n",
    "    with torch.no_grad():\n",
    "        for inputs, labels in loader:\n",
    "            inputs = inputs.to(device) \n",
    "            labels = labels.to(device) #(N)\n",
    "\n",
    "            # Get the second-to-last layer output\n",
    "            second_last_output = net.get_second_last_layer_output(inputs) # (N, 256)\n",
    "\n",
    "            # Collect outputs and labels\n",
    "            features.append(second_last_output.cpu().numpy())\n",
    "            labels_list.append(labels.cpu().numpy())\n",
    "\n",
    "    # Stack collected data\n",
    "    features = np.vstack(features)\n",
    "    labels_list = np.hstack(labels_list)\n",
    "\n",
    "     # Save features and labels as .npy files\n",
    "    os.makedirs(save_dir, exist_ok=True)\n",
    "    feature_save_path = os.path.join(save_dir, f'features_epoch_{epoch}.npy')\n",
    "    labels_save_path = os.path.join(save_dir, f'labels_epoch_{epoch}.npy')\n",
    "\n",
    "    np.save(feature_save_path, features)\n",
    "    np.save(labels_save_path, labels_list)\n",
    "    \n",
    "    print(f\"Saved features and labels for epoch {epoch} to {save_dir}\")\n",
    "    return features, labels_list"
   ]
  },
  {
   "cell_type": "code",
   "execution_count": 41,
   "metadata": {},
   "outputs": [],
   "source": [
    "def plot_tsne(features, labels, epoch, save_dir='./TSNE_plots'):\n",
    "    tsne = TSNE(n_components=2, random_state=42)\n",
    "    tsne_result = tsne.fit_transform(features)\n",
    "\n",
    "    # Plot\n",
    "    plt.figure(figsize=(10, 8))\n",
    "    plt.scatter(tsne_result[:, 0], tsne_result[:, 1], c=labels, cmap='tab20', s=5)\n",
    "    plt.colorbar()\n",
    "    plt.title(f't-SNE Visualization - Epoch {epoch}')\n",
    "\n",
    "    # Save the plot as an image\n",
    "    save_path = os.path.join(save_dir, f'tsne_epoch_{epoch}.png')\n",
    "    plt.savefig(save_path)\n",
    "    print(f'Saved t-SNE plot for epoch {epoch} to {save_path}')\n",
    "\n",
    "    plt.close()  # Close the plot to avoid display in interactive environments"
   ]
  },
  {
   "cell_type": "markdown",
   "metadata": {},
   "source": [
    "Loss and Optimizer and epoch_n"
   ]
  },
  {
   "cell_type": "code",
   "execution_count": 42,
   "metadata": {},
   "outputs": [],
   "source": [
    "# Loss function with label smoothing\n",
    "class LabelSmoothingLoss(nn.Module):\n",
    "    def __init__(self, num_classes, smoothing=0.0):\n",
    "        super(LabelSmoothingLoss, self).__init__()\n",
    "        self.confidence = 1.0 - smoothing\n",
    "        self.smoothing = smoothing\n",
    "        self.num_classes = num_classes\n",
    "\n",
    "    def forward(self, pred, target):\n",
    "        # Convert target to one-hot format\n",
    "        with torch.no_grad():\n",
    "            true_dist = torch.zeros_like(pred)\n",
    "            true_dist.fill_(self.smoothing / (self.num_classes - 1))\n",
    "            true_dist.scatter_(1, target.data.unsqueeze(1), self.confidence)\n",
    "        \n",
    "        return torch.mean(torch.sum(-true_dist * torch.log_softmax(pred, dim=1), dim=1))"
   ]
  },
  {
   "cell_type": "code",
   "execution_count": 43,
   "metadata": {},
   "outputs": [],
   "source": [
    "#criterion = nn.CrossEntropyLoss()\n",
    "# Create Label Smoothing loss instance\n",
    "criterion = LabelSmoothingLoss(num_classes=65, smoothing=0.1)\n",
    "# Initialize optimizer\n",
    "optimizer = optim.Adam(net.parameters(), lr=0.001, weight_decay=1e-4)\n",
    "# Different base learning rate and update strategy #!!!!!!\n",
    "scheduler = ReduceLROnPlateau(optimizer, mode='max', factor=0.5, patience=5)  #if 5個epoch沒進步==> lr *= 0.5\n",
    "#scheduler = torch.optim.lr_scheduler.StepLR(optimizer, step_size=15, gamma=0.6, last_epoch=-1)\n",
    "# number of epoch\n",
    "num_epochs = 100"
   ]
  },
  {
   "cell_type": "markdown",
   "metadata": {},
   "source": [
    "training & validation loop"
   ]
  },
  {
   "cell_type": "code",
   "execution_count": 44,
   "metadata": {},
   "outputs": [
    {
     "name": "stderr",
     "output_type": "stream",
     "text": [
      "Epoch 1/100: 100%|███████████████████████████████████████████████████████████████████████████████████| 31/31 [00:57<00:00,  1.86s/batch]\n",
      "Validation: 100%|██████████████████████████████████████████████████████████████████████████████████████| 4/4 [00:05<00:00,  1.42s/batch]\n"
     ]
    },
    {
     "name": "stdout",
     "output_type": "stream",
     "text": [
      "Saved best model with val acc: 0.0345\n",
      "Epoch 1/100 - Train Loss: 4.2489 - Train acc: 0.0286 - Val Loss: 4.1262 - Val acc: 0.0345\n",
      "Learning rate: 0.001\n",
      "Saving t-SNE and features at epoch 1...\n",
      "Saved features and labels for epoch 1 to ./TSNE_feature_label\n",
      "Saved t-SNE plot for epoch 1 to ./TSNE_plots/tsne_epoch_1.png\n"
     ]
    },
    {
     "name": "stderr",
     "output_type": "stream",
     "text": [
      "Epoch 2/100: 100%|███████████████████████████████████████████████████████████████████████████████████| 31/31 [00:57<00:00,  1.84s/batch]\n",
      "Validation: 100%|██████████████████████████████████████████████████████████████████████████████████████| 4/4 [00:05<00:00,  1.40s/batch]\n"
     ]
    },
    {
     "name": "stdout",
     "output_type": "stream",
     "text": [
      "Saved best model with val acc: 0.0419\n",
      "Epoch 2/100 - Train Loss: 4.1375 - Train acc: 0.0448 - Val Loss: 4.0552 - Val acc: 0.0419\n",
      "Learning rate: 0.001\n"
     ]
    },
    {
     "name": "stderr",
     "output_type": "stream",
     "text": [
      "Epoch 3/100: 100%|███████████████████████████████████████████████████████████████████████████████████| 31/31 [00:57<00:00,  1.84s/batch]\n",
      "Validation: 100%|██████████████████████████████████████████████████████████████████████████████████████| 4/4 [00:05<00:00,  1.38s/batch]\n"
     ]
    },
    {
     "name": "stdout",
     "output_type": "stream",
     "text": [
      "Saved best model with val acc: 0.0468\n",
      "Epoch 3/100 - Train Loss: 4.0895 - Train acc: 0.0519 - Val Loss: 4.0504 - Val acc: 0.0468\n",
      "Learning rate: 0.001\n"
     ]
    },
    {
     "name": "stderr",
     "output_type": "stream",
     "text": [
      "Epoch 4/100: 100%|███████████████████████████████████████████████████████████████████████████████████| 31/31 [00:57<00:00,  1.86s/batch]\n",
      "Validation: 100%|██████████████████████████████████████████████████████████████████████████████████████| 4/4 [00:05<00:00,  1.39s/batch]\n"
     ]
    },
    {
     "name": "stdout",
     "output_type": "stream",
     "text": [
      "Epoch 4/100 - Train Loss: 4.0797 - Train acc: 0.0486 - Val Loss: 4.0358 - Val acc: 0.0419\n",
      "Learning rate: 0.001\n"
     ]
    },
    {
     "name": "stderr",
     "output_type": "stream",
     "text": [
      "Epoch 5/100: 100%|███████████████████████████████████████████████████████████████████████████████████| 31/31 [00:57<00:00,  1.85s/batch]\n",
      "Validation: 100%|██████████████████████████████████████████████████████████████████████████████████████| 4/4 [00:05<00:00,  1.39s/batch]\n"
     ]
    },
    {
     "name": "stdout",
     "output_type": "stream",
     "text": [
      "Saved best model with val acc: 0.0616\n",
      "Epoch 5/100 - Train Loss: 4.0408 - Train acc: 0.0569 - Val Loss: 3.9974 - Val acc: 0.0616\n",
      "Learning rate: 0.001\n"
     ]
    },
    {
     "name": "stderr",
     "output_type": "stream",
     "text": [
      "Epoch 6/100: 100%|███████████████████████████████████████████████████████████████████████████████████| 31/31 [00:56<00:00,  1.84s/batch]\n",
      "Validation: 100%|██████████████████████████████████████████████████████████████████████████████████████| 4/4 [00:05<00:00,  1.39s/batch]\n"
     ]
    },
    {
     "name": "stdout",
     "output_type": "stream",
     "text": [
      "Epoch 6/100 - Train Loss: 3.9971 - Train acc: 0.0661 - Val Loss: 3.9575 - Val acc: 0.0567\n",
      "Learning rate: 0.001\n"
     ]
    },
    {
     "name": "stderr",
     "output_type": "stream",
     "text": [
      "Epoch 7/100: 100%|███████████████████████████████████████████████████████████████████████████████████| 31/31 [00:56<00:00,  1.83s/batch]\n",
      "Validation: 100%|██████████████████████████████████████████████████████████████████████████████████████| 4/4 [00:05<00:00,  1.38s/batch]\n"
     ]
    },
    {
     "name": "stdout",
     "output_type": "stream",
     "text": [
      "Epoch 7/100 - Train Loss: 3.9646 - Train acc: 0.0709 - Val Loss: 3.9748 - Val acc: 0.0493\n",
      "Learning rate: 0.001\n"
     ]
    },
    {
     "name": "stderr",
     "output_type": "stream",
     "text": [
      "Epoch 8/100: 100%|███████████████████████████████████████████████████████████████████████████████████| 31/31 [00:57<00:00,  1.86s/batch]\n",
      "Validation: 100%|██████████████████████████████████████████████████████████████████████████████████████| 4/4 [00:05<00:00,  1.39s/batch]\n"
     ]
    },
    {
     "name": "stdout",
     "output_type": "stream",
     "text": [
      "Saved best model with val acc: 0.0665\n",
      "Epoch 8/100 - Train Loss: 3.9469 - Train acc: 0.0656 - Val Loss: 3.8908 - Val acc: 0.0665\n",
      "Learning rate: 0.001\n"
     ]
    },
    {
     "name": "stderr",
     "output_type": "stream",
     "text": [
      "Epoch 9/100: 100%|███████████████████████████████████████████████████████████████████████████████████| 31/31 [00:56<00:00,  1.84s/batch]\n",
      "Validation: 100%|██████████████████████████████████████████████████████████████████████████████████████| 4/4 [00:05<00:00,  1.38s/batch]\n"
     ]
    },
    {
     "name": "stdout",
     "output_type": "stream",
     "text": [
      "Saved best model with val acc: 0.0887\n",
      "Epoch 9/100 - Train Loss: 3.9170 - Train acc: 0.0757 - Val Loss: 3.8236 - Val acc: 0.0887\n",
      "Learning rate: 0.001\n"
     ]
    },
    {
     "name": "stderr",
     "output_type": "stream",
     "text": [
      "Epoch 10/100: 100%|██████████████████████████████████████████████████████████████████████████████████| 31/31 [00:57<00:00,  1.84s/batch]\n",
      "Validation: 100%|██████████████████████████████████████████████████████████████████████████████████████| 4/4 [00:05<00:00,  1.38s/batch]\n"
     ]
    },
    {
     "name": "stdout",
     "output_type": "stream",
     "text": [
      "Epoch 10/100 - Train Loss: 3.9054 - Train acc: 0.0795 - Val Loss: 3.8576 - Val acc: 0.0739\n",
      "Learning rate: 0.001\n"
     ]
    },
    {
     "name": "stderr",
     "output_type": "stream",
     "text": [
      "Epoch 11/100: 100%|██████████████████████████████████████████████████████████████████████████████████| 31/31 [00:56<00:00,  1.84s/batch]\n",
      "Validation: 100%|██████████████████████████████████████████████████████████████████████████████████████| 4/4 [00:05<00:00,  1.38s/batch]\n"
     ]
    },
    {
     "name": "stdout",
     "output_type": "stream",
     "text": [
      "Epoch 11/100 - Train Loss: 3.8751 - Train acc: 0.0843 - Val Loss: 3.8542 - Val acc: 0.0591\n",
      "Learning rate: 0.001\n"
     ]
    },
    {
     "name": "stderr",
     "output_type": "stream",
     "text": [
      "Epoch 12/100: 100%|██████████████████████████████████████████████████████████████████████████████████| 31/31 [00:57<00:00,  1.85s/batch]\n",
      "Validation: 100%|██████████████████████████████████████████████████████████████████████████████████████| 4/4 [00:05<00:00,  1.38s/batch]\n"
     ]
    },
    {
     "name": "stdout",
     "output_type": "stream",
     "text": [
      "Saved best model with val acc: 0.0985\n",
      "Epoch 12/100 - Train Loss: 3.8636 - Train acc: 0.0926 - Val Loss: 3.7317 - Val acc: 0.0985\n",
      "Learning rate: 0.001\n"
     ]
    },
    {
     "name": "stderr",
     "output_type": "stream",
     "text": [
      "Epoch 13/100: 100%|██████████████████████████████████████████████████████████████████████████████████| 31/31 [00:57<00:00,  1.86s/batch]\n",
      "Validation: 100%|██████████████████████████████████████████████████████████████████████████████████████| 4/4 [00:05<00:00,  1.38s/batch]\n"
     ]
    },
    {
     "name": "stdout",
     "output_type": "stream",
     "text": [
      "Saved best model with val acc: 0.1084\n",
      "Epoch 13/100 - Train Loss: 3.8259 - Train acc: 0.0987 - Val Loss: 3.6989 - Val acc: 0.1084\n",
      "Learning rate: 0.001\n"
     ]
    },
    {
     "name": "stderr",
     "output_type": "stream",
     "text": [
      "Epoch 14/100: 100%|██████████████████████████████████████████████████████████████████████████████████| 31/31 [00:56<00:00,  1.83s/batch]\n",
      "Validation: 100%|██████████████████████████████████████████████████████████████████████████████████████| 4/4 [00:05<00:00,  1.38s/batch]\n"
     ]
    },
    {
     "name": "stdout",
     "output_type": "stream",
     "text": [
      "Epoch 14/100 - Train Loss: 3.8059 - Train acc: 0.1104 - Val Loss: 3.7645 - Val acc: 0.1034\n",
      "Learning rate: 0.001\n"
     ]
    },
    {
     "name": "stderr",
     "output_type": "stream",
     "text": [
      "Epoch 15/100: 100%|██████████████████████████████████████████████████████████████████████████████████| 31/31 [00:57<00:00,  1.85s/batch]\n",
      "Validation: 100%|██████████████████████████████████████████████████████████████████████████████████████| 4/4 [00:05<00:00,  1.39s/batch]\n"
     ]
    },
    {
     "name": "stdout",
     "output_type": "stream",
     "text": [
      "Epoch 15/100 - Train Loss: 3.7986 - Train acc: 0.1053 - Val Loss: 3.7806 - Val acc: 0.0936\n",
      "Learning rate: 0.001\n"
     ]
    },
    {
     "name": "stderr",
     "output_type": "stream",
     "text": [
      "Epoch 16/100: 100%|██████████████████████████████████████████████████████████████████████████████████| 31/31 [00:56<00:00,  1.83s/batch]\n",
      "Validation: 100%|██████████████████████████████████████████████████████████████████████████████████████| 4/4 [00:05<00:00,  1.39s/batch]\n"
     ]
    },
    {
     "name": "stdout",
     "output_type": "stream",
     "text": [
      "Epoch 16/100 - Train Loss: 3.7748 - Train acc: 0.1025 - Val Loss: 3.6159 - Val acc: 0.1059\n",
      "Learning rate: 0.001\n"
     ]
    },
    {
     "name": "stderr",
     "output_type": "stream",
     "text": [
      "Epoch 17/100: 100%|██████████████████████████████████████████████████████████████████████████████████| 31/31 [00:56<00:00,  1.84s/batch]\n",
      "Validation: 100%|██████████████████████████████████████████████████████████████████████████████████████| 4/4 [00:05<00:00,  1.39s/batch]\n"
     ]
    },
    {
     "name": "stdout",
     "output_type": "stream",
     "text": [
      "Saved best model with val acc: 0.1330\n",
      "Epoch 17/100 - Train Loss: 3.7358 - Train acc: 0.1174 - Val Loss: 3.6301 - Val acc: 0.1330\n",
      "Learning rate: 0.001\n"
     ]
    },
    {
     "name": "stderr",
     "output_type": "stream",
     "text": [
      "Epoch 18/100: 100%|██████████████████████████████████████████████████████████████████████████████████| 31/31 [00:56<00:00,  1.84s/batch]\n",
      "Validation: 100%|██████████████████████████████████████████████████████████████████████████████████████| 4/4 [00:05<00:00,  1.40s/batch]\n"
     ]
    },
    {
     "name": "stdout",
     "output_type": "stream",
     "text": [
      "Epoch 18/100 - Train Loss: 3.7152 - Train acc: 0.1233 - Val Loss: 3.6737 - Val acc: 0.1158\n",
      "Learning rate: 0.001\n"
     ]
    },
    {
     "name": "stderr",
     "output_type": "stream",
     "text": [
      "Epoch 19/100: 100%|██████████████████████████████████████████████████████████████████████████████████| 31/31 [00:56<00:00,  1.84s/batch]\n",
      "Validation: 100%|██████████████████████████████████████████████████████████████████████████████████████| 4/4 [00:05<00:00,  1.39s/batch]\n"
     ]
    },
    {
     "name": "stdout",
     "output_type": "stream",
     "text": [
      "Epoch 19/100 - Train Loss: 3.7044 - Train acc: 0.1222 - Val Loss: 3.5721 - Val acc: 0.1207\n",
      "Learning rate: 0.001\n"
     ]
    },
    {
     "name": "stderr",
     "output_type": "stream",
     "text": [
      "Epoch 20/100: 100%|██████████████████████████████████████████████████████████████████████████████████| 31/31 [00:57<00:00,  1.85s/batch]\n",
      "Validation: 100%|██████████████████████████████████████████████████████████████████████████████████████| 4/4 [00:05<00:00,  1.38s/batch]\n"
     ]
    },
    {
     "name": "stdout",
     "output_type": "stream",
     "text": [
      "Epoch 20/100 - Train Loss: 3.6779 - Train acc: 0.1220 - Val Loss: 3.7402 - Val acc: 0.1108\n",
      "Learning rate: 0.001\n"
     ]
    },
    {
     "name": "stderr",
     "output_type": "stream",
     "text": [
      "Epoch 21/100: 100%|██████████████████████████████████████████████████████████████████████████████████| 31/31 [00:57<00:00,  1.84s/batch]\n",
      "Validation: 100%|██████████████████████████████████████████████████████████████████████████████████████| 4/4 [00:05<00:00,  1.39s/batch]\n"
     ]
    },
    {
     "name": "stdout",
     "output_type": "stream",
     "text": [
      "Saved best model with val acc: 0.1404\n",
      "Epoch 21/100 - Train Loss: 3.6379 - Train acc: 0.1319 - Val Loss: 3.5320 - Val acc: 0.1404\n",
      "Learning rate: 0.001\n"
     ]
    },
    {
     "name": "stderr",
     "output_type": "stream",
     "text": [
      "Epoch 22/100: 100%|██████████████████████████████████████████████████████████████████████████████████| 31/31 [00:56<00:00,  1.83s/batch]\n",
      "Validation: 100%|██████████████████████████████████████████████████████████████████████████████████████| 4/4 [00:05<00:00,  1.40s/batch]\n"
     ]
    },
    {
     "name": "stdout",
     "output_type": "stream",
     "text": [
      "Epoch 22/100 - Train Loss: 3.6264 - Train acc: 0.1443 - Val Loss: 3.7433 - Val acc: 0.1281\n",
      "Learning rate: 0.001\n"
     ]
    },
    {
     "name": "stderr",
     "output_type": "stream",
     "text": [
      "Epoch 23/100: 100%|██████████████████████████████████████████████████████████████████████████████████| 31/31 [00:57<00:00,  1.85s/batch]\n",
      "Validation: 100%|██████████████████████████████████████████████████████████████████████████████████████| 4/4 [00:05<00:00,  1.39s/batch]\n"
     ]
    },
    {
     "name": "stdout",
     "output_type": "stream",
     "text": [
      "Saved best model with val acc: 0.1675\n",
      "Epoch 23/100 - Train Loss: 3.5973 - Train acc: 0.1438 - Val Loss: 3.4808 - Val acc: 0.1675\n",
      "Learning rate: 0.001\n"
     ]
    },
    {
     "name": "stderr",
     "output_type": "stream",
     "text": [
      "Epoch 24/100: 100%|██████████████████████████████████████████████████████████████████████████████████| 31/31 [00:57<00:00,  1.84s/batch]\n",
      "Validation: 100%|██████████████████████████████████████████████████████████████████████████████████████| 4/4 [00:05<00:00,  1.39s/batch]\n"
     ]
    },
    {
     "name": "stdout",
     "output_type": "stream",
     "text": [
      "Epoch 24/100 - Train Loss: 3.5743 - Train acc: 0.1569 - Val Loss: 3.6457 - Val acc: 0.1084\n",
      "Learning rate: 0.001\n"
     ]
    },
    {
     "name": "stderr",
     "output_type": "stream",
     "text": [
      "Epoch 25/100: 100%|██████████████████████████████████████████████████████████████████████████████████| 31/31 [00:57<00:00,  1.85s/batch]\n",
      "Validation: 100%|██████████████████████████████████████████████████████████████████████████████████████| 4/4 [00:05<00:00,  1.41s/batch]\n"
     ]
    },
    {
     "name": "stdout",
     "output_type": "stream",
     "text": [
      "Saved best model with val acc: 0.1749\n",
      "Epoch 25/100 - Train Loss: 3.5285 - Train acc: 0.1648 - Val Loss: 3.5356 - Val acc: 0.1749\n",
      "Learning rate: 0.001\n"
     ]
    },
    {
     "name": "stderr",
     "output_type": "stream",
     "text": [
      "Epoch 26/100: 100%|██████████████████████████████████████████████████████████████████████████████████| 31/31 [00:57<00:00,  1.86s/batch]\n",
      "Validation: 100%|██████████████████████████████████████████████████████████████████████████████████████| 4/4 [00:05<00:00,  1.38s/batch]\n"
     ]
    },
    {
     "name": "stdout",
     "output_type": "stream",
     "text": [
      "Epoch 26/100 - Train Loss: 3.5161 - Train acc: 0.1607 - Val Loss: 3.7364 - Val acc: 0.1355\n",
      "Learning rate: 0.001\n"
     ]
    },
    {
     "name": "stderr",
     "output_type": "stream",
     "text": [
      "Epoch 27/100: 100%|██████████████████████████████████████████████████████████████████████████████████| 31/31 [00:57<00:00,  1.86s/batch]\n",
      "Validation: 100%|██████████████████████████████████████████████████████████████████████████████████████| 4/4 [00:05<00:00,  1.39s/batch]\n"
     ]
    },
    {
     "name": "stdout",
     "output_type": "stream",
     "text": [
      "Epoch 27/100 - Train Loss: 3.4914 - Train acc: 0.1663 - Val Loss: 3.4047 - Val acc: 0.1552\n",
      "Learning rate: 0.001\n"
     ]
    },
    {
     "name": "stderr",
     "output_type": "stream",
     "text": [
      "Epoch 28/100: 100%|██████████████████████████████████████████████████████████████████████████████████| 31/31 [00:57<00:00,  1.84s/batch]\n",
      "Validation: 100%|██████████████████████████████████████████████████████████████████████████████████████| 4/4 [00:05<00:00,  1.38s/batch]\n"
     ]
    },
    {
     "name": "stdout",
     "output_type": "stream",
     "text": [
      "Saved best model with val acc: 0.1823\n",
      "Epoch 28/100 - Train Loss: 3.4707 - Train acc: 0.1749 - Val Loss: 3.4162 - Val acc: 0.1823\n",
      "Learning rate: 0.001\n"
     ]
    },
    {
     "name": "stderr",
     "output_type": "stream",
     "text": [
      "Epoch 29/100: 100%|██████████████████████████████████████████████████████████████████████████████████| 31/31 [00:57<00:00,  1.86s/batch]\n",
      "Validation: 100%|██████████████████████████████████████████████████████████████████████████████████████| 4/4 [00:05<00:00,  1.38s/batch]\n"
     ]
    },
    {
     "name": "stdout",
     "output_type": "stream",
     "text": [
      "Saved best model with val acc: 0.2143\n",
      "Epoch 29/100 - Train Loss: 3.4577 - Train acc: 0.1653 - Val Loss: 3.3919 - Val acc: 0.2143\n",
      "Learning rate: 0.001\n"
     ]
    },
    {
     "name": "stderr",
     "output_type": "stream",
     "text": [
      "Epoch 30/100: 100%|██████████████████████████████████████████████████████████████████████████████████| 31/31 [00:57<00:00,  1.86s/batch]\n",
      "Validation: 100%|██████████████████████████████████████████████████████████████████████████████████████| 4/4 [00:05<00:00,  1.41s/batch]\n"
     ]
    },
    {
     "name": "stdout",
     "output_type": "stream",
     "text": [
      "Epoch 30/100 - Train Loss: 3.4514 - Train acc: 0.1800 - Val Loss: 3.3304 - Val acc: 0.2020\n",
      "Learning rate: 0.001\n"
     ]
    },
    {
     "name": "stderr",
     "output_type": "stream",
     "text": [
      "Epoch 31/100: 100%|██████████████████████████████████████████████████████████████████████████████████| 31/31 [00:59<00:00,  1.92s/batch]\n",
      "Validation: 100%|██████████████████████████████████████████████████████████████████████████████████████| 4/4 [00:05<00:00,  1.46s/batch]\n"
     ]
    },
    {
     "name": "stdout",
     "output_type": "stream",
     "text": [
      "Epoch 31/100 - Train Loss: 3.4031 - Train acc: 0.1878 - Val Loss: 3.2569 - Val acc: 0.1946\n",
      "Learning rate: 0.001\n"
     ]
    },
    {
     "name": "stderr",
     "output_type": "stream",
     "text": [
      "Epoch 32/100: 100%|██████████████████████████████████████████████████████████████████████████████████| 31/31 [00:59<00:00,  1.91s/batch]\n",
      "Validation: 100%|██████████████████████████████████████████████████████████████████████████████████████| 4/4 [00:05<00:00,  1.43s/batch]\n"
     ]
    },
    {
     "name": "stdout",
     "output_type": "stream",
     "text": [
      "Epoch 32/100 - Train Loss: 3.3755 - Train acc: 0.1931 - Val Loss: 3.2093 - Val acc: 0.2044\n",
      "Learning rate: 0.001\n"
     ]
    },
    {
     "name": "stderr",
     "output_type": "stream",
     "text": [
      "Epoch 33/100: 100%|██████████████████████████████████████████████████████████████████████████████████| 31/31 [00:58<00:00,  1.89s/batch]\n",
      "Validation: 100%|██████████████████████████████████████████████████████████████████████████████████████| 4/4 [00:05<00:00,  1.40s/batch]\n"
     ]
    },
    {
     "name": "stdout",
     "output_type": "stream",
     "text": [
      "Epoch 33/100 - Train Loss: 3.3445 - Train acc: 0.2022 - Val Loss: 3.4899 - Val acc: 0.1970\n",
      "Learning rate: 0.001\n"
     ]
    },
    {
     "name": "stderr",
     "output_type": "stream",
     "text": [
      "Epoch 34/100: 100%|██████████████████████████████████████████████████████████████████████████████████| 31/31 [00:58<00:00,  1.88s/batch]\n",
      "Validation: 100%|██████████████████████████████████████████████████████████████████████████████████████| 4/4 [00:05<00:00,  1.41s/batch]\n"
     ]
    },
    {
     "name": "stdout",
     "output_type": "stream",
     "text": [
      "Epoch 34/100 - Train Loss: 3.3322 - Train acc: 0.2149 - Val Loss: 3.3650 - Val acc: 0.1897\n",
      "Learning rate: 0.001\n"
     ]
    },
    {
     "name": "stderr",
     "output_type": "stream",
     "text": [
      "Epoch 35/100: 100%|██████████████████████████████████████████████████████████████████████████████████| 31/31 [00:58<00:00,  1.88s/batch]\n",
      "Validation: 100%|██████████████████████████████████████████████████████████████████████████████████████| 4/4 [00:05<00:00,  1.41s/batch]\n"
     ]
    },
    {
     "name": "stdout",
     "output_type": "stream",
     "text": [
      "Saved best model with val acc: 0.2562\n",
      "Epoch 35/100 - Train Loss: 3.3074 - Train acc: 0.2118 - Val Loss: 3.2059 - Val acc: 0.2562\n",
      "Learning rate: 0.001\n"
     ]
    },
    {
     "name": "stderr",
     "output_type": "stream",
     "text": [
      "Epoch 36/100: 100%|██████████████████████████████████████████████████████████████████████████████████| 31/31 [00:57<00:00,  1.85s/batch]\n",
      "Validation: 100%|██████████████████████████████████████████████████████████████████████████████████████| 4/4 [00:05<00:00,  1.39s/batch]\n"
     ]
    },
    {
     "name": "stdout",
     "output_type": "stream",
     "text": [
      "Epoch 36/100 - Train Loss: 3.2970 - Train acc: 0.2174 - Val Loss: 3.1543 - Val acc: 0.2241\n",
      "Learning rate: 0.001\n"
     ]
    },
    {
     "name": "stderr",
     "output_type": "stream",
     "text": [
      "Epoch 37/100: 100%|██████████████████████████████████████████████████████████████████████████████████| 31/31 [00:57<00:00,  1.86s/batch]\n",
      "Validation: 100%|██████████████████████████████████████████████████████████████████████████████████████| 4/4 [00:05<00:00,  1.42s/batch]\n"
     ]
    },
    {
     "name": "stdout",
     "output_type": "stream",
     "text": [
      "Saved best model with val acc: 0.2882\n",
      "Epoch 37/100 - Train Loss: 3.2602 - Train acc: 0.2301 - Val Loss: 3.1080 - Val acc: 0.2882\n",
      "Learning rate: 0.001\n"
     ]
    },
    {
     "name": "stderr",
     "output_type": "stream",
     "text": [
      "Epoch 38/100: 100%|██████████████████████████████████████████████████████████████████████████████████| 31/31 [00:58<00:00,  1.87s/batch]\n",
      "Validation: 100%|██████████████████████████████████████████████████████████████████████████████████████| 4/4 [00:05<00:00,  1.40s/batch]\n"
     ]
    },
    {
     "name": "stdout",
     "output_type": "stream",
     "text": [
      "Epoch 38/100 - Train Loss: 3.2262 - Train acc: 0.2298 - Val Loss: 3.2519 - Val acc: 0.2340\n",
      "Learning rate: 0.001\n"
     ]
    },
    {
     "name": "stderr",
     "output_type": "stream",
     "text": [
      "Epoch 39/100: 100%|██████████████████████████████████████████████████████████████████████████████████| 31/31 [00:58<00:00,  1.89s/batch]\n",
      "Validation: 100%|██████████████████████████████████████████████████████████████████████████████████████| 4/4 [00:05<00:00,  1.39s/batch]\n"
     ]
    },
    {
     "name": "stdout",
     "output_type": "stream",
     "text": [
      "Epoch 39/100 - Train Loss: 3.2332 - Train acc: 0.2285 - Val Loss: 3.2451 - Val acc: 0.2488\n",
      "Learning rate: 0.001\n"
     ]
    },
    {
     "name": "stderr",
     "output_type": "stream",
     "text": [
      "Epoch 40/100: 100%|██████████████████████████████████████████████████████████████████████████████████| 31/31 [00:57<00:00,  1.84s/batch]\n",
      "Validation: 100%|██████████████████████████████████████████████████████████████████████████████████████| 4/4 [00:05<00:00,  1.38s/batch]\n"
     ]
    },
    {
     "name": "stdout",
     "output_type": "stream",
     "text": [
      "Epoch 40/100 - Train Loss: 3.1650 - Train acc: 0.2478 - Val Loss: 3.1793 - Val acc: 0.2537\n",
      "Learning rate: 0.001\n"
     ]
    },
    {
     "name": "stderr",
     "output_type": "stream",
     "text": [
      "Epoch 41/100: 100%|██████████████████████████████████████████████████████████████████████████████████| 31/31 [00:57<00:00,  1.84s/batch]\n",
      "Validation: 100%|██████████████████████████████████████████████████████████████████████████████████████| 4/4 [00:05<00:00,  1.38s/batch]\n"
     ]
    },
    {
     "name": "stdout",
     "output_type": "stream",
     "text": [
      "Epoch 41/100 - Train Loss: 3.1823 - Train acc: 0.2440 - Val Loss: 3.1543 - Val acc: 0.2808\n",
      "Learning rate: 0.001\n"
     ]
    },
    {
     "name": "stderr",
     "output_type": "stream",
     "text": [
      "Epoch 42/100: 100%|██████████████████████████████████████████████████████████████████████████████████| 31/31 [00:57<00:00,  1.85s/batch]\n",
      "Validation: 100%|██████████████████████████████████████████████████████████████████████████████████████| 4/4 [00:05<00:00,  1.39s/batch]\n"
     ]
    },
    {
     "name": "stdout",
     "output_type": "stream",
     "text": [
      "Epoch 42/100 - Train Loss: 3.1432 - Train acc: 0.2554 - Val Loss: 3.1382 - Val acc: 0.2709\n",
      "Learning rate: 0.001\n"
     ]
    },
    {
     "name": "stderr",
     "output_type": "stream",
     "text": [
      "Epoch 43/100: 100%|██████████████████████████████████████████████████████████████████████████████████| 31/31 [00:57<00:00,  1.84s/batch]\n",
      "Validation: 100%|██████████████████████████████████████████████████████████████████████████████████████| 4/4 [00:05<00:00,  1.38s/batch]\n"
     ]
    },
    {
     "name": "stdout",
     "output_type": "stream",
     "text": [
      "Epoch 43/100 - Train Loss: 3.1130 - Train acc: 0.2632 - Val Loss: 3.0640 - Val acc: 0.2808\n",
      "Learning rate: 0.0005\n"
     ]
    },
    {
     "name": "stderr",
     "output_type": "stream",
     "text": [
      "Epoch 44/100: 100%|██████████████████████████████████████████████████████████████████████████████████| 31/31 [00:57<00:00,  1.85s/batch]\n",
      "Validation: 100%|██████████████████████████████████████████████████████████████████████████████████████| 4/4 [00:05<00:00,  1.39s/batch]\n"
     ]
    },
    {
     "name": "stdout",
     "output_type": "stream",
     "text": [
      "Saved best model with val acc: 0.3473\n",
      "Epoch 44/100 - Train Loss: 3.0383 - Train acc: 0.2845 - Val Loss: 2.9919 - Val acc: 0.3473\n",
      "Learning rate: 0.0005\n"
     ]
    },
    {
     "name": "stderr",
     "output_type": "stream",
     "text": [
      "Epoch 45/100: 100%|██████████████████████████████████████████████████████████████████████████████████| 31/31 [00:57<00:00,  1.84s/batch]\n",
      "Validation: 100%|██████████████████████████████████████████████████████████████████████████████████████| 4/4 [00:05<00:00,  1.39s/batch]\n"
     ]
    },
    {
     "name": "stdout",
     "output_type": "stream",
     "text": [
      "Epoch 45/100 - Train Loss: 2.9838 - Train acc: 0.3080 - Val Loss: 3.0080 - Val acc: 0.3054\n",
      "Learning rate: 0.0005\n"
     ]
    },
    {
     "name": "stderr",
     "output_type": "stream",
     "text": [
      "Epoch 46/100: 100%|██████████████████████████████████████████████████████████████████████████████████| 31/31 [00:56<00:00,  1.84s/batch]\n",
      "Validation: 100%|██████████████████████████████████████████████████████████████████████████████████████| 4/4 [00:05<00:00,  1.39s/batch]\n"
     ]
    },
    {
     "name": "stdout",
     "output_type": "stream",
     "text": [
      "Epoch 46/100 - Train Loss: 2.9644 - Train acc: 0.3009 - Val Loss: 2.9180 - Val acc: 0.3276\n",
      "Learning rate: 0.0005\n"
     ]
    },
    {
     "name": "stderr",
     "output_type": "stream",
     "text": [
      "Epoch 47/100: 100%|██████████████████████████████████████████████████████████████████████████████████| 31/31 [00:57<00:00,  1.85s/batch]\n",
      "Validation: 100%|██████████████████████████████████████████████████████████████████████████████████████| 4/4 [00:05<00:00,  1.39s/batch]\n"
     ]
    },
    {
     "name": "stdout",
     "output_type": "stream",
     "text": [
      "Epoch 47/100 - Train Loss: 2.9502 - Train acc: 0.3085 - Val Loss: 2.9384 - Val acc: 0.3227\n",
      "Learning rate: 0.0005\n"
     ]
    },
    {
     "name": "stderr",
     "output_type": "stream",
     "text": [
      "Epoch 48/100: 100%|██████████████████████████████████████████████████████████████████████████████████| 31/31 [00:57<00:00,  1.84s/batch]\n",
      "Validation: 100%|██████████████████████████████████████████████████████████████████████████████████████| 4/4 [00:05<00:00,  1.40s/batch]\n"
     ]
    },
    {
     "name": "stdout",
     "output_type": "stream",
     "text": [
      "Epoch 48/100 - Train Loss: 2.9322 - Train acc: 0.3194 - Val Loss: 2.9100 - Val acc: 0.3251\n",
      "Learning rate: 0.0005\n"
     ]
    },
    {
     "name": "stderr",
     "output_type": "stream",
     "text": [
      "Epoch 49/100: 100%|██████████████████████████████████████████████████████████████████████████████████| 31/31 [00:56<00:00,  1.84s/batch]\n",
      "Validation: 100%|██████████████████████████████████████████████████████████████████████████████████████| 4/4 [00:05<00:00,  1.39s/batch]\n"
     ]
    },
    {
     "name": "stdout",
     "output_type": "stream",
     "text": [
      "Epoch 49/100 - Train Loss: 2.9236 - Train acc: 0.3093 - Val Loss: 2.9312 - Val acc: 0.3005\n",
      "Learning rate: 0.0005\n"
     ]
    },
    {
     "name": "stderr",
     "output_type": "stream",
     "text": [
      "Epoch 50/100: 100%|██████████████████████████████████████████████████████████████████████████████████| 31/31 [00:57<00:00,  1.86s/batch]\n",
      "Validation: 100%|██████████████████████████████████████████████████████████████████████████████████████| 4/4 [00:05<00:00,  1.39s/batch]\n"
     ]
    },
    {
     "name": "stdout",
     "output_type": "stream",
     "text": [
      "Epoch 50/100 - Train Loss: 2.8916 - Train acc: 0.3278 - Val Loss: 2.9053 - Val acc: 0.3227\n",
      "Learning rate: 0.00025\n"
     ]
    },
    {
     "name": "stderr",
     "output_type": "stream",
     "text": [
      "Epoch 51/100: 100%|██████████████████████████████████████████████████████████████████████████████████| 31/31 [00:58<00:00,  1.89s/batch]\n",
      "Validation: 100%|██████████████████████████████████████████████████████████████████████████████████████| 4/4 [00:05<00:00,  1.42s/batch]\n"
     ]
    },
    {
     "name": "stdout",
     "output_type": "stream",
     "text": [
      "Epoch 51/100 - Train Loss: 2.8585 - Train acc: 0.3343 - Val Loss: 2.8247 - Val acc: 0.3325\n",
      "Learning rate: 0.00025\n"
     ]
    },
    {
     "name": "stderr",
     "output_type": "stream",
     "text": [
      "Epoch 52/100: 100%|██████████████████████████████████████████████████████████████████████████████████| 31/31 [00:59<00:00,  1.91s/batch]\n",
      "Validation: 100%|██████████████████████████████████████████████████████████████████████████████████████| 4/4 [00:05<00:00,  1.39s/batch]\n"
     ]
    },
    {
     "name": "stdout",
     "output_type": "stream",
     "text": [
      "Epoch 52/100 - Train Loss: 2.8018 - Train acc: 0.3528 - Val Loss: 2.8520 - Val acc: 0.3399\n",
      "Learning rate: 0.00025\n"
     ]
    },
    {
     "name": "stderr",
     "output_type": "stream",
     "text": [
      "Epoch 53/100: 100%|██████████████████████████████████████████████████████████████████████████████████| 31/31 [01:00<00:00,  1.97s/batch]\n",
      "Validation: 100%|██████████████████████████████████████████████████████████████████████████████████████| 4/4 [00:05<00:00,  1.38s/batch]\n"
     ]
    },
    {
     "name": "stdout",
     "output_type": "stream",
     "text": [
      "Saved best model with val acc: 0.3596\n",
      "Epoch 53/100 - Train Loss: 2.7816 - Train acc: 0.3543 - Val Loss: 2.8512 - Val acc: 0.3596\n",
      "Learning rate: 0.00025\n"
     ]
    },
    {
     "name": "stderr",
     "output_type": "stream",
     "text": [
      "Epoch 54/100: 100%|██████████████████████████████████████████████████████████████████████████████████| 31/31 [00:57<00:00,  1.85s/batch]\n",
      "Validation: 100%|██████████████████████████████████████████████████████████████████████████████████████| 4/4 [00:05<00:00,  1.40s/batch]\n"
     ]
    },
    {
     "name": "stdout",
     "output_type": "stream",
     "text": [
      "Saved best model with val acc: 0.3645\n",
      "Epoch 54/100 - Train Loss: 2.7786 - Train acc: 0.3635 - Val Loss: 2.7814 - Val acc: 0.3645\n",
      "Learning rate: 0.00025\n"
     ]
    },
    {
     "name": "stderr",
     "output_type": "stream",
     "text": [
      "Epoch 55/100: 100%|██████████████████████████████████████████████████████████████████████████████████| 31/31 [00:57<00:00,  1.86s/batch]\n",
      "Validation: 100%|███████████████████████████████████████████████████████████████████████████████████████████████| 4/4 [00:05<00:00,  1.41s/batch]\n"
     ]
    },
    {
     "name": "stdout",
     "output_type": "stream",
     "text": [
      "Epoch 55/100 - Train Loss: 2.7520 - Train acc: 0.3632 - Val Loss: 2.8045 - Val acc: 0.3645\n",
      "Learning rate: 0.00025\n"
     ]
    },
    {
     "name": "stderr",
     "output_type": "stream",
     "text": [
      "Epoch 56/100: 100%|███████████████████████████████████████████████████████████████████████████████████████████| 31/31 [00:58<00:00,  1.90s/batch]\n",
      "Validation: 100%|███████████████████████████████████████████████████████████████████████████████████████████████| 4/4 [00:05<00:00,  1.39s/batch]\n"
     ]
    },
    {
     "name": "stdout",
     "output_type": "stream",
     "text": [
      "Saved best model with val acc: 0.3719\n",
      "Epoch 56/100 - Train Loss: 2.7253 - Train acc: 0.3802 - Val Loss: 2.8189 - Val acc: 0.3719\n",
      "Learning rate: 0.00025\n"
     ]
    },
    {
     "name": "stderr",
     "output_type": "stream",
     "text": [
      "Epoch 57/100: 100%|███████████████████████████████████████████████████████████████████████████████████████████| 31/31 [00:57<00:00,  1.85s/batch]\n",
      "Validation: 100%|███████████████████████████████████████████████████████████████████████████████████████████████| 4/4 [00:05<00:00,  1.46s/batch]\n"
     ]
    },
    {
     "name": "stdout",
     "output_type": "stream",
     "text": [
      "Epoch 57/100 - Train Loss: 2.7266 - Train acc: 0.3731 - Val Loss: 2.7782 - Val acc: 0.3473\n",
      "Learning rate: 0.00025\n"
     ]
    },
    {
     "name": "stderr",
     "output_type": "stream",
     "text": [
      "Epoch 58/100: 100%|███████████████████████████████████████████████████████████████████████████████████████████| 31/31 [00:58<00:00,  1.89s/batch]\n",
      "Validation: 100%|███████████████████████████████████████████████████████████████████████████████████████████████| 4/4 [00:05<00:00,  1.45s/batch]\n"
     ]
    },
    {
     "name": "stdout",
     "output_type": "stream",
     "text": [
      "Epoch 58/100 - Train Loss: 2.7104 - Train acc: 0.3842 - Val Loss: 2.7675 - Val acc: 0.3596\n",
      "Learning rate: 0.00025\n"
     ]
    },
    {
     "name": "stderr",
     "output_type": "stream",
     "text": [
      "Epoch 59/100: 100%|███████████████████████████████████████████████████████████████████████████████████████████| 31/31 [01:00<00:00,  1.94s/batch]\n",
      "Validation: 100%|███████████████████████████████████████████████████████████████████████████████████████████████| 4/4 [00:05<00:00,  1.44s/batch]\n"
     ]
    },
    {
     "name": "stdout",
     "output_type": "stream",
     "text": [
      "Epoch 59/100 - Train Loss: 2.6656 - Train acc: 0.3915 - Val Loss: 2.7484 - Val acc: 0.3596\n",
      "Learning rate: 0.00025\n"
     ]
    },
    {
     "name": "stderr",
     "output_type": "stream",
     "text": [
      "Epoch 60/100: 100%|███████████████████████████████████████████████████████████████████████████████████████████| 31/31 [01:00<00:00,  1.94s/batch]\n",
      "Validation: 100%|███████████████████████████████████████████████████████████████████████████████████████████████| 4/4 [00:05<00:00,  1.44s/batch]\n"
     ]
    },
    {
     "name": "stdout",
     "output_type": "stream",
     "text": [
      "Epoch 60/100 - Train Loss: 2.6643 - Train acc: 0.3964 - Val Loss: 2.8028 - Val acc: 0.3719\n",
      "Learning rate: 0.00025\n"
     ]
    },
    {
     "name": "stderr",
     "output_type": "stream",
     "text": [
      "Epoch 61/100: 100%|███████████████████████████████████████████████████████████████████████████████████████████| 31/31 [00:59<00:00,  1.92s/batch]\n",
      "Validation: 100%|███████████████████████████████████████████████████████████████████████████████████████████████| 4/4 [00:05<00:00,  1.46s/batch]\n"
     ]
    },
    {
     "name": "stdout",
     "output_type": "stream",
     "text": [
      "Epoch 61/100 - Train Loss: 2.6520 - Train acc: 0.3943 - Val Loss: 2.7946 - Val acc: 0.3498\n",
      "Learning rate: 0.00025\n"
     ]
    },
    {
     "name": "stderr",
     "output_type": "stream",
     "text": [
      "Epoch 62/100: 100%|███████████████████████████████████████████████████████████████████████████████████████████| 31/31 [00:59<00:00,  1.92s/batch]\n",
      "Validation: 100%|███████████████████████████████████████████████████████████████████████████████████████████████| 4/4 [00:05<00:00,  1.46s/batch]\n"
     ]
    },
    {
     "name": "stdout",
     "output_type": "stream",
     "text": [
      "Saved best model with val acc: 0.3818\n",
      "Epoch 62/100 - Train Loss: 2.6358 - Train acc: 0.4039 - Val Loss: 2.7353 - Val acc: 0.3818\n",
      "Learning rate: 0.00025\n"
     ]
    },
    {
     "name": "stderr",
     "output_type": "stream",
     "text": [
      "Epoch 63/100: 100%|███████████████████████████████████████████████████████████████████████████████████████████| 31/31 [00:59<00:00,  1.93s/batch]\n",
      "Validation: 100%|███████████████████████████████████████████████████████████████████████████████████████████████| 4/4 [00:05<00:00,  1.44s/batch]\n"
     ]
    },
    {
     "name": "stdout",
     "output_type": "stream",
     "text": [
      "Epoch 63/100 - Train Loss: 2.6189 - Train acc: 0.4103 - Val Loss: 2.7245 - Val acc: 0.3596\n",
      "Learning rate: 0.00025\n"
     ]
    },
    {
     "name": "stderr",
     "output_type": "stream",
     "text": [
      "Epoch 64/100: 100%|███████████████████████████████████████████████████████████████████████████████████████████| 31/31 [00:59<00:00,  1.91s/batch]\n",
      "Validation: 100%|███████████████████████████████████████████████████████████████████████████████████████████████| 4/4 [00:05<00:00,  1.41s/batch]\n"
     ]
    },
    {
     "name": "stdout",
     "output_type": "stream",
     "text": [
      "Saved best model with val acc: 0.3842\n",
      "Epoch 64/100 - Train Loss: 2.5994 - Train acc: 0.4133 - Val Loss: 2.7337 - Val acc: 0.3842\n",
      "Learning rate: 0.00025\n"
     ]
    },
    {
     "name": "stderr",
     "output_type": "stream",
     "text": [
      "Epoch 65/100: 100%|███████████████████████████████████████████████████████████████████████████████████████████| 31/31 [00:57<00:00,  1.87s/batch]\n",
      "Validation: 100%|███████████████████████████████████████████████████████████████████████████████████████████████| 4/4 [00:05<00:00,  1.39s/batch]\n"
     ]
    },
    {
     "name": "stdout",
     "output_type": "stream",
     "text": [
      "Epoch 65/100 - Train Loss: 2.5967 - Train acc: 0.4207 - Val Loss: 2.7477 - Val acc: 0.3842\n",
      "Learning rate: 0.00025\n"
     ]
    },
    {
     "name": "stderr",
     "output_type": "stream",
     "text": [
      "Epoch 66/100: 100%|███████████████████████████████████████████████████████████████████████████████████████████| 31/31 [00:57<00:00,  1.87s/batch]\n",
      "Validation: 100%|███████████████████████████████████████████████████████████████████████████████████████████████| 4/4 [00:05<00:00,  1.39s/batch]\n"
     ]
    },
    {
     "name": "stdout",
     "output_type": "stream",
     "text": [
      "Epoch 66/100 - Train Loss: 2.5765 - Train acc: 0.4151 - Val Loss: 2.8042 - Val acc: 0.3818\n",
      "Learning rate: 0.00025\n"
     ]
    },
    {
     "name": "stderr",
     "output_type": "stream",
     "text": [
      "Epoch 67/100: 100%|███████████████████████████████████████████████████████████████████████████████████████████| 31/31 [00:57<00:00,  1.85s/batch]\n",
      "Validation: 100%|███████████████████████████████████████████████████████████████████████████████████████████████| 4/4 [00:05<00:00,  1.42s/batch]\n"
     ]
    },
    {
     "name": "stdout",
     "output_type": "stream",
     "text": [
      "Epoch 67/100 - Train Loss: 2.5673 - Train acc: 0.4328 - Val Loss: 2.7982 - Val acc: 0.3768\n",
      "Learning rate: 0.00025\n"
     ]
    },
    {
     "name": "stderr",
     "output_type": "stream",
     "text": [
      "Epoch 68/100: 100%|███████████████████████████████████████████████████████████████████████████████████████████| 31/31 [00:57<00:00,  1.84s/batch]\n",
      "Validation: 100%|███████████████████████████████████████████████████████████████████████████████████████████████| 4/4 [00:05<00:00,  1.41s/batch]\n"
     ]
    },
    {
     "name": "stdout",
     "output_type": "stream",
     "text": [
      "Saved best model with val acc: 0.3867\n",
      "Epoch 68/100 - Train Loss: 2.5443 - Train acc: 0.4303 - Val Loss: 2.8200 - Val acc: 0.3867\n",
      "Learning rate: 0.00025\n"
     ]
    },
    {
     "name": "stderr",
     "output_type": "stream",
     "text": [
      "Epoch 69/100: 100%|███████████████████████████████████████████████████████████████████████████████████████████| 31/31 [00:57<00:00,  1.87s/batch]\n",
      "Validation: 100%|███████████████████████████████████████████████████████████████████████████████████████████████| 4/4 [00:05<00:00,  1.38s/batch]\n"
     ]
    },
    {
     "name": "stdout",
     "output_type": "stream",
     "text": [
      "Epoch 69/100 - Train Loss: 2.5245 - Train acc: 0.4455 - Val Loss: 2.6995 - Val acc: 0.3818\n",
      "Learning rate: 0.00025\n"
     ]
    },
    {
     "name": "stderr",
     "output_type": "stream",
     "text": [
      "Epoch 70/100: 100%|███████████████████████████████████████████████████████████████████████████████████████████| 31/31 [00:57<00:00,  1.86s/batch]\n",
      "Validation: 100%|███████████████████████████████████████████████████████████████████████████████████████████████| 4/4 [00:05<00:00,  1.39s/batch]\n"
     ]
    },
    {
     "name": "stdout",
     "output_type": "stream",
     "text": [
      "Saved best model with val acc: 0.4039\n",
      "Epoch 70/100 - Train Loss: 2.5073 - Train acc: 0.4450 - Val Loss: 2.7344 - Val acc: 0.4039\n",
      "Learning rate: 0.00025\n"
     ]
    },
    {
     "name": "stderr",
     "output_type": "stream",
     "text": [
      "Epoch 71/100: 100%|███████████████████████████████████████████████████████████████████████████████████████████| 31/31 [00:57<00:00,  1.84s/batch]\n",
      "Validation: 100%|███████████████████████████████████████████████████████████████████████████████████████████████| 4/4 [00:05<00:00,  1.41s/batch]\n"
     ]
    },
    {
     "name": "stdout",
     "output_type": "stream",
     "text": [
      "Epoch 71/100 - Train Loss: 2.4736 - Train acc: 0.4508 - Val Loss: 2.7103 - Val acc: 0.3842\n",
      "Learning rate: 0.00025\n"
     ]
    },
    {
     "name": "stderr",
     "output_type": "stream",
     "text": [
      "Epoch 72/100: 100%|███████████████████████████████████████████████████████████████████████████████████████████| 31/31 [00:57<00:00,  1.85s/batch]\n",
      "Validation: 100%|███████████████████████████████████████████████████████████████████████████████████████████████| 4/4 [00:05<00:00,  1.41s/batch]\n"
     ]
    },
    {
     "name": "stdout",
     "output_type": "stream",
     "text": [
      "Epoch 72/100 - Train Loss: 2.4669 - Train acc: 0.4601 - Val Loss: 2.7964 - Val acc: 0.3941\n",
      "Learning rate: 0.00025\n"
     ]
    },
    {
     "name": "stderr",
     "output_type": "stream",
     "text": [
      "Epoch 73/100: 100%|███████████████████████████████████████████████████████████████████████████████████████████| 31/31 [00:58<00:00,  1.87s/batch]\n",
      "Validation: 100%|███████████████████████████████████████████████████████████████████████████████████████████████| 4/4 [00:05<00:00,  1.40s/batch]\n"
     ]
    },
    {
     "name": "stdout",
     "output_type": "stream",
     "text": [
      "Saved best model with val acc: 0.4089\n",
      "Epoch 73/100 - Train Loss: 2.4726 - Train acc: 0.4586 - Val Loss: 2.7153 - Val acc: 0.4089\n",
      "Learning rate: 0.00025\n"
     ]
    },
    {
     "name": "stderr",
     "output_type": "stream",
     "text": [
      "Epoch 74/100: 100%|███████████████████████████████████████████████████████████████████████████████████████████| 31/31 [00:57<00:00,  1.86s/batch]\n",
      "Validation: 100%|███████████████████████████████████████████████████████████████████████████████████████████████| 4/4 [00:05<00:00,  1.39s/batch]\n"
     ]
    },
    {
     "name": "stdout",
     "output_type": "stream",
     "text": [
      "Epoch 74/100 - Train Loss: 2.4416 - Train acc: 0.4655 - Val Loss: 2.6851 - Val acc: 0.4015\n",
      "Learning rate: 0.00025\n"
     ]
    },
    {
     "name": "stderr",
     "output_type": "stream",
     "text": [
      "Epoch 75/100: 100%|███████████████████████████████████████████████████████████████████████████████████████████| 31/31 [00:57<00:00,  1.85s/batch]\n",
      "Validation: 100%|███████████████████████████████████████████████████████████████████████████████████████████████| 4/4 [00:05<00:00,  1.40s/batch]\n"
     ]
    },
    {
     "name": "stdout",
     "output_type": "stream",
     "text": [
      "Epoch 75/100 - Train Loss: 2.4326 - Train acc: 0.4670 - Val Loss: 2.8015 - Val acc: 0.3916\n",
      "Learning rate: 0.00025\n"
     ]
    },
    {
     "name": "stderr",
     "output_type": "stream",
     "text": [
      "Epoch 76/100: 100%|███████████████████████████████████████████████████████████████████████████████████████████| 31/31 [00:57<00:00,  1.87s/batch]\n",
      "Validation: 100%|███████████████████████████████████████████████████████████████████████████████████████████████| 4/4 [00:05<00:00,  1.41s/batch]\n"
     ]
    },
    {
     "name": "stdout",
     "output_type": "stream",
     "text": [
      "Epoch 76/100 - Train Loss: 2.4345 - Train acc: 0.4672 - Val Loss: 2.7109 - Val acc: 0.4089\n",
      "Learning rate: 0.00025\n"
     ]
    },
    {
     "name": "stderr",
     "output_type": "stream",
     "text": [
      "Epoch 77/100: 100%|███████████████████████████████████████████████████████████████████████████████████████████| 31/31 [00:58<00:00,  1.89s/batch]\n",
      "Validation: 100%|███████████████████████████████████████████████████████████████████████████████████████████████| 4/4 [00:05<00:00,  1.45s/batch]\n"
     ]
    },
    {
     "name": "stdout",
     "output_type": "stream",
     "text": [
      "Epoch 77/100 - Train Loss: 2.4060 - Train acc: 0.4753 - Val Loss: 2.7191 - Val acc: 0.3966\n",
      "Learning rate: 0.00025\n"
     ]
    },
    {
     "name": "stderr",
     "output_type": "stream",
     "text": [
      "Epoch 78/100: 100%|███████████████████████████████████████████████████████████████████████████████████████████| 31/31 [01:00<00:00,  1.94s/batch]\n",
      "Validation: 100%|███████████████████████████████████████████████████████████████████████████████████████████████| 4/4 [00:05<00:00,  1.48s/batch]\n"
     ]
    },
    {
     "name": "stdout",
     "output_type": "stream",
     "text": [
      "Saved best model with val acc: 0.4113\n",
      "Epoch 78/100 - Train Loss: 2.3521 - Train acc: 0.4941 - Val Loss: 2.7463 - Val acc: 0.4113\n",
      "Learning rate: 0.00025\n"
     ]
    },
    {
     "name": "stderr",
     "output_type": "stream",
     "text": [
      "Epoch 79/100: 100%|███████████████████████████████████████████████████████████████████████████████████████████| 31/31 [00:59<00:00,  1.92s/batch]\n",
      "Validation: 100%|███████████████████████████████████████████████████████████████████████████████████████████████| 4/4 [00:05<00:00,  1.42s/batch]\n"
     ]
    },
    {
     "name": "stdout",
     "output_type": "stream",
     "text": [
      "Epoch 79/100 - Train Loss: 2.3405 - Train acc: 0.5022 - Val Loss: 2.6706 - Val acc: 0.3966\n",
      "Learning rate: 0.00025\n"
     ]
    },
    {
     "name": "stderr",
     "output_type": "stream",
     "text": [
      "Epoch 80/100: 100%|███████████████████████████████████████████████████████████████████████████████████████████| 31/31 [00:58<00:00,  1.89s/batch]\n",
      "Validation: 100%|███████████████████████████████████████████████████████████████████████████████████████████████| 4/4 [00:05<00:00,  1.38s/batch]\n"
     ]
    },
    {
     "name": "stdout",
     "output_type": "stream",
     "text": [
      "Saved best model with val acc: 0.4236\n",
      "Epoch 80/100 - Train Loss: 2.3237 - Train acc: 0.5049 - Val Loss: 2.7014 - Val acc: 0.4236\n",
      "Learning rate: 0.00025\n"
     ]
    },
    {
     "name": "stderr",
     "output_type": "stream",
     "text": [
      "Epoch 81/100: 100%|███████████████████████████████████████████████████████████████████████████████████████████| 31/31 [00:57<00:00,  1.84s/batch]\n",
      "Validation: 100%|███████████████████████████████████████████████████████████████████████████████████████████████| 4/4 [00:05<00:00,  1.39s/batch]\n"
     ]
    },
    {
     "name": "stdout",
     "output_type": "stream",
     "text": [
      "Epoch 81/100 - Train Loss: 2.2994 - Train acc: 0.5092 - Val Loss: 2.7200 - Val acc: 0.4138\n",
      "Learning rate: 0.00025\n"
     ]
    },
    {
     "name": "stderr",
     "output_type": "stream",
     "text": [
      "Epoch 82/100: 100%|███████████████████████████████████████████████████████████████████████████████████████████| 31/31 [00:57<00:00,  1.86s/batch]\n",
      "Validation: 100%|███████████████████████████████████████████████████████████████████████████████████████████████| 4/4 [00:05<00:00,  1.39s/batch]\n"
     ]
    },
    {
     "name": "stdout",
     "output_type": "stream",
     "text": [
      "Epoch 82/100 - Train Loss: 2.3325 - Train acc: 0.5110 - Val Loss: 2.6960 - Val acc: 0.4089\n",
      "Learning rate: 0.00025\n"
     ]
    },
    {
     "name": "stderr",
     "output_type": "stream",
     "text": [
      "Epoch 83/100: 100%|███████████████████████████████████████████████████████████████████████████████████████████| 31/31 [00:57<00:00,  1.86s/batch]\n",
      "Validation: 100%|███████████████████████████████████████████████████████████████████████████████████████████████| 4/4 [00:05<00:00,  1.40s/batch]\n"
     ]
    },
    {
     "name": "stdout",
     "output_type": "stream",
     "text": [
      "Epoch 83/100 - Train Loss: 2.2962 - Train acc: 0.5138 - Val Loss: 2.6502 - Val acc: 0.4163\n",
      "Learning rate: 0.00025\n"
     ]
    },
    {
     "name": "stderr",
     "output_type": "stream",
     "text": [
      "Epoch 84/100: 100%|███████████████████████████████████████████████████████████████████████████████████████████| 31/31 [00:57<00:00,  1.86s/batch]\n",
      "Validation: 100%|███████████████████████████████████████████████████████████████████████████████████████████████| 4/4 [00:05<00:00,  1.38s/batch]\n"
     ]
    },
    {
     "name": "stdout",
     "output_type": "stream",
     "text": [
      "Epoch 84/100 - Train Loss: 2.2657 - Train acc: 0.5297 - Val Loss: 2.6642 - Val acc: 0.4039\n",
      "Learning rate: 0.00025\n"
     ]
    },
    {
     "name": "stderr",
     "output_type": "stream",
     "text": [
      "Epoch 85/100: 100%|███████████████████████████████████████████████████████████████████████████████████████████| 31/31 [00:57<00:00,  1.85s/batch]\n",
      "Validation: 100%|███████████████████████████████████████████████████████████████████████████████████████████████| 4/4 [00:05<00:00,  1.38s/batch]\n"
     ]
    },
    {
     "name": "stdout",
     "output_type": "stream",
     "text": [
      "Epoch 85/100 - Train Loss: 2.2545 - Train acc: 0.5264 - Val Loss: 2.6250 - Val acc: 0.4212\n",
      "Learning rate: 0.00025\n"
     ]
    },
    {
     "name": "stderr",
     "output_type": "stream",
     "text": [
      "Epoch 86/100: 100%|███████████████████████████████████████████████████████████████████████████████████████████| 31/31 [01:00<00:00,  1.94s/batch]\n",
      "Validation: 100%|███████████████████████████████████████████████████████████████████████████████████████████████| 4/4 [00:05<00:00,  1.48s/batch]\n"
     ]
    },
    {
     "name": "stdout",
     "output_type": "stream",
     "text": [
      "Epoch 86/100 - Train Loss: 2.2280 - Train acc: 0.5373 - Val Loss: 2.6491 - Val acc: 0.4212\n",
      "Learning rate: 0.000125\n"
     ]
    },
    {
     "name": "stderr",
     "output_type": "stream",
     "text": [
      "Epoch 87/100: 100%|███████████████████████████████████████████████████████████████████████████████████████████| 31/31 [01:02<00:00,  2.02s/batch]\n",
      "Validation: 100%|███████████████████████████████████████████████████████████████████████████████████████████████| 4/4 [00:05<00:00,  1.39s/batch]\n"
     ]
    },
    {
     "name": "stdout",
     "output_type": "stream",
     "text": [
      "Epoch 87/100 - Train Loss: 2.1418 - Train acc: 0.5715 - Val Loss: 2.6254 - Val acc: 0.4236\n",
      "Learning rate: 0.000125\n"
     ]
    },
    {
     "name": "stderr",
     "output_type": "stream",
     "text": [
      "Epoch 88/100: 100%|███████████████████████████████████████████████████████████████████████████████████████████| 31/31 [00:57<00:00,  1.85s/batch]\n",
      "Validation: 100%|███████████████████████████████████████████████████████████████████████████████████████████████| 4/4 [00:05<00:00,  1.40s/batch]\n"
     ]
    },
    {
     "name": "stdout",
     "output_type": "stream",
     "text": [
      "Saved best model with val acc: 0.4433\n",
      "Epoch 88/100 - Train Loss: 2.1468 - Train acc: 0.5652 - Val Loss: 2.6368 - Val acc: 0.4433\n",
      "Learning rate: 0.000125\n"
     ]
    },
    {
     "name": "stderr",
     "output_type": "stream",
     "text": [
      "Epoch 89/100: 100%|███████████████████████████████████████████████████████████████████████████████████████████| 31/31 [00:59<00:00,  1.91s/batch]\n",
      "Validation: 100%|███████████████████████████████████████████████████████████████████████████████████████████████| 4/4 [00:05<00:00,  1.45s/batch]\n"
     ]
    },
    {
     "name": "stdout",
     "output_type": "stream",
     "text": [
      "Epoch 89/100 - Train Loss: 2.0964 - Train acc: 0.5859 - Val Loss: 2.6237 - Val acc: 0.4310\n",
      "Learning rate: 0.000125\n"
     ]
    },
    {
     "name": "stderr",
     "output_type": "stream",
     "text": [
      "Epoch 90/100: 100%|███████████████████████████████████████████████████████████████████████████████████████████| 31/31 [00:58<00:00,  1.87s/batch]\n",
      "Validation: 100%|███████████████████████████████████████████████████████████████████████████████████████████████| 4/4 [00:05<00:00,  1.39s/batch]\n"
     ]
    },
    {
     "name": "stdout",
     "output_type": "stream",
     "text": [
      "Epoch 90/100 - Train Loss: 2.0942 - Train acc: 0.5892 - Val Loss: 2.6485 - Val acc: 0.4261\n",
      "Learning rate: 0.000125\n"
     ]
    },
    {
     "name": "stderr",
     "output_type": "stream",
     "text": [
      "Epoch 91/100: 100%|███████████████████████████████████████████████████████████████████████████████████████████| 31/31 [00:57<00:00,  1.84s/batch]\n",
      "Validation: 100%|███████████████████████████████████████████████████████████████████████████████████████████████| 4/4 [00:05<00:00,  1.39s/batch]\n"
     ]
    },
    {
     "name": "stdout",
     "output_type": "stream",
     "text": [
      "Saved best model with val acc: 0.4606\n",
      "Epoch 91/100 - Train Loss: 2.0802 - Train acc: 0.5925 - Val Loss: 2.6202 - Val acc: 0.4606\n",
      "Learning rate: 0.000125\n"
     ]
    },
    {
     "name": "stderr",
     "output_type": "stream",
     "text": [
      "Epoch 92/100: 100%|███████████████████████████████████████████████████████████████████████████████████████████| 31/31 [00:57<00:00,  1.85s/batch]\n",
      "Validation: 100%|███████████████████████████████████████████████████████████████████████████████████████████████| 4/4 [00:05<00:00,  1.39s/batch]\n"
     ]
    },
    {
     "name": "stdout",
     "output_type": "stream",
     "text": [
      "Epoch 92/100 - Train Loss: 2.0780 - Train acc: 0.5968 - Val Loss: 2.6355 - Val acc: 0.4507\n",
      "Learning rate: 0.000125\n"
     ]
    },
    {
     "name": "stderr",
     "output_type": "stream",
     "text": [
      "Epoch 93/100: 100%|███████████████████████████████████████████████████████████████████████████████████████████| 31/31 [00:57<00:00,  1.84s/batch]\n",
      "Validation: 100%|███████████████████████████████████████████████████████████████████████████████████████████████| 4/4 [00:05<00:00,  1.39s/batch]\n"
     ]
    },
    {
     "name": "stdout",
     "output_type": "stream",
     "text": [
      "Epoch 93/100 - Train Loss: 2.0520 - Train acc: 0.5991 - Val Loss: 2.6042 - Val acc: 0.4433\n",
      "Learning rate: 0.000125\n"
     ]
    },
    {
     "name": "stderr",
     "output_type": "stream",
     "text": [
      "Epoch 94/100: 100%|███████████████████████████████████████████████████████████████████████████████████████████| 31/31 [00:56<00:00,  1.84s/batch]\n",
      "Validation: 100%|███████████████████████████████████████████████████████████████████████████████████████████████| 4/4 [00:05<00:00,  1.38s/batch]\n"
     ]
    },
    {
     "name": "stdout",
     "output_type": "stream",
     "text": [
      "Epoch 94/100 - Train Loss: 2.0187 - Train acc: 0.6125 - Val Loss: 2.6499 - Val acc: 0.4212\n",
      "Learning rate: 0.000125\n"
     ]
    },
    {
     "name": "stderr",
     "output_type": "stream",
     "text": [
      "Epoch 95/100: 100%|███████████████████████████████████████████████████████████████████████████████████████████| 31/31 [00:56<00:00,  1.83s/batch]\n",
      "Validation: 100%|███████████████████████████████████████████████████████████████████████████████████████████████| 4/4 [00:05<00:00,  1.40s/batch]\n"
     ]
    },
    {
     "name": "stdout",
     "output_type": "stream",
     "text": [
      "Epoch 95/100 - Train Loss: 2.0070 - Train acc: 0.6168 - Val Loss: 2.6238 - Val acc: 0.4409\n",
      "Learning rate: 0.000125\n"
     ]
    },
    {
     "name": "stderr",
     "output_type": "stream",
     "text": [
      "Epoch 96/100: 100%|███████████████████████████████████████████████████████████████████████████████████████████| 31/31 [00:56<00:00,  1.83s/batch]\n",
      "Validation: 100%|███████████████████████████████████████████████████████████████████████████████████████████████| 4/4 [00:05<00:00,  1.38s/batch]\n"
     ]
    },
    {
     "name": "stdout",
     "output_type": "stream",
     "text": [
      "Epoch 96/100 - Train Loss: 1.9720 - Train acc: 0.6383 - Val Loss: 2.6456 - Val acc: 0.4310\n",
      "Learning rate: 0.000125\n"
     ]
    },
    {
     "name": "stderr",
     "output_type": "stream",
     "text": [
      "Epoch 97/100: 100%|███████████████████████████████████████████████████████████████████████████████████████████| 31/31 [00:57<00:00,  1.85s/batch]\n",
      "Validation: 100%|███████████████████████████████████████████████████████████████████████████████████████████████| 4/4 [00:05<00:00,  1.38s/batch]\n"
     ]
    },
    {
     "name": "stdout",
     "output_type": "stream",
     "text": [
      "Epoch 97/100 - Train Loss: 1.9787 - Train acc: 0.6320 - Val Loss: 2.6534 - Val acc: 0.4039\n",
      "Learning rate: 6.25e-05\n"
     ]
    },
    {
     "name": "stderr",
     "output_type": "stream",
     "text": [
      "Epoch 98/100: 100%|███████████████████████████████████████████████████████████████████████████████████████████| 31/31 [00:56<00:00,  1.84s/batch]\n",
      "Validation: 100%|███████████████████████████████████████████████████████████████████████████████████████████████| 4/4 [00:05<00:00,  1.39s/batch]\n"
     ]
    },
    {
     "name": "stdout",
     "output_type": "stream",
     "text": [
      "Saved best model with val acc: 0.4631\n",
      "Epoch 98/100 - Train Loss: 1.9370 - Train acc: 0.6386 - Val Loss: 2.5889 - Val acc: 0.4631\n",
      "Learning rate: 6.25e-05\n"
     ]
    },
    {
     "name": "stderr",
     "output_type": "stream",
     "text": [
      "Epoch 99/100: 100%|███████████████████████████████████████████████████████████████████████████████████████████| 31/31 [00:57<00:00,  1.85s/batch]\n",
      "Validation: 100%|███████████████████████████████████████████████████████████████████████████████████████████████| 4/4 [00:05<00:00,  1.37s/batch]\n"
     ]
    },
    {
     "name": "stdout",
     "output_type": "stream",
     "text": [
      "Epoch 99/100 - Train Loss: 1.9074 - Train acc: 0.6588 - Val Loss: 2.6126 - Val acc: 0.4483\n",
      "Learning rate: 6.25e-05\n"
     ]
    },
    {
     "name": "stderr",
     "output_type": "stream",
     "text": [
      "Epoch 100/100: 100%|██████████████████████████████████████████████████████████████████████████████████████████| 31/31 [00:56<00:00,  1.84s/batch]\n",
      "Validation: 100%|███████████████████████████████████████████████████████████████████████████████████████████████| 4/4 [00:05<00:00,  1.47s/batch]"
     ]
    },
    {
     "name": "stdout",
     "output_type": "stream",
     "text": [
      "Epoch 100/100 - Train Loss: 1.8856 - Train acc: 0.6649 - Val Loss: 2.6235 - Val acc: 0.4483\n",
      "Learning rate: 6.25e-05\n",
      "Saving t-SNE and features at epoch 100...\n"
     ]
    },
    {
     "name": "stderr",
     "output_type": "stream",
     "text": [
      "\n"
     ]
    },
    {
     "name": "stdout",
     "output_type": "stream",
     "text": [
      "Saved features and labels for epoch 100 to ./TSNE_feature_label\n",
      "Saved t-SNE plot for epoch 100 to ./TSNE_plots/tsne_epoch_100.png\n"
     ]
    }
   ],
   "source": [
    "# Training and Validation Loop\n",
    "best_val_acc = 0\n",
    "\n",
    "\n",
    "for epoch in range(num_epochs):\n",
    "\n",
    "    net.train() #開啟BN & DROPOUT\n",
    "    train_loss = 0\n",
    "    total_train = 0\n",
    "    correct_train = 0\n",
    "\n",
    "    for images, targets in tqdm(trainloader, desc=f'Epoch {epoch + 1}/{num_epochs}', unit='batch'):  #進度條以batch完成度為趴數\n",
    "        \n",
    "        images, targets = images.to(device), targets.to(device)# model, input image, output, mask(target, label, GT) are moved to GPU during training\n",
    "\n",
    "        optimizer.zero_grad()\n",
    "        outputs = net(images)\n",
    "        loss = criterion(outputs, targets)\n",
    "        loss.backward()\n",
    "        optimizer.step()\n",
    "        \n",
    "        train_loss += loss.item()\n",
    "\n",
    "        _, predicted = torch.max(outputs.data, 1)\n",
    "        total_train += targets.size(0) #計算all dataset len\n",
    "        correct_train += predicted.eq(targets.data).cpu().sum()\n",
    "\n",
    "    train_loss /= len(trainloader)\n",
    "    acc1 = correct_train / total_train\n",
    "\n",
    "\n",
    "\n",
    "    # Validate\n",
    "    net.eval() #關掉BN & DROPOUT\n",
    "    val_loss = 0\n",
    "    total_val = 0\n",
    "    correct_val = 0\n",
    "\n",
    "    with torch.no_grad():\n",
    "        for images, targets in tqdm(valloader, desc='Validation', unit='batch'):\n",
    "            images, targets = images.to(device), targets.to(device)\n",
    "\n",
    "            outputs = net(images)  #(bs, 7, 512, 512)\n",
    "            loss = criterion(outputs, targets) \n",
    "\n",
    "\n",
    "            val_loss += loss.item()\n",
    "\n",
    "            _, predicted = torch.max(outputs.data, 1)\n",
    "            total_val += targets.size(0) #計算all dataset len\n",
    "            correct_val += predicted.eq(targets.data).cpu().sum()\n",
    "\n",
    "    \n",
    "    val_loss /= len(valloader)\n",
    "    acc2 = correct_val / total_val\n",
    "    \n",
    "    # Save best model\n",
    "    if acc2 > best_val_acc:\n",
    "        best_val_acc = acc2\n",
    "        torch.save(net.state_dict(), os.path.join(\"../../../\", \"checkpoint_model\", \"P1\", \"Fine_tune\", \"C\", \"best_val_acc_model.pth\"))\n",
    "        print(f'Saved best model with val acc: {acc2:.4f}')\n",
    "\n",
    "\n",
    "    scheduler.step(acc2)\n",
    "\n",
    "\n",
    "    # Logging\n",
    "    print(f'Epoch {epoch + 1}/{num_epochs} - Train Loss: {train_loss:.4f} - Train acc: {acc1:.4f} - Val Loss: {val_loss:.4f} - Val acc: {acc2:.4f}')\n",
    "    print(f'Learning rate: {scheduler.get_last_lr()[0]}')\n",
    "    \n",
    "\n",
    "    # Save t-SNE visualization and features for first and last epochs\n",
    "    if epoch == 0 or epoch == num_epochs - 1:\n",
    "        print(f\"Saving t-SNE and features at epoch {epoch + 1}...\")\n",
    "        features, labels = get_tsne_data(net, trainloader, epoch + 1)\n",
    "        plot_tsne(features, labels, epoch + 1)"
   ]
  },
  {
   "cell_type": "code",
   "execution_count": null,
   "metadata": {},
   "outputs": [],
   "source": []
  }
 ],
 "metadata": {
  "kernelspec": {
   "display_name": "Python 3 (ipykernel)",
   "language": "python",
   "name": "python3"
  },
  "language_info": {
   "codemirror_mode": {
    "name": "ipython",
    "version": 3
   },
   "file_extension": ".py",
   "mimetype": "text/x-python",
   "name": "python",
   "nbconvert_exporter": "python",
   "pygments_lexer": "ipython3",
   "version": "3.8.19"
  }
 },
 "nbformat": 4,
 "nbformat_minor": 4
}
